{
  "nbformat": 4,
  "nbformat_minor": 0,
  "metadata": {
    "colab": {
      "provenance": [],
      "collapsed_sections": [
        "fhOZDM8gv3uu",
        "FeXN9PXKyI21"
      ],
      "include_colab_link": true
    },
    "kernelspec": {
      "display_name": "Python 3",
      "name": "python3"
    },
    "language_info": {
      "name": "python"
    }
  },
  "cells": [
    {
      "cell_type": "markdown",
      "metadata": {
        "id": "view-in-github",
        "colab_type": "text"
      },
      "source": [
        "<a href=\"https://colab.research.google.com/github/githubramaadiga/Titash/blob/master/Copy_of_SequenceAnalytics.ipynb\" target=\"_parent\"><img src=\"https://colab.research.google.com/assets/colab-badge.svg\" alt=\"Open In Colab\"/></a>"
      ]
    },
    {
      "cell_type": "code",
      "metadata": {
        "colab": {
          "base_uri": "https://localhost:8080/"
        },
        "id": "cNRjF2u6-IRw",
        "outputId": "b683d038-ba0a-484a-be5b-f7248b76e09c"
      },
      "source": [
        "!pip install biopython\n",
        "!pip install pqdm"
      ],
      "execution_count": null,
      "outputs": [
        {
          "output_type": "stream",
          "name": "stdout",
          "text": [
            "Collecting biopython\n",
            "  Downloading biopython-1.83-cp310-cp310-manylinux_2_17_x86_64.manylinux2014_x86_64.whl (3.1 MB)\n",
            "\u001b[2K     \u001b[90m━━━━━━━━━━━━━━━━━━━━━━━━━━━━━━━━━━━━━━━━\u001b[0m \u001b[32m3.1/3.1 MB\u001b[0m \u001b[31m5.6 MB/s\u001b[0m eta \u001b[36m0:00:00\u001b[0m\n",
            "\u001b[?25hRequirement already satisfied: numpy in /usr/local/lib/python3.10/dist-packages (from biopython) (1.23.5)\n",
            "Installing collected packages: biopython\n",
            "Successfully installed biopython-1.83\n",
            "Collecting pqdm\n",
            "  Downloading pqdm-0.2.0-py2.py3-none-any.whl (6.8 kB)\n",
            "Collecting bounded-pool-executor (from pqdm)\n",
            "  Downloading bounded_pool_executor-0.0.3-py3-none-any.whl (3.4 kB)\n",
            "Requirement already satisfied: tqdm in /usr/local/lib/python3.10/dist-packages (from pqdm) (4.66.1)\n",
            "Requirement already satisfied: typing-extensions in /usr/local/lib/python3.10/dist-packages (from pqdm) (4.5.0)\n",
            "Installing collected packages: bounded-pool-executor, pqdm\n",
            "Successfully installed bounded-pool-executor-0.0.3 pqdm-0.2.0\n"
          ]
        }
      ]
    },
    {
      "cell_type": "code",
      "metadata": {
        "colab": {
          "base_uri": "https://localhost:8080/"
        },
        "id": "wvVoqmEADdw6",
        "outputId": "1b15799d-2cfa-440d-8709-253f2529444e"
      },
      "source": [
        "!wget https://raw.githubusercontent.com/arnavdas88/protein-epitope-analytics/main/uniprot.fasta?token=AJINPMMP2ERHQDUMQXSXFGDBVZZLQ -O uniprot.fasta"
      ],
      "execution_count": null,
      "outputs": [
        {
          "output_type": "stream",
          "name": "stdout",
          "text": [
            "--2024-01-28 02:27:33--  https://raw.githubusercontent.com/arnavdas88/protein-epitope-analytics/main/uniprot.fasta?token=AJINPMMP2ERHQDUMQXSXFGDBVZZLQ\n",
            "Resolving raw.githubusercontent.com (raw.githubusercontent.com)... 185.199.108.133, 185.199.109.133, 185.199.110.133, ...\n",
            "Connecting to raw.githubusercontent.com (raw.githubusercontent.com)|185.199.108.133|:443... connected.\n",
            "HTTP request sent, awaiting response... 200 OK\n",
            "Length: 21935788 (21M) [text/plain]\n",
            "Saving to: ‘uniprot.fasta’\n",
            "\n",
            "uniprot.fasta       100%[===================>]  20.92M  53.0MB/s    in 0.4s    \n",
            "\n",
            "2024-01-28 02:27:36 (53.0 MB/s) - ‘uniprot.fasta’ saved [21935788/21935788]\n",
            "\n"
          ]
        }
      ]
    },
    {
      "cell_type": "code",
      "metadata": {
        "id": "stQVJaBs-VB8"
      },
      "source": [
        "from Bio import SeqIO\n",
        "from tqdm import tqdm\n",
        "# from pqdm.processes import pqdm\n",
        "# from pqdm.threads import pqdm\n",
        "import time\n",
        "\n",
        "import multiprocessing as mp"
      ],
      "execution_count": null,
      "outputs": []
    },
    {
      "cell_type": "code",
      "metadata": {
        "id": "CzkVRf-t-doQ"
      },
      "source": [
        "string = \"\"\n",
        "\n",
        "type_str = {}\n",
        "\n",
        "def get_type(desc):\n",
        "    d = desc.upper()\n",
        "    d = \"DENGUE\" + d.split(\"DENGUE\")[-1]\n",
        "\n",
        "\n",
        "    d = d.split(\" OX=\")[0]\n",
        "    d = d.split(\" (\")[0]\n",
        "    d = d.replace(\"TYPE \", \"\")\n",
        "    return d\n",
        "\n",
        "for record in SeqIO.parse(\"uniprot.fasta\", \"fasta\"):\n",
        "    fragment_id = record.id\n",
        "    name = record.name\n",
        "    description = record.description\n",
        "    seq = record.seq\n",
        "    # print(get_type(description))\n",
        "    # input()\n",
        "\n",
        "    type_str[get_type(description)] = str(seq) + type_str.get(get_type(description), \"\")\n",
        "\n",
        "    string += str(seq)"
      ],
      "execution_count": null,
      "outputs": []
    },
    {
      "cell_type": "code",
      "metadata": {
        "colab": {
          "base_uri": "https://localhost:8080/"
        },
        "id": "fcsRqxOcF6_U",
        "outputId": "e19dae33-eadb-4246-f642-60768883852c"
      },
      "source": [
        "type_str.keys()"
      ],
      "execution_count": null,
      "outputs": [
        {
          "output_type": "execute_result",
          "data": {
            "text/plain": [
              "dict_keys(['DENGUE VIRUS 2', 'DENGUE VIRUS 4', 'DENGUE VIRUS 1', 'DENGUE VIRUS 3', 'DENGUE VIRUS'])"
            ]
          },
          "metadata": {},
          "execution_count": 33
        }
      ]
    },
    {
      "cell_type": "code",
      "metadata": {
        "colab": {
          "base_uri": "https://localhost:8080/"
        },
        "id": "N6iNNePN2CTw",
        "outputId": "5ef1074d-46b3-45d1-ecd6-c271b6c21bb4"
      },
      "source": [
        "len(string)"
      ],
      "execution_count": null,
      "outputs": [
        {
          "output_type": "execute_result",
          "data": {
            "text/plain": [
              "20579995"
            ]
          },
          "metadata": {},
          "execution_count": 34
        }
      ]
    },
    {
      "cell_type": "code",
      "metadata": {
        "id": "xVS_YXVl7M0U"
      },
      "source": [
        "chunk_size = 10"
      ],
      "execution_count": null,
      "outputs": []
    },
    {
      "cell_type": "code",
      "metadata": {
        "id": "OAXTFcyV7Qf2"
      },
      "source": [
        "def find_repeation(string, chunk_size):\n",
        "    repeated_sequence = {}\n",
        "    pure_sequence = []\n",
        "\n",
        "    for i in tqdm(range(0, len(string) - chunk_size)):\n",
        "        chunk = string[i:i+chunk_size]\n",
        "        if chunk in string[i+chunk_size:] or chunk in repeated_sequence:\n",
        "            repeated_sequence[chunk] = repeated_sequence.get(chunk, 0) + 1\n",
        "        else:\n",
        "            pure_sequence += [ chunk ]\n",
        "\n",
        "    return repeated_sequence, pure_sequence"
      ],
      "execution_count": null,
      "outputs": []
    },
    {
      "cell_type": "code",
      "metadata": {
        "id": "cG58u-ehXEoz"
      },
      "source": [
        "def worker_wrapper(*arg):\n",
        "    string, chunk_size = arg\n",
        "    print(string, chunk_size)\n",
        "    return find_repeation(string, chunk_size)\n",
        "\n",
        "def find_parallel_repeation(string, chunk_size, N=None):\n",
        "    string_leb = [string[i:i+N] for i in range(0, len(string), N)]\n",
        "\n",
        "    assert sum([len(s) for s in string_leb]) == len(string)\n",
        "\n",
        "    pool = mp.Pool(mp.cpu_count())\n",
        "    args_list = [ (s, chunk_size) for s in string_leb]\n",
        "    # results = [pool.apply(worker_wrapper, args=args) for args in args_list]\n",
        "    # pool.close()\n",
        "    pool.map(worker_wrapper, args_list)\n",
        "\n",
        "    return result\n",
        "\n",
        "\n",
        "# parallel = int(len(string) / 100) # string_leb\n",
        "# result = find_parallel_repeation(string, chunk_size,  parallel)"
      ],
      "execution_count": null,
      "outputs": []
    },
    {
      "cell_type": "code",
      "metadata": {
        "id": "7N5he03-8xGn"
      },
      "source": [
        "# (repeated_sequence, pure_sequence) = find_repeation(\n",
        "#     string[\n",
        "#            0:                       # The first\n",
        "#            int(len(string)/20)      # 5% of the total data\n",
        "#         ],\n",
        "#     10)                     # Chunk Size: 10"
      ],
      "execution_count": null,
      "outputs": []
    },
    {
      "cell_type": "code",
      "metadata": {
        "id": "T3DZLvPAkTMz"
      },
      "source": [
        "# f'The most common sequence in the first 1% of the dataset is being repeated {max(repeated_sequence.values())} times.'"
      ],
      "execution_count": null,
      "outputs": []
    },
    {
      "cell_type": "code",
      "metadata": {
        "id": "-HciTo4V9WRd"
      },
      "source": [
        "# sorted_by_repetation = dict(sorted(repeated_sequence.items(), key=lambda item: item[1])[-100:])"
      ],
      "execution_count": null,
      "outputs": []
    },
    {
      "cell_type": "code",
      "metadata": {
        "id": "1Bnv8d84YY4v"
      },
      "source": [
        "# sorted_by_repetation"
      ],
      "execution_count": null,
      "outputs": []
    },
    {
      "cell_type": "code",
      "metadata": {
        "id": "64QAtMWQPyvs"
      },
      "source": [
        "def merge(dictA, dictB):\n",
        "    for key, value in dictA.items():\n",
        "        if key in dictB:\n",
        "            dictB[key] += value\n",
        "        else:\n",
        "            dictB[key] = value\n",
        "    return dictB.copy()"
      ],
      "execution_count": null,
      "outputs": []
    },
    {
      "cell_type": "code",
      "metadata": {
        "id": "txKl2Pzc71os"
      },
      "source": [
        "from multiprocessing import Pool\n",
        "\n",
        "def total_data(chunk = 20):\n",
        "\n",
        "    batches = [i for i in range(0, 101, 5)]\n",
        "\n",
        "    args = []\n",
        "\n",
        "    for i in range(len(batches) - 1):\n",
        "        start = batches[i]\n",
        "        end   = batches[i+1]\n",
        "\n",
        "        start = int(len(string) * (start / 100))\n",
        "        end = int(len(string) * (end / 100))\n",
        "\n",
        "        args += [ (string[start:end], chunk) ]\n",
        "\n",
        "    pool = Pool()\n",
        "    data = pool.starmap(find_repeation, args)\n",
        "\n",
        "    all_repeated_sequence = {}\n",
        "\n",
        "    print(\"Merging the sequences...\")\n",
        "\n",
        "    for n in range(len(batches) - 1):\n",
        "        (repeated_sequence, _) = data[n]\n",
        "        all_repeated_sequence = merge(all_repeated_sequence, repeated_sequence)\n",
        "        del repeated_sequence\n",
        "\n",
        "    return all_repeated_sequence"
      ],
      "execution_count": null,
      "outputs": []
    },
    {
      "cell_type": "code",
      "metadata": {
        "colab": {
          "base_uri": "https://localhost:8080/"
        },
        "id": "clKAw3ER9zbk",
        "outputId": "2a8bad82-4aca-4e2b-d2ef-4b1ff78122ee"
      },
      "source": [
        "repeated_sequence = total_data(chunk = 10)"
      ],
      "execution_count": null,
      "outputs": [
        {
          "output_type": "stream",
          "name": "stderr",
          "text": [
            "100%|██████████| 1028990/1028990 [01:36<00:00, 10638.76it/s]\n",
            "100%|██████████| 1028989/1028989 [01:42<00:00, 10036.80it/s]\n",
            "100%|██████████| 1028990/1028990 [01:27<00:00, 11694.97it/s]\n",
            "100%|██████████| 1028989/1028989 [01:36<00:00, 10668.04it/s]\n",
            "100%|██████████| 1028990/1028990 [01:34<00:00, 10835.80it/s]\n",
            "100%|██████████| 1028990/1028990 [01:34<00:00, 10847.62it/s]\n",
            "100%|██████████| 1028990/1028990 [01:33<00:00, 11012.00it/s]\n",
            "100%|██████████| 1028990/1028990 [01:34<00:00, 10927.78it/s]\n",
            "100%|██████████| 1028990/1028990 [01:27<00:00, 11750.93it/s]\n",
            "100%|██████████| 1028990/1028990 [01:35<00:00, 10723.59it/s]\n",
            "100%|██████████| 1028989/1028989 [01:37<00:00, 10530.89it/s]\n",
            "100%|██████████| 1028990/1028990 [01:27<00:00, 11804.35it/s]\n",
            "100%|██████████| 1028989/1028989 [01:23<00:00, 12308.34it/s]\n",
            " 10%|█         | 104945/1028990 [00:13<01:41, 9076.82it/s]\n",
            "100%|██████████| 1028990/1028990 [01:27<00:00, 11763.92it/s]\n",
            "100%|██████████| 1028989/1028989 [01:34<00:00, 10909.06it/s]\n",
            "100%|██████████| 1028990/1028990 [01:29<00:00, 11482.18it/s]\n",
            "100%|██████████| 1028990/1028990 [01:34<00:00, 10864.58it/s]\n",
            "100%|██████████| 1028990/1028990 [00:53<00:00, 19172.27it/s] \n",
            "100%|██████████| 1028990/1028990 [00:46<00:00, 22082.87it/s] \n"
          ]
        },
        {
          "output_type": "stream",
          "name": "stdout",
          "text": [
            "Merging the sequences...\n"
          ]
        }
      ]
    },
    {
      "cell_type": "code",
      "metadata": {
        "colab": {
          "base_uri": "https://localhost:8080/",
          "height": 36
        },
        "id": "NXCSAdDiJ2Ah",
        "outputId": "84aaee4c-9801-4013-a7a6-11479adfc6ab"
      },
      "source": [
        "f'The most common sequence being repeated {max(repeated_sequence.values())} times.'"
      ],
      "execution_count": null,
      "outputs": [
        {
          "output_type": "execute_result",
          "data": {
            "text/plain": [
              "'The most common sequence being repeated 37433 times.'"
            ],
            "application/vnd.google.colaboratory.intrinsic+json": {
              "type": "string"
            }
          },
          "metadata": {},
          "execution_count": 47
        }
      ]
    },
    {
      "cell_type": "code",
      "metadata": {
        "id": "CDOfLO83lxqU"
      },
      "source": [
        "final_dict = []\n",
        "\n",
        "for seq, rep in repeated_sequence.items():\n",
        "    row = {}\n",
        "    row['Sequence'] = seq\n",
        "    row['Repeation'] = rep\n",
        "    seen_in = []\n",
        "    seen_in = [ variant for variant, data in type_str.items() if seq in data ]\n",
        "    row['Seen In'] = \", \".join(seen_in)\n",
        "\n",
        "    final_dict += [ row ]"
      ],
      "execution_count": null,
      "outputs": []
    },
    {
      "cell_type": "code",
      "metadata": {
        "colab": {
          "base_uri": "https://localhost:8080/",
          "height": 206
        },
        "id": "i9VplwKiITbv",
        "outputId": "8da41a74-d51d-4c6e-c7c9-ebb7d3d9c99b"
      },
      "source": [
        "import pandas as pd\n",
        "\n",
        "df = pd.DataFrame.from_dict(final_dict)\n",
        "\n",
        "df.head()"
      ],
      "execution_count": null,
      "outputs": [
        {
          "output_type": "execute_result",
          "data": {
            "text/plain": [
              "     Sequence  Repeation                                       Seen In\n",
              "0  LRMDKLQLKG       2050  DENGUE VIRUS 2, DENGUE VIRUS 1, DENGUE VIRUS\n",
              "1  RMDKLQLKGM       2047  DENGUE VIRUS 2, DENGUE VIRUS 1, DENGUE VIRUS\n",
              "2  MDKLQLKGMS       2049  DENGUE VIRUS 2, DENGUE VIRUS 1, DENGUE VIRUS\n",
              "3  DKLQLKGMSY       2053  DENGUE VIRUS 2, DENGUE VIRUS 1, DENGUE VIRUS\n",
              "4  KLQLKGMSYS       2042  DENGUE VIRUS 2, DENGUE VIRUS 1, DENGUE VIRUS"
            ],
            "text/html": [
              "\n",
              "  <div id=\"df-6ad18ef5-8870-40ad-ad07-075e1fc9de63\" class=\"colab-df-container\">\n",
              "    <div>\n",
              "<style scoped>\n",
              "    .dataframe tbody tr th:only-of-type {\n",
              "        vertical-align: middle;\n",
              "    }\n",
              "\n",
              "    .dataframe tbody tr th {\n",
              "        vertical-align: top;\n",
              "    }\n",
              "\n",
              "    .dataframe thead th {\n",
              "        text-align: right;\n",
              "    }\n",
              "</style>\n",
              "<table border=\"1\" class=\"dataframe\">\n",
              "  <thead>\n",
              "    <tr style=\"text-align: right;\">\n",
              "      <th></th>\n",
              "      <th>Sequence</th>\n",
              "      <th>Repeation</th>\n",
              "      <th>Seen In</th>\n",
              "    </tr>\n",
              "  </thead>\n",
              "  <tbody>\n",
              "    <tr>\n",
              "      <th>0</th>\n",
              "      <td>LRMDKLQLKG</td>\n",
              "      <td>2050</td>\n",
              "      <td>DENGUE VIRUS 2, DENGUE VIRUS 1, DENGUE VIRUS</td>\n",
              "    </tr>\n",
              "    <tr>\n",
              "      <th>1</th>\n",
              "      <td>RMDKLQLKGM</td>\n",
              "      <td>2047</td>\n",
              "      <td>DENGUE VIRUS 2, DENGUE VIRUS 1, DENGUE VIRUS</td>\n",
              "    </tr>\n",
              "    <tr>\n",
              "      <th>2</th>\n",
              "      <td>MDKLQLKGMS</td>\n",
              "      <td>2049</td>\n",
              "      <td>DENGUE VIRUS 2, DENGUE VIRUS 1, DENGUE VIRUS</td>\n",
              "    </tr>\n",
              "    <tr>\n",
              "      <th>3</th>\n",
              "      <td>DKLQLKGMSY</td>\n",
              "      <td>2053</td>\n",
              "      <td>DENGUE VIRUS 2, DENGUE VIRUS 1, DENGUE VIRUS</td>\n",
              "    </tr>\n",
              "    <tr>\n",
              "      <th>4</th>\n",
              "      <td>KLQLKGMSYS</td>\n",
              "      <td>2042</td>\n",
              "      <td>DENGUE VIRUS 2, DENGUE VIRUS 1, DENGUE VIRUS</td>\n",
              "    </tr>\n",
              "  </tbody>\n",
              "</table>\n",
              "</div>\n",
              "    <div class=\"colab-df-buttons\">\n",
              "\n",
              "  <div class=\"colab-df-container\">\n",
              "    <button class=\"colab-df-convert\" onclick=\"convertToInteractive('df-6ad18ef5-8870-40ad-ad07-075e1fc9de63')\"\n",
              "            title=\"Convert this dataframe to an interactive table.\"\n",
              "            style=\"display:none;\">\n",
              "\n",
              "  <svg xmlns=\"http://www.w3.org/2000/svg\" height=\"24px\" viewBox=\"0 -960 960 960\">\n",
              "    <path d=\"M120-120v-720h720v720H120Zm60-500h600v-160H180v160Zm220 220h160v-160H400v160Zm0 220h160v-160H400v160ZM180-400h160v-160H180v160Zm440 0h160v-160H620v160ZM180-180h160v-160H180v160Zm440 0h160v-160H620v160Z\"/>\n",
              "  </svg>\n",
              "    </button>\n",
              "\n",
              "  <style>\n",
              "    .colab-df-container {\n",
              "      display:flex;\n",
              "      gap: 12px;\n",
              "    }\n",
              "\n",
              "    .colab-df-convert {\n",
              "      background-color: #E8F0FE;\n",
              "      border: none;\n",
              "      border-radius: 50%;\n",
              "      cursor: pointer;\n",
              "      display: none;\n",
              "      fill: #1967D2;\n",
              "      height: 32px;\n",
              "      padding: 0 0 0 0;\n",
              "      width: 32px;\n",
              "    }\n",
              "\n",
              "    .colab-df-convert:hover {\n",
              "      background-color: #E2EBFA;\n",
              "      box-shadow: 0px 1px 2px rgba(60, 64, 67, 0.3), 0px 1px 3px 1px rgba(60, 64, 67, 0.15);\n",
              "      fill: #174EA6;\n",
              "    }\n",
              "\n",
              "    .colab-df-buttons div {\n",
              "      margin-bottom: 4px;\n",
              "    }\n",
              "\n",
              "    [theme=dark] .colab-df-convert {\n",
              "      background-color: #3B4455;\n",
              "      fill: #D2E3FC;\n",
              "    }\n",
              "\n",
              "    [theme=dark] .colab-df-convert:hover {\n",
              "      background-color: #434B5C;\n",
              "      box-shadow: 0px 1px 3px 1px rgba(0, 0, 0, 0.15);\n",
              "      filter: drop-shadow(0px 1px 2px rgba(0, 0, 0, 0.3));\n",
              "      fill: #FFFFFF;\n",
              "    }\n",
              "  </style>\n",
              "\n",
              "    <script>\n",
              "      const buttonEl =\n",
              "        document.querySelector('#df-6ad18ef5-8870-40ad-ad07-075e1fc9de63 button.colab-df-convert');\n",
              "      buttonEl.style.display =\n",
              "        google.colab.kernel.accessAllowed ? 'block' : 'none';\n",
              "\n",
              "      async function convertToInteractive(key) {\n",
              "        const element = document.querySelector('#df-6ad18ef5-8870-40ad-ad07-075e1fc9de63');\n",
              "        const dataTable =\n",
              "          await google.colab.kernel.invokeFunction('convertToInteractive',\n",
              "                                                    [key], {});\n",
              "        if (!dataTable) return;\n",
              "\n",
              "        const docLinkHtml = 'Like what you see? Visit the ' +\n",
              "          '<a target=\"_blank\" href=https://colab.research.google.com/notebooks/data_table.ipynb>data table notebook</a>'\n",
              "          + ' to learn more about interactive tables.';\n",
              "        element.innerHTML = '';\n",
              "        dataTable['output_type'] = 'display_data';\n",
              "        await google.colab.output.renderOutput(dataTable, element);\n",
              "        const docLink = document.createElement('div');\n",
              "        docLink.innerHTML = docLinkHtml;\n",
              "        element.appendChild(docLink);\n",
              "      }\n",
              "    </script>\n",
              "  </div>\n",
              "\n",
              "\n",
              "<div id=\"df-fecb804c-c7d1-46a7-afd2-2c006bf881d6\">\n",
              "  <button class=\"colab-df-quickchart\" onclick=\"quickchart('df-fecb804c-c7d1-46a7-afd2-2c006bf881d6')\"\n",
              "            title=\"Suggest charts\"\n",
              "            style=\"display:none;\">\n",
              "\n",
              "<svg xmlns=\"http://www.w3.org/2000/svg\" height=\"24px\"viewBox=\"0 0 24 24\"\n",
              "     width=\"24px\">\n",
              "    <g>\n",
              "        <path d=\"M19 3H5c-1.1 0-2 .9-2 2v14c0 1.1.9 2 2 2h14c1.1 0 2-.9 2-2V5c0-1.1-.9-2-2-2zM9 17H7v-7h2v7zm4 0h-2V7h2v10zm4 0h-2v-4h2v4z\"/>\n",
              "    </g>\n",
              "</svg>\n",
              "  </button>\n",
              "\n",
              "<style>\n",
              "  .colab-df-quickchart {\n",
              "      --bg-color: #E8F0FE;\n",
              "      --fill-color: #1967D2;\n",
              "      --hover-bg-color: #E2EBFA;\n",
              "      --hover-fill-color: #174EA6;\n",
              "      --disabled-fill-color: #AAA;\n",
              "      --disabled-bg-color: #DDD;\n",
              "  }\n",
              "\n",
              "  [theme=dark] .colab-df-quickchart {\n",
              "      --bg-color: #3B4455;\n",
              "      --fill-color: #D2E3FC;\n",
              "      --hover-bg-color: #434B5C;\n",
              "      --hover-fill-color: #FFFFFF;\n",
              "      --disabled-bg-color: #3B4455;\n",
              "      --disabled-fill-color: #666;\n",
              "  }\n",
              "\n",
              "  .colab-df-quickchart {\n",
              "    background-color: var(--bg-color);\n",
              "    border: none;\n",
              "    border-radius: 50%;\n",
              "    cursor: pointer;\n",
              "    display: none;\n",
              "    fill: var(--fill-color);\n",
              "    height: 32px;\n",
              "    padding: 0;\n",
              "    width: 32px;\n",
              "  }\n",
              "\n",
              "  .colab-df-quickchart:hover {\n",
              "    background-color: var(--hover-bg-color);\n",
              "    box-shadow: 0 1px 2px rgba(60, 64, 67, 0.3), 0 1px 3px 1px rgba(60, 64, 67, 0.15);\n",
              "    fill: var(--button-hover-fill-color);\n",
              "  }\n",
              "\n",
              "  .colab-df-quickchart-complete:disabled,\n",
              "  .colab-df-quickchart-complete:disabled:hover {\n",
              "    background-color: var(--disabled-bg-color);\n",
              "    fill: var(--disabled-fill-color);\n",
              "    box-shadow: none;\n",
              "  }\n",
              "\n",
              "  .colab-df-spinner {\n",
              "    border: 2px solid var(--fill-color);\n",
              "    border-color: transparent;\n",
              "    border-bottom-color: var(--fill-color);\n",
              "    animation:\n",
              "      spin 1s steps(1) infinite;\n",
              "  }\n",
              "\n",
              "  @keyframes spin {\n",
              "    0% {\n",
              "      border-color: transparent;\n",
              "      border-bottom-color: var(--fill-color);\n",
              "      border-left-color: var(--fill-color);\n",
              "    }\n",
              "    20% {\n",
              "      border-color: transparent;\n",
              "      border-left-color: var(--fill-color);\n",
              "      border-top-color: var(--fill-color);\n",
              "    }\n",
              "    30% {\n",
              "      border-color: transparent;\n",
              "      border-left-color: var(--fill-color);\n",
              "      border-top-color: var(--fill-color);\n",
              "      border-right-color: var(--fill-color);\n",
              "    }\n",
              "    40% {\n",
              "      border-color: transparent;\n",
              "      border-right-color: var(--fill-color);\n",
              "      border-top-color: var(--fill-color);\n",
              "    }\n",
              "    60% {\n",
              "      border-color: transparent;\n",
              "      border-right-color: var(--fill-color);\n",
              "    }\n",
              "    80% {\n",
              "      border-color: transparent;\n",
              "      border-right-color: var(--fill-color);\n",
              "      border-bottom-color: var(--fill-color);\n",
              "    }\n",
              "    90% {\n",
              "      border-color: transparent;\n",
              "      border-bottom-color: var(--fill-color);\n",
              "    }\n",
              "  }\n",
              "</style>\n",
              "\n",
              "  <script>\n",
              "    async function quickchart(key) {\n",
              "      const quickchartButtonEl =\n",
              "        document.querySelector('#' + key + ' button');\n",
              "      quickchartButtonEl.disabled = true;  // To prevent multiple clicks.\n",
              "      quickchartButtonEl.classList.add('colab-df-spinner');\n",
              "      try {\n",
              "        const charts = await google.colab.kernel.invokeFunction(\n",
              "            'suggestCharts', [key], {});\n",
              "      } catch (error) {\n",
              "        console.error('Error during call to suggestCharts:', error);\n",
              "      }\n",
              "      quickchartButtonEl.classList.remove('colab-df-spinner');\n",
              "      quickchartButtonEl.classList.add('colab-df-quickchart-complete');\n",
              "    }\n",
              "    (() => {\n",
              "      let quickchartButtonEl =\n",
              "        document.querySelector('#df-fecb804c-c7d1-46a7-afd2-2c006bf881d6 button');\n",
              "      quickchartButtonEl.style.display =\n",
              "        google.colab.kernel.accessAllowed ? 'block' : 'none';\n",
              "    })();\n",
              "  </script>\n",
              "</div>\n",
              "    </div>\n",
              "  </div>\n"
            ]
          },
          "metadata": {},
          "execution_count": 49
        }
      ]
    },
    {
      "cell_type": "code",
      "metadata": {
        "colab": {
          "base_uri": "https://localhost:8080/",
          "height": 300
        },
        "id": "K6ZG1RQEJB4_",
        "outputId": "24466fd3-df31-467b-85cc-80560828847a"
      },
      "source": [
        "df.describe()"
      ],
      "execution_count": null,
      "outputs": [
        {
          "output_type": "execute_result",
          "data": {
            "text/plain": [
              "          Repeation\n",
              "count  49780.000000\n",
              "mean     407.753114\n",
              "std      854.055919\n",
              "min        2.000000\n",
              "25%        2.000000\n",
              "50%       14.000000\n",
              "75%      381.000000\n",
              "max    37433.000000"
            ],
            "text/html": [
              "\n",
              "  <div id=\"df-4c24b94d-d5c1-4840-a271-93cd904e6054\" class=\"colab-df-container\">\n",
              "    <div>\n",
              "<style scoped>\n",
              "    .dataframe tbody tr th:only-of-type {\n",
              "        vertical-align: middle;\n",
              "    }\n",
              "\n",
              "    .dataframe tbody tr th {\n",
              "        vertical-align: top;\n",
              "    }\n",
              "\n",
              "    .dataframe thead th {\n",
              "        text-align: right;\n",
              "    }\n",
              "</style>\n",
              "<table border=\"1\" class=\"dataframe\">\n",
              "  <thead>\n",
              "    <tr style=\"text-align: right;\">\n",
              "      <th></th>\n",
              "      <th>Repeation</th>\n",
              "    </tr>\n",
              "  </thead>\n",
              "  <tbody>\n",
              "    <tr>\n",
              "      <th>count</th>\n",
              "      <td>49780.000000</td>\n",
              "    </tr>\n",
              "    <tr>\n",
              "      <th>mean</th>\n",
              "      <td>407.753114</td>\n",
              "    </tr>\n",
              "    <tr>\n",
              "      <th>std</th>\n",
              "      <td>854.055919</td>\n",
              "    </tr>\n",
              "    <tr>\n",
              "      <th>min</th>\n",
              "      <td>2.000000</td>\n",
              "    </tr>\n",
              "    <tr>\n",
              "      <th>25%</th>\n",
              "      <td>2.000000</td>\n",
              "    </tr>\n",
              "    <tr>\n",
              "      <th>50%</th>\n",
              "      <td>14.000000</td>\n",
              "    </tr>\n",
              "    <tr>\n",
              "      <th>75%</th>\n",
              "      <td>381.000000</td>\n",
              "    </tr>\n",
              "    <tr>\n",
              "      <th>max</th>\n",
              "      <td>37433.000000</td>\n",
              "    </tr>\n",
              "  </tbody>\n",
              "</table>\n",
              "</div>\n",
              "    <div class=\"colab-df-buttons\">\n",
              "\n",
              "  <div class=\"colab-df-container\">\n",
              "    <button class=\"colab-df-convert\" onclick=\"convertToInteractive('df-4c24b94d-d5c1-4840-a271-93cd904e6054')\"\n",
              "            title=\"Convert this dataframe to an interactive table.\"\n",
              "            style=\"display:none;\">\n",
              "\n",
              "  <svg xmlns=\"http://www.w3.org/2000/svg\" height=\"24px\" viewBox=\"0 -960 960 960\">\n",
              "    <path d=\"M120-120v-720h720v720H120Zm60-500h600v-160H180v160Zm220 220h160v-160H400v160Zm0 220h160v-160H400v160ZM180-400h160v-160H180v160Zm440 0h160v-160H620v160ZM180-180h160v-160H180v160Zm440 0h160v-160H620v160Z\"/>\n",
              "  </svg>\n",
              "    </button>\n",
              "\n",
              "  <style>\n",
              "    .colab-df-container {\n",
              "      display:flex;\n",
              "      gap: 12px;\n",
              "    }\n",
              "\n",
              "    .colab-df-convert {\n",
              "      background-color: #E8F0FE;\n",
              "      border: none;\n",
              "      border-radius: 50%;\n",
              "      cursor: pointer;\n",
              "      display: none;\n",
              "      fill: #1967D2;\n",
              "      height: 32px;\n",
              "      padding: 0 0 0 0;\n",
              "      width: 32px;\n",
              "    }\n",
              "\n",
              "    .colab-df-convert:hover {\n",
              "      background-color: #E2EBFA;\n",
              "      box-shadow: 0px 1px 2px rgba(60, 64, 67, 0.3), 0px 1px 3px 1px rgba(60, 64, 67, 0.15);\n",
              "      fill: #174EA6;\n",
              "    }\n",
              "\n",
              "    .colab-df-buttons div {\n",
              "      margin-bottom: 4px;\n",
              "    }\n",
              "\n",
              "    [theme=dark] .colab-df-convert {\n",
              "      background-color: #3B4455;\n",
              "      fill: #D2E3FC;\n",
              "    }\n",
              "\n",
              "    [theme=dark] .colab-df-convert:hover {\n",
              "      background-color: #434B5C;\n",
              "      box-shadow: 0px 1px 3px 1px rgba(0, 0, 0, 0.15);\n",
              "      filter: drop-shadow(0px 1px 2px rgba(0, 0, 0, 0.3));\n",
              "      fill: #FFFFFF;\n",
              "    }\n",
              "  </style>\n",
              "\n",
              "    <script>\n",
              "      const buttonEl =\n",
              "        document.querySelector('#df-4c24b94d-d5c1-4840-a271-93cd904e6054 button.colab-df-convert');\n",
              "      buttonEl.style.display =\n",
              "        google.colab.kernel.accessAllowed ? 'block' : 'none';\n",
              "\n",
              "      async function convertToInteractive(key) {\n",
              "        const element = document.querySelector('#df-4c24b94d-d5c1-4840-a271-93cd904e6054');\n",
              "        const dataTable =\n",
              "          await google.colab.kernel.invokeFunction('convertToInteractive',\n",
              "                                                    [key], {});\n",
              "        if (!dataTable) return;\n",
              "\n",
              "        const docLinkHtml = 'Like what you see? Visit the ' +\n",
              "          '<a target=\"_blank\" href=https://colab.research.google.com/notebooks/data_table.ipynb>data table notebook</a>'\n",
              "          + ' to learn more about interactive tables.';\n",
              "        element.innerHTML = '';\n",
              "        dataTable['output_type'] = 'display_data';\n",
              "        await google.colab.output.renderOutput(dataTable, element);\n",
              "        const docLink = document.createElement('div');\n",
              "        docLink.innerHTML = docLinkHtml;\n",
              "        element.appendChild(docLink);\n",
              "      }\n",
              "    </script>\n",
              "  </div>\n",
              "\n",
              "\n",
              "<div id=\"df-13739eb7-c2fe-46dc-9154-3643db13b3fe\">\n",
              "  <button class=\"colab-df-quickchart\" onclick=\"quickchart('df-13739eb7-c2fe-46dc-9154-3643db13b3fe')\"\n",
              "            title=\"Suggest charts\"\n",
              "            style=\"display:none;\">\n",
              "\n",
              "<svg xmlns=\"http://www.w3.org/2000/svg\" height=\"24px\"viewBox=\"0 0 24 24\"\n",
              "     width=\"24px\">\n",
              "    <g>\n",
              "        <path d=\"M19 3H5c-1.1 0-2 .9-2 2v14c0 1.1.9 2 2 2h14c1.1 0 2-.9 2-2V5c0-1.1-.9-2-2-2zM9 17H7v-7h2v7zm4 0h-2V7h2v10zm4 0h-2v-4h2v4z\"/>\n",
              "    </g>\n",
              "</svg>\n",
              "  </button>\n",
              "\n",
              "<style>\n",
              "  .colab-df-quickchart {\n",
              "      --bg-color: #E8F0FE;\n",
              "      --fill-color: #1967D2;\n",
              "      --hover-bg-color: #E2EBFA;\n",
              "      --hover-fill-color: #174EA6;\n",
              "      --disabled-fill-color: #AAA;\n",
              "      --disabled-bg-color: #DDD;\n",
              "  }\n",
              "\n",
              "  [theme=dark] .colab-df-quickchart {\n",
              "      --bg-color: #3B4455;\n",
              "      --fill-color: #D2E3FC;\n",
              "      --hover-bg-color: #434B5C;\n",
              "      --hover-fill-color: #FFFFFF;\n",
              "      --disabled-bg-color: #3B4455;\n",
              "      --disabled-fill-color: #666;\n",
              "  }\n",
              "\n",
              "  .colab-df-quickchart {\n",
              "    background-color: var(--bg-color);\n",
              "    border: none;\n",
              "    border-radius: 50%;\n",
              "    cursor: pointer;\n",
              "    display: none;\n",
              "    fill: var(--fill-color);\n",
              "    height: 32px;\n",
              "    padding: 0;\n",
              "    width: 32px;\n",
              "  }\n",
              "\n",
              "  .colab-df-quickchart:hover {\n",
              "    background-color: var(--hover-bg-color);\n",
              "    box-shadow: 0 1px 2px rgba(60, 64, 67, 0.3), 0 1px 3px 1px rgba(60, 64, 67, 0.15);\n",
              "    fill: var(--button-hover-fill-color);\n",
              "  }\n",
              "\n",
              "  .colab-df-quickchart-complete:disabled,\n",
              "  .colab-df-quickchart-complete:disabled:hover {\n",
              "    background-color: var(--disabled-bg-color);\n",
              "    fill: var(--disabled-fill-color);\n",
              "    box-shadow: none;\n",
              "  }\n",
              "\n",
              "  .colab-df-spinner {\n",
              "    border: 2px solid var(--fill-color);\n",
              "    border-color: transparent;\n",
              "    border-bottom-color: var(--fill-color);\n",
              "    animation:\n",
              "      spin 1s steps(1) infinite;\n",
              "  }\n",
              "\n",
              "  @keyframes spin {\n",
              "    0% {\n",
              "      border-color: transparent;\n",
              "      border-bottom-color: var(--fill-color);\n",
              "      border-left-color: var(--fill-color);\n",
              "    }\n",
              "    20% {\n",
              "      border-color: transparent;\n",
              "      border-left-color: var(--fill-color);\n",
              "      border-top-color: var(--fill-color);\n",
              "    }\n",
              "    30% {\n",
              "      border-color: transparent;\n",
              "      border-left-color: var(--fill-color);\n",
              "      border-top-color: var(--fill-color);\n",
              "      border-right-color: var(--fill-color);\n",
              "    }\n",
              "    40% {\n",
              "      border-color: transparent;\n",
              "      border-right-color: var(--fill-color);\n",
              "      border-top-color: var(--fill-color);\n",
              "    }\n",
              "    60% {\n",
              "      border-color: transparent;\n",
              "      border-right-color: var(--fill-color);\n",
              "    }\n",
              "    80% {\n",
              "      border-color: transparent;\n",
              "      border-right-color: var(--fill-color);\n",
              "      border-bottom-color: var(--fill-color);\n",
              "    }\n",
              "    90% {\n",
              "      border-color: transparent;\n",
              "      border-bottom-color: var(--fill-color);\n",
              "    }\n",
              "  }\n",
              "</style>\n",
              "\n",
              "  <script>\n",
              "    async function quickchart(key) {\n",
              "      const quickchartButtonEl =\n",
              "        document.querySelector('#' + key + ' button');\n",
              "      quickchartButtonEl.disabled = true;  // To prevent multiple clicks.\n",
              "      quickchartButtonEl.classList.add('colab-df-spinner');\n",
              "      try {\n",
              "        const charts = await google.colab.kernel.invokeFunction(\n",
              "            'suggestCharts', [key], {});\n",
              "      } catch (error) {\n",
              "        console.error('Error during call to suggestCharts:', error);\n",
              "      }\n",
              "      quickchartButtonEl.classList.remove('colab-df-spinner');\n",
              "      quickchartButtonEl.classList.add('colab-df-quickchart-complete');\n",
              "    }\n",
              "    (() => {\n",
              "      let quickchartButtonEl =\n",
              "        document.querySelector('#df-13739eb7-c2fe-46dc-9154-3643db13b3fe button');\n",
              "      quickchartButtonEl.style.display =\n",
              "        google.colab.kernel.accessAllowed ? 'block' : 'none';\n",
              "    })();\n",
              "  </script>\n",
              "</div>\n",
              "    </div>\n",
              "  </div>\n"
            ]
          },
          "metadata": {},
          "execution_count": 50
        }
      ]
    },
    {
      "cell_type": "code",
      "metadata": {
        "colab": {
          "base_uri": "https://localhost:8080/",
          "height": 206
        },
        "id": "2r17HNDXYPJM",
        "outputId": "7bbd53ea-1ea2-4129-df22-6186bc3f1b89"
      },
      "source": [
        "# Filter\n",
        "filtered_df = df[\n",
        "                 df[\"Seen In\"].str.contains(\"DENGUE VIRUS 4\") &\n",
        "                 df[\"Seen In\"].str.contains(\"DENGUE VIRUS 3\") &\n",
        "                 df[\"Seen In\"].str.contains(\"DENGUE VIRUS 2\") &\n",
        "                 df[\"Seen In\"].str.contains(\"DENGUE VIRUS 1\")\n",
        "            ]\n",
        "\n",
        "filtered_df.head()"
      ],
      "execution_count": null,
      "outputs": [
        {
          "output_type": "execute_result",
          "data": {
            "text/plain": [
              "       Sequence  Repeation                                            Seen In\n",
              "124  RMAILGDTAW       6008  DENGUE VIRUS 2, DENGUE VIRUS 4, DENGUE VIRUS 1...\n",
              "125  MAILGDTAWD       6025  DENGUE VIRUS 2, DENGUE VIRUS 4, DENGUE VIRUS 1...\n",
              "126  AILGDTAWDF       6031  DENGUE VIRUS 2, DENGUE VIRUS 4, DENGUE VIRUS 1...\n",
              "127  ILGDTAWDFG       6063  DENGUE VIRUS 2, DENGUE VIRUS 4, DENGUE VIRUS 1...\n",
              "128  LGDTAWDFGS       6077  DENGUE VIRUS 2, DENGUE VIRUS 4, DENGUE VIRUS 1..."
            ],
            "text/html": [
              "\n",
              "  <div id=\"df-96646a3b-cc34-4fed-8baa-8a8eab59beae\" class=\"colab-df-container\">\n",
              "    <div>\n",
              "<style scoped>\n",
              "    .dataframe tbody tr th:only-of-type {\n",
              "        vertical-align: middle;\n",
              "    }\n",
              "\n",
              "    .dataframe tbody tr th {\n",
              "        vertical-align: top;\n",
              "    }\n",
              "\n",
              "    .dataframe thead th {\n",
              "        text-align: right;\n",
              "    }\n",
              "</style>\n",
              "<table border=\"1\" class=\"dataframe\">\n",
              "  <thead>\n",
              "    <tr style=\"text-align: right;\">\n",
              "      <th></th>\n",
              "      <th>Sequence</th>\n",
              "      <th>Repeation</th>\n",
              "      <th>Seen In</th>\n",
              "    </tr>\n",
              "  </thead>\n",
              "  <tbody>\n",
              "    <tr>\n",
              "      <th>124</th>\n",
              "      <td>RMAILGDTAW</td>\n",
              "      <td>6008</td>\n",
              "      <td>DENGUE VIRUS 2, DENGUE VIRUS 4, DENGUE VIRUS 1...</td>\n",
              "    </tr>\n",
              "    <tr>\n",
              "      <th>125</th>\n",
              "      <td>MAILGDTAWD</td>\n",
              "      <td>6025</td>\n",
              "      <td>DENGUE VIRUS 2, DENGUE VIRUS 4, DENGUE VIRUS 1...</td>\n",
              "    </tr>\n",
              "    <tr>\n",
              "      <th>126</th>\n",
              "      <td>AILGDTAWDF</td>\n",
              "      <td>6031</td>\n",
              "      <td>DENGUE VIRUS 2, DENGUE VIRUS 4, DENGUE VIRUS 1...</td>\n",
              "    </tr>\n",
              "    <tr>\n",
              "      <th>127</th>\n",
              "      <td>ILGDTAWDFG</td>\n",
              "      <td>6063</td>\n",
              "      <td>DENGUE VIRUS 2, DENGUE VIRUS 4, DENGUE VIRUS 1...</td>\n",
              "    </tr>\n",
              "    <tr>\n",
              "      <th>128</th>\n",
              "      <td>LGDTAWDFGS</td>\n",
              "      <td>6077</td>\n",
              "      <td>DENGUE VIRUS 2, DENGUE VIRUS 4, DENGUE VIRUS 1...</td>\n",
              "    </tr>\n",
              "  </tbody>\n",
              "</table>\n",
              "</div>\n",
              "    <div class=\"colab-df-buttons\">\n",
              "\n",
              "  <div class=\"colab-df-container\">\n",
              "    <button class=\"colab-df-convert\" onclick=\"convertToInteractive('df-96646a3b-cc34-4fed-8baa-8a8eab59beae')\"\n",
              "            title=\"Convert this dataframe to an interactive table.\"\n",
              "            style=\"display:none;\">\n",
              "\n",
              "  <svg xmlns=\"http://www.w3.org/2000/svg\" height=\"24px\" viewBox=\"0 -960 960 960\">\n",
              "    <path d=\"M120-120v-720h720v720H120Zm60-500h600v-160H180v160Zm220 220h160v-160H400v160Zm0 220h160v-160H400v160ZM180-400h160v-160H180v160Zm440 0h160v-160H620v160ZM180-180h160v-160H180v160Zm440 0h160v-160H620v160Z\"/>\n",
              "  </svg>\n",
              "    </button>\n",
              "\n",
              "  <style>\n",
              "    .colab-df-container {\n",
              "      display:flex;\n",
              "      gap: 12px;\n",
              "    }\n",
              "\n",
              "    .colab-df-convert {\n",
              "      background-color: #E8F0FE;\n",
              "      border: none;\n",
              "      border-radius: 50%;\n",
              "      cursor: pointer;\n",
              "      display: none;\n",
              "      fill: #1967D2;\n",
              "      height: 32px;\n",
              "      padding: 0 0 0 0;\n",
              "      width: 32px;\n",
              "    }\n",
              "\n",
              "    .colab-df-convert:hover {\n",
              "      background-color: #E2EBFA;\n",
              "      box-shadow: 0px 1px 2px rgba(60, 64, 67, 0.3), 0px 1px 3px 1px rgba(60, 64, 67, 0.15);\n",
              "      fill: #174EA6;\n",
              "    }\n",
              "\n",
              "    .colab-df-buttons div {\n",
              "      margin-bottom: 4px;\n",
              "    }\n",
              "\n",
              "    [theme=dark] .colab-df-convert {\n",
              "      background-color: #3B4455;\n",
              "      fill: #D2E3FC;\n",
              "    }\n",
              "\n",
              "    [theme=dark] .colab-df-convert:hover {\n",
              "      background-color: #434B5C;\n",
              "      box-shadow: 0px 1px 3px 1px rgba(0, 0, 0, 0.15);\n",
              "      filter: drop-shadow(0px 1px 2px rgba(0, 0, 0, 0.3));\n",
              "      fill: #FFFFFF;\n",
              "    }\n",
              "  </style>\n",
              "\n",
              "    <script>\n",
              "      const buttonEl =\n",
              "        document.querySelector('#df-96646a3b-cc34-4fed-8baa-8a8eab59beae button.colab-df-convert');\n",
              "      buttonEl.style.display =\n",
              "        google.colab.kernel.accessAllowed ? 'block' : 'none';\n",
              "\n",
              "      async function convertToInteractive(key) {\n",
              "        const element = document.querySelector('#df-96646a3b-cc34-4fed-8baa-8a8eab59beae');\n",
              "        const dataTable =\n",
              "          await google.colab.kernel.invokeFunction('convertToInteractive',\n",
              "                                                    [key], {});\n",
              "        if (!dataTable) return;\n",
              "\n",
              "        const docLinkHtml = 'Like what you see? Visit the ' +\n",
              "          '<a target=\"_blank\" href=https://colab.research.google.com/notebooks/data_table.ipynb>data table notebook</a>'\n",
              "          + ' to learn more about interactive tables.';\n",
              "        element.innerHTML = '';\n",
              "        dataTable['output_type'] = 'display_data';\n",
              "        await google.colab.output.renderOutput(dataTable, element);\n",
              "        const docLink = document.createElement('div');\n",
              "        docLink.innerHTML = docLinkHtml;\n",
              "        element.appendChild(docLink);\n",
              "      }\n",
              "    </script>\n",
              "  </div>\n",
              "\n",
              "\n",
              "<div id=\"df-eda8096f-42d7-4ccb-ac6a-f39a6180d6b9\">\n",
              "  <button class=\"colab-df-quickchart\" onclick=\"quickchart('df-eda8096f-42d7-4ccb-ac6a-f39a6180d6b9')\"\n",
              "            title=\"Suggest charts\"\n",
              "            style=\"display:none;\">\n",
              "\n",
              "<svg xmlns=\"http://www.w3.org/2000/svg\" height=\"24px\"viewBox=\"0 0 24 24\"\n",
              "     width=\"24px\">\n",
              "    <g>\n",
              "        <path d=\"M19 3H5c-1.1 0-2 .9-2 2v14c0 1.1.9 2 2 2h14c1.1 0 2-.9 2-2V5c0-1.1-.9-2-2-2zM9 17H7v-7h2v7zm4 0h-2V7h2v10zm4 0h-2v-4h2v4z\"/>\n",
              "    </g>\n",
              "</svg>\n",
              "  </button>\n",
              "\n",
              "<style>\n",
              "  .colab-df-quickchart {\n",
              "      --bg-color: #E8F0FE;\n",
              "      --fill-color: #1967D2;\n",
              "      --hover-bg-color: #E2EBFA;\n",
              "      --hover-fill-color: #174EA6;\n",
              "      --disabled-fill-color: #AAA;\n",
              "      --disabled-bg-color: #DDD;\n",
              "  }\n",
              "\n",
              "  [theme=dark] .colab-df-quickchart {\n",
              "      --bg-color: #3B4455;\n",
              "      --fill-color: #D2E3FC;\n",
              "      --hover-bg-color: #434B5C;\n",
              "      --hover-fill-color: #FFFFFF;\n",
              "      --disabled-bg-color: #3B4455;\n",
              "      --disabled-fill-color: #666;\n",
              "  }\n",
              "\n",
              "  .colab-df-quickchart {\n",
              "    background-color: var(--bg-color);\n",
              "    border: none;\n",
              "    border-radius: 50%;\n",
              "    cursor: pointer;\n",
              "    display: none;\n",
              "    fill: var(--fill-color);\n",
              "    height: 32px;\n",
              "    padding: 0;\n",
              "    width: 32px;\n",
              "  }\n",
              "\n",
              "  .colab-df-quickchart:hover {\n",
              "    background-color: var(--hover-bg-color);\n",
              "    box-shadow: 0 1px 2px rgba(60, 64, 67, 0.3), 0 1px 3px 1px rgba(60, 64, 67, 0.15);\n",
              "    fill: var(--button-hover-fill-color);\n",
              "  }\n",
              "\n",
              "  .colab-df-quickchart-complete:disabled,\n",
              "  .colab-df-quickchart-complete:disabled:hover {\n",
              "    background-color: var(--disabled-bg-color);\n",
              "    fill: var(--disabled-fill-color);\n",
              "    box-shadow: none;\n",
              "  }\n",
              "\n",
              "  .colab-df-spinner {\n",
              "    border: 2px solid var(--fill-color);\n",
              "    border-color: transparent;\n",
              "    border-bottom-color: var(--fill-color);\n",
              "    animation:\n",
              "      spin 1s steps(1) infinite;\n",
              "  }\n",
              "\n",
              "  @keyframes spin {\n",
              "    0% {\n",
              "      border-color: transparent;\n",
              "      border-bottom-color: var(--fill-color);\n",
              "      border-left-color: var(--fill-color);\n",
              "    }\n",
              "    20% {\n",
              "      border-color: transparent;\n",
              "      border-left-color: var(--fill-color);\n",
              "      border-top-color: var(--fill-color);\n",
              "    }\n",
              "    30% {\n",
              "      border-color: transparent;\n",
              "      border-left-color: var(--fill-color);\n",
              "      border-top-color: var(--fill-color);\n",
              "      border-right-color: var(--fill-color);\n",
              "    }\n",
              "    40% {\n",
              "      border-color: transparent;\n",
              "      border-right-color: var(--fill-color);\n",
              "      border-top-color: var(--fill-color);\n",
              "    }\n",
              "    60% {\n",
              "      border-color: transparent;\n",
              "      border-right-color: var(--fill-color);\n",
              "    }\n",
              "    80% {\n",
              "      border-color: transparent;\n",
              "      border-right-color: var(--fill-color);\n",
              "      border-bottom-color: var(--fill-color);\n",
              "    }\n",
              "    90% {\n",
              "      border-color: transparent;\n",
              "      border-bottom-color: var(--fill-color);\n",
              "    }\n",
              "  }\n",
              "</style>\n",
              "\n",
              "  <script>\n",
              "    async function quickchart(key) {\n",
              "      const quickchartButtonEl =\n",
              "        document.querySelector('#' + key + ' button');\n",
              "      quickchartButtonEl.disabled = true;  // To prevent multiple clicks.\n",
              "      quickchartButtonEl.classList.add('colab-df-spinner');\n",
              "      try {\n",
              "        const charts = await google.colab.kernel.invokeFunction(\n",
              "            'suggestCharts', [key], {});\n",
              "      } catch (error) {\n",
              "        console.error('Error during call to suggestCharts:', error);\n",
              "      }\n",
              "      quickchartButtonEl.classList.remove('colab-df-spinner');\n",
              "      quickchartButtonEl.classList.add('colab-df-quickchart-complete');\n",
              "    }\n",
              "    (() => {\n",
              "      let quickchartButtonEl =\n",
              "        document.querySelector('#df-eda8096f-42d7-4ccb-ac6a-f39a6180d6b9 button');\n",
              "      quickchartButtonEl.style.display =\n",
              "        google.colab.kernel.accessAllowed ? 'block' : 'none';\n",
              "    })();\n",
              "  </script>\n",
              "</div>\n",
              "    </div>\n",
              "  </div>\n"
            ]
          },
          "metadata": {},
          "execution_count": 51
        }
      ]
    },
    {
      "cell_type": "code",
      "metadata": {
        "colab": {
          "base_uri": "https://localhost:8080/",
          "height": 300
        },
        "id": "9YhA9SFlcu-i",
        "outputId": "719999b4-38b0-4d04-993d-5358e9be9493"
      },
      "source": [
        "filtered_df.describe()"
      ],
      "execution_count": null,
      "outputs": [
        {
          "output_type": "execute_result",
          "data": {
            "text/plain": [
              "          Repeation\n",
              "count    698.000000\n",
              "mean    3110.882521\n",
              "std     2244.150480\n",
              "min        2.000000\n",
              "25%     1571.500000\n",
              "50%     3259.000000\n",
              "75%     4512.750000\n",
              "max    37433.000000"
            ],
            "text/html": [
              "\n",
              "  <div id=\"df-55b0381f-764d-486c-9a21-0b6967793dfc\" class=\"colab-df-container\">\n",
              "    <div>\n",
              "<style scoped>\n",
              "    .dataframe tbody tr th:only-of-type {\n",
              "        vertical-align: middle;\n",
              "    }\n",
              "\n",
              "    .dataframe tbody tr th {\n",
              "        vertical-align: top;\n",
              "    }\n",
              "\n",
              "    .dataframe thead th {\n",
              "        text-align: right;\n",
              "    }\n",
              "</style>\n",
              "<table border=\"1\" class=\"dataframe\">\n",
              "  <thead>\n",
              "    <tr style=\"text-align: right;\">\n",
              "      <th></th>\n",
              "      <th>Repeation</th>\n",
              "    </tr>\n",
              "  </thead>\n",
              "  <tbody>\n",
              "    <tr>\n",
              "      <th>count</th>\n",
              "      <td>698.000000</td>\n",
              "    </tr>\n",
              "    <tr>\n",
              "      <th>mean</th>\n",
              "      <td>3110.882521</td>\n",
              "    </tr>\n",
              "    <tr>\n",
              "      <th>std</th>\n",
              "      <td>2244.150480</td>\n",
              "    </tr>\n",
              "    <tr>\n",
              "      <th>min</th>\n",
              "      <td>2.000000</td>\n",
              "    </tr>\n",
              "    <tr>\n",
              "      <th>25%</th>\n",
              "      <td>1571.500000</td>\n",
              "    </tr>\n",
              "    <tr>\n",
              "      <th>50%</th>\n",
              "      <td>3259.000000</td>\n",
              "    </tr>\n",
              "    <tr>\n",
              "      <th>75%</th>\n",
              "      <td>4512.750000</td>\n",
              "    </tr>\n",
              "    <tr>\n",
              "      <th>max</th>\n",
              "      <td>37433.000000</td>\n",
              "    </tr>\n",
              "  </tbody>\n",
              "</table>\n",
              "</div>\n",
              "    <div class=\"colab-df-buttons\">\n",
              "\n",
              "  <div class=\"colab-df-container\">\n",
              "    <button class=\"colab-df-convert\" onclick=\"convertToInteractive('df-55b0381f-764d-486c-9a21-0b6967793dfc')\"\n",
              "            title=\"Convert this dataframe to an interactive table.\"\n",
              "            style=\"display:none;\">\n",
              "\n",
              "  <svg xmlns=\"http://www.w3.org/2000/svg\" height=\"24px\" viewBox=\"0 -960 960 960\">\n",
              "    <path d=\"M120-120v-720h720v720H120Zm60-500h600v-160H180v160Zm220 220h160v-160H400v160Zm0 220h160v-160H400v160ZM180-400h160v-160H180v160Zm440 0h160v-160H620v160ZM180-180h160v-160H180v160Zm440 0h160v-160H620v160Z\"/>\n",
              "  </svg>\n",
              "    </button>\n",
              "\n",
              "  <style>\n",
              "    .colab-df-container {\n",
              "      display:flex;\n",
              "      gap: 12px;\n",
              "    }\n",
              "\n",
              "    .colab-df-convert {\n",
              "      background-color: #E8F0FE;\n",
              "      border: none;\n",
              "      border-radius: 50%;\n",
              "      cursor: pointer;\n",
              "      display: none;\n",
              "      fill: #1967D2;\n",
              "      height: 32px;\n",
              "      padding: 0 0 0 0;\n",
              "      width: 32px;\n",
              "    }\n",
              "\n",
              "    .colab-df-convert:hover {\n",
              "      background-color: #E2EBFA;\n",
              "      box-shadow: 0px 1px 2px rgba(60, 64, 67, 0.3), 0px 1px 3px 1px rgba(60, 64, 67, 0.15);\n",
              "      fill: #174EA6;\n",
              "    }\n",
              "\n",
              "    .colab-df-buttons div {\n",
              "      margin-bottom: 4px;\n",
              "    }\n",
              "\n",
              "    [theme=dark] .colab-df-convert {\n",
              "      background-color: #3B4455;\n",
              "      fill: #D2E3FC;\n",
              "    }\n",
              "\n",
              "    [theme=dark] .colab-df-convert:hover {\n",
              "      background-color: #434B5C;\n",
              "      box-shadow: 0px 1px 3px 1px rgba(0, 0, 0, 0.15);\n",
              "      filter: drop-shadow(0px 1px 2px rgba(0, 0, 0, 0.3));\n",
              "      fill: #FFFFFF;\n",
              "    }\n",
              "  </style>\n",
              "\n",
              "    <script>\n",
              "      const buttonEl =\n",
              "        document.querySelector('#df-55b0381f-764d-486c-9a21-0b6967793dfc button.colab-df-convert');\n",
              "      buttonEl.style.display =\n",
              "        google.colab.kernel.accessAllowed ? 'block' : 'none';\n",
              "\n",
              "      async function convertToInteractive(key) {\n",
              "        const element = document.querySelector('#df-55b0381f-764d-486c-9a21-0b6967793dfc');\n",
              "        const dataTable =\n",
              "          await google.colab.kernel.invokeFunction('convertToInteractive',\n",
              "                                                    [key], {});\n",
              "        if (!dataTable) return;\n",
              "\n",
              "        const docLinkHtml = 'Like what you see? Visit the ' +\n",
              "          '<a target=\"_blank\" href=https://colab.research.google.com/notebooks/data_table.ipynb>data table notebook</a>'\n",
              "          + ' to learn more about interactive tables.';\n",
              "        element.innerHTML = '';\n",
              "        dataTable['output_type'] = 'display_data';\n",
              "        await google.colab.output.renderOutput(dataTable, element);\n",
              "        const docLink = document.createElement('div');\n",
              "        docLink.innerHTML = docLinkHtml;\n",
              "        element.appendChild(docLink);\n",
              "      }\n",
              "    </script>\n",
              "  </div>\n",
              "\n",
              "\n",
              "<div id=\"df-5cea3bc1-c598-40a0-b2fe-02af5f70c9c8\">\n",
              "  <button class=\"colab-df-quickchart\" onclick=\"quickchart('df-5cea3bc1-c598-40a0-b2fe-02af5f70c9c8')\"\n",
              "            title=\"Suggest charts\"\n",
              "            style=\"display:none;\">\n",
              "\n",
              "<svg xmlns=\"http://www.w3.org/2000/svg\" height=\"24px\"viewBox=\"0 0 24 24\"\n",
              "     width=\"24px\">\n",
              "    <g>\n",
              "        <path d=\"M19 3H5c-1.1 0-2 .9-2 2v14c0 1.1.9 2 2 2h14c1.1 0 2-.9 2-2V5c0-1.1-.9-2-2-2zM9 17H7v-7h2v7zm4 0h-2V7h2v10zm4 0h-2v-4h2v4z\"/>\n",
              "    </g>\n",
              "</svg>\n",
              "  </button>\n",
              "\n",
              "<style>\n",
              "  .colab-df-quickchart {\n",
              "      --bg-color: #E8F0FE;\n",
              "      --fill-color: #1967D2;\n",
              "      --hover-bg-color: #E2EBFA;\n",
              "      --hover-fill-color: #174EA6;\n",
              "      --disabled-fill-color: #AAA;\n",
              "      --disabled-bg-color: #DDD;\n",
              "  }\n",
              "\n",
              "  [theme=dark] .colab-df-quickchart {\n",
              "      --bg-color: #3B4455;\n",
              "      --fill-color: #D2E3FC;\n",
              "      --hover-bg-color: #434B5C;\n",
              "      --hover-fill-color: #FFFFFF;\n",
              "      --disabled-bg-color: #3B4455;\n",
              "      --disabled-fill-color: #666;\n",
              "  }\n",
              "\n",
              "  .colab-df-quickchart {\n",
              "    background-color: var(--bg-color);\n",
              "    border: none;\n",
              "    border-radius: 50%;\n",
              "    cursor: pointer;\n",
              "    display: none;\n",
              "    fill: var(--fill-color);\n",
              "    height: 32px;\n",
              "    padding: 0;\n",
              "    width: 32px;\n",
              "  }\n",
              "\n",
              "  .colab-df-quickchart:hover {\n",
              "    background-color: var(--hover-bg-color);\n",
              "    box-shadow: 0 1px 2px rgba(60, 64, 67, 0.3), 0 1px 3px 1px rgba(60, 64, 67, 0.15);\n",
              "    fill: var(--button-hover-fill-color);\n",
              "  }\n",
              "\n",
              "  .colab-df-quickchart-complete:disabled,\n",
              "  .colab-df-quickchart-complete:disabled:hover {\n",
              "    background-color: var(--disabled-bg-color);\n",
              "    fill: var(--disabled-fill-color);\n",
              "    box-shadow: none;\n",
              "  }\n",
              "\n",
              "  .colab-df-spinner {\n",
              "    border: 2px solid var(--fill-color);\n",
              "    border-color: transparent;\n",
              "    border-bottom-color: var(--fill-color);\n",
              "    animation:\n",
              "      spin 1s steps(1) infinite;\n",
              "  }\n",
              "\n",
              "  @keyframes spin {\n",
              "    0% {\n",
              "      border-color: transparent;\n",
              "      border-bottom-color: var(--fill-color);\n",
              "      border-left-color: var(--fill-color);\n",
              "    }\n",
              "    20% {\n",
              "      border-color: transparent;\n",
              "      border-left-color: var(--fill-color);\n",
              "      border-top-color: var(--fill-color);\n",
              "    }\n",
              "    30% {\n",
              "      border-color: transparent;\n",
              "      border-left-color: var(--fill-color);\n",
              "      border-top-color: var(--fill-color);\n",
              "      border-right-color: var(--fill-color);\n",
              "    }\n",
              "    40% {\n",
              "      border-color: transparent;\n",
              "      border-right-color: var(--fill-color);\n",
              "      border-top-color: var(--fill-color);\n",
              "    }\n",
              "    60% {\n",
              "      border-color: transparent;\n",
              "      border-right-color: var(--fill-color);\n",
              "    }\n",
              "    80% {\n",
              "      border-color: transparent;\n",
              "      border-right-color: var(--fill-color);\n",
              "      border-bottom-color: var(--fill-color);\n",
              "    }\n",
              "    90% {\n",
              "      border-color: transparent;\n",
              "      border-bottom-color: var(--fill-color);\n",
              "    }\n",
              "  }\n",
              "</style>\n",
              "\n",
              "  <script>\n",
              "    async function quickchart(key) {\n",
              "      const quickchartButtonEl =\n",
              "        document.querySelector('#' + key + ' button');\n",
              "      quickchartButtonEl.disabled = true;  // To prevent multiple clicks.\n",
              "      quickchartButtonEl.classList.add('colab-df-spinner');\n",
              "      try {\n",
              "        const charts = await google.colab.kernel.invokeFunction(\n",
              "            'suggestCharts', [key], {});\n",
              "      } catch (error) {\n",
              "        console.error('Error during call to suggestCharts:', error);\n",
              "      }\n",
              "      quickchartButtonEl.classList.remove('colab-df-spinner');\n",
              "      quickchartButtonEl.classList.add('colab-df-quickchart-complete');\n",
              "    }\n",
              "    (() => {\n",
              "      let quickchartButtonEl =\n",
              "        document.querySelector('#df-5cea3bc1-c598-40a0-b2fe-02af5f70c9c8 button');\n",
              "      quickchartButtonEl.style.display =\n",
              "        google.colab.kernel.accessAllowed ? 'block' : 'none';\n",
              "    })();\n",
              "  </script>\n",
              "</div>\n",
              "    </div>\n",
              "  </div>\n"
            ]
          },
          "metadata": {},
          "execution_count": 54
        }
      ]
    },
    {
      "cell_type": "code",
      "metadata": {
        "id": "K7vBWDg7IjM_",
        "colab": {
          "base_uri": "https://localhost:8080/"
        },
        "outputId": "adf13af0-eeb6-4fff-bcf7-acca965a12d4"
      },
      "source": [
        "df.to_csv(\"100% seq chunk-10.csv\", index=False, )\n",
        "filtered_df.to_csv(\"[filtered]100% seq chunk-10.csv\", index=False, )\n",
        "df.shape\n",
        "\n",
        "# df = pd.read_csv(\"100% seq chunk-10.csv\",)\n",
        "# filtered_df = pd.read_csv(\"[filtered]100% seq chunk-10.csv\",  )"
      ],
      "execution_count": null,
      "outputs": [
        {
          "output_type": "execute_result",
          "data": {
            "text/plain": [
              "(49780, 3)"
            ]
          },
          "metadata": {},
          "execution_count": 61
        }
      ]
    },
    {
      "cell_type": "code",
      "source": [
        "!wget https://raw.githubusercontent.com/zikunyang/DCVST/master/NegativeB.txt\n",
        "!wget https://raw.githubusercontent.com/zikunyang/DCVST/master/NegativeT.txt\n",
        "!wget https://raw.githubusercontent.com/zikunyang/DCVST/master/PositiveB.txt\n",
        "!wget https://raw.githubusercontent.com/zikunyang/DCVST/master/PositiveT.txt\n",
        "!wget https://raw.githubusercontent.com/zikunyang/DCVST/fbceb6dbb9f738b59e3ec05598853475d8aafd7c/Antigen.txt\n"
      ],
      "metadata": {
        "id": "GJEgu8O1ccs_",
        "colab": {
          "base_uri": "https://localhost:8080/"
        },
        "outputId": "935f5e3e-74f8-4f43-f59a-c257d5d5b196"
      },
      "execution_count": null,
      "outputs": [
        {
          "output_type": "stream",
          "name": "stdout",
          "text": [
            "--2024-01-28 02:13:30--  https://raw.githubusercontent.com/zikunyang/DCVST/master/NegativeB.txt\n",
            "Resolving raw.githubusercontent.com (raw.githubusercontent.com)... 185.199.108.133, 185.199.109.133, 185.199.110.133, ...\n",
            "Connecting to raw.githubusercontent.com (raw.githubusercontent.com)|185.199.108.133|:443... connected.\n",
            "HTTP request sent, awaiting response... 200 OK\n",
            "Length: 54175 (53K) [text/plain]\n",
            "Saving to: ‘NegativeB.txt’\n",
            "\n",
            "\rNegativeB.txt         0%[                    ]       0  --.-KB/s               \rNegativeB.txt       100%[===================>]  52.91K  --.-KB/s    in 0.01s   \n",
            "\n",
            "2024-01-28 02:13:30 (4.56 MB/s) - ‘NegativeB.txt’ saved [54175/54175]\n",
            "\n",
            "--2024-01-28 02:13:30--  https://raw.githubusercontent.com/zikunyang/DCVST/master/NegativeT.txt\n",
            "Resolving raw.githubusercontent.com (raw.githubusercontent.com)... 185.199.108.133, 185.199.109.133, 185.199.110.133, ...\n",
            "Connecting to raw.githubusercontent.com (raw.githubusercontent.com)|185.199.108.133|:443... connected.\n",
            "HTTP request sent, awaiting response... 200 OK\n",
            "Length: 61467 (60K) [text/plain]\n",
            "Saving to: ‘NegativeT.txt’\n",
            "\n",
            "NegativeT.txt       100%[===================>]  60.03K  --.-KB/s    in 0.01s   \n",
            "\n",
            "2024-01-28 02:13:31 (4.74 MB/s) - ‘NegativeT.txt’ saved [61467/61467]\n",
            "\n",
            "--2024-01-28 02:13:31--  https://raw.githubusercontent.com/zikunyang/DCVST/master/PositiveB.txt\n",
            "Resolving raw.githubusercontent.com (raw.githubusercontent.com)... 185.199.108.133, 185.199.109.133, 185.199.110.133, ...\n",
            "Connecting to raw.githubusercontent.com (raw.githubusercontent.com)|185.199.108.133|:443... connected.\n",
            "HTTP request sent, awaiting response... 200 OK\n",
            "Length: 54175 (53K) [text/plain]\n",
            "Saving to: ‘PositiveB.txt’\n",
            "\n",
            "PositiveB.txt       100%[===================>]  52.91K  --.-KB/s    in 0.01s   \n",
            "\n",
            "2024-01-28 02:13:31 (4.73 MB/s) - ‘PositiveB.txt’ saved [54175/54175]\n",
            "\n",
            "--2024-01-28 02:13:31--  https://raw.githubusercontent.com/zikunyang/DCVST/master/PositiveT.txt\n",
            "Resolving raw.githubusercontent.com (raw.githubusercontent.com)... 185.199.110.133, 185.199.109.133, 185.199.108.133, ...\n",
            "Connecting to raw.githubusercontent.com (raw.githubusercontent.com)|185.199.110.133|:443... connected.\n",
            "HTTP request sent, awaiting response... 200 OK\n",
            "Length: 55682 (54K) [text/plain]\n",
            "Saving to: ‘PositiveT.txt’\n",
            "\n",
            "PositiveT.txt       100%[===================>]  54.38K  --.-KB/s    in 0.01s   \n",
            "\n",
            "2024-01-28 02:13:31 (4.75 MB/s) - ‘PositiveT.txt’ saved [55682/55682]\n",
            "\n",
            "--2024-01-28 02:13:31--  https://raw.githubusercontent.com/zikunyang/DCVST/fbceb6dbb9f738b59e3ec05598853475d8aafd7c/Antigen.txt\n",
            "Resolving raw.githubusercontent.com (raw.githubusercontent.com)... 185.199.108.133, 185.199.109.133, 185.199.110.133, ...\n",
            "Connecting to raw.githubusercontent.com (raw.githubusercontent.com)|185.199.108.133|:443... connected.\n",
            "HTTP request sent, awaiting response... 200 OK\n",
            "Length: 264709 (259K) [text/plain]\n",
            "Saving to: ‘Antigen.txt’\n",
            "\n",
            "Antigen.txt         100%[===================>] 258.50K  --.-KB/s    in 0.03s   \n",
            "\n",
            "2024-01-28 02:13:31 (7.98 MB/s) - ‘Antigen.txt’ saved [264709/264709]\n",
            "\n"
          ]
        }
      ]
    },
    {
      "cell_type": "code",
      "source": [
        "for key, description in Z_descriptor.items(): assert len(description) ==3"
      ],
      "metadata": {
        "id": "hL_-A3CfAhQU"
      },
      "execution_count": null,
      "outputs": []
    },
    {
      "cell_type": "code",
      "source": [
        "dataset_test = ReadTxtName (r'./PositiveB.txt')\n",
        "dataset_test = encode(dataset_test)"
      ],
      "metadata": {
        "id": "Wv3JwUVnBVXB"
      },
      "execution_count": null,
      "outputs": []
    },
    {
      "cell_type": "markdown",
      "metadata": {
        "id": "Mfsa0tD9dGWo"
      },
      "source": [
        "## Machine Learning"
      ]
    },
    {
      "cell_type": "markdown",
      "source": [
        "import seaborn as sns\n",
        "import pandas as pd\n",
        "import matplotlib.pyplot as plt\n",
        "import torch\n",
        "import math\n",
        "from tqdm import tqdm\n",
        "import numpy as np\n",
        "from time import time\n",
        "import torch.distributions as tdis\n",
        "import matplotlib.pyplot as plt\n",
        "from torch import nn\n",
        "from torch import optim\n",
        "from torch.utils.data import TensorDataset, RandomSampler, BatchSampler, DataLoader\n",
        "sns.set_style('dark')"
      ],
      "metadata": {
        "id": "cON90-84dQ6l"
      }
    },
    {
      "cell_type": "code",
      "metadata": {
        "id": "sWRlJZ8UyZRd"
      },
      "source": [
        "# helper\n",
        "def ReadTxtName(rootdir):                        ##FASTA Reader\n",
        "    lines = []\n",
        "    with open(rootdir, 'r') as file_to_read:\n",
        "        while True:\n",
        "            line = file_to_read.readline()\n",
        "            if not line:\n",
        "                break\n",
        "            line = line.strip('\\n')\n",
        "            lines.append(line)\n",
        "    return lines"
      ],
      "execution_count": null,
      "outputs": []
    },
    {
      "cell_type": "markdown",
      "metadata": {
        "id": "ZpU8K02Ezwpy"
      },
      "source": [
        "#### Z-descriptor and ACC transformation for protein annotation"
      ]
    },
    {
      "cell_type": "code",
      "metadata": {
        "id": "9HaN6qUszycd"
      },
      "source": [
        "Z_descriptor = {\n",
        "    'A': (0.07, -1.73, 0.09),\n",
        "    'V': (-2.69, -2.53, -1.29),\n",
        "    'L': (-4.19, - 1.03, -0.98),\n",
        "    'I': (-4.44, -1.68, -1.03),\n",
        "    'P': (-1.22, 0.88, 2.23),\n",
        "    'F': (-4.92, 1.30, 0.45),\n",
        "    'W': (-4.75, 3.65, 0.85),\n",
        "    'M': (-2.49, -0.27, -0.41),\n",
        "    'K': (2.84, 1.41, -3.14),\n",
        "    \"R\": ( 2.88, 2.52, -3.44),\n",
        "    \"H\": ( 2.41, 1.74,  1.11),\n",
        "    \"G\": ( 2.23,-5.36,  0.30),\n",
        "    \"S\": ( 1.96,-1.63,  0.57),\n",
        "    \"T\": ( 0.92,-2.09, -1.40),\n",
        "    \"C\": ( 0.71,-0.97,  4.13),\n",
        "    \"Y\": (-1.39, 2.32,  0.01),\n",
        "    \"N\": ( 3.22, 1.45,  0.84),\n",
        "    \"Q\": ( 2.18, 0.53, -1.14),\n",
        "    \"D\": ( 3.64, 1.13,  2.36),\n",
        "    \"E\": ( 3.08, 0.39, -0.07),\n",
        "    \"X\": ( 0.00, 0.00, 0.00),\n",
        "    \"Z\": ( 0.00, 0.00, 0.00)\n",
        "}\n",
        "# Z_descriptor = list(Z_descriptor.keys())\n",
        "# Z_descriptor = { Z_descriptor[i]: [i] for i in range(len(Z_descriptor))  }\n",
        "def Z(antigen):\n",
        "    return list(Z_descriptor[antigen.upper()])\n",
        "\n",
        "def unZ(descriptor):\n",
        "    epit = \"\"\n",
        "    for i in descriptor:\n",
        "        epit += \"\".join([ag for ag, z in Z_descriptor.items() if list(z) == list(i)])\n",
        "    return epit\n",
        "\n",
        "\n",
        "def encode (dataset):\n",
        "    dataset_length = len(dataset)\n",
        "    new_dataset = []\n",
        "    for i in range(dataset_length):\n",
        "        seq = dataset[i].upper()\n",
        "        try:\n",
        "            description = [ Z(prot) for prot in seq ]\n",
        "            new_dataset += [ description ]\n",
        "        except:\n",
        "            print(seq)\n",
        "    return new_dataset\n",
        "\n"
      ],
      "execution_count": null,
      "outputs": []
    },
    {
      "cell_type": "code",
      "metadata": {
        "id": "f3R166XjIXf_"
      },
      "source": [
        "def ACC (dataset):\n",
        "\n",
        "    ACCN = [0] * len(dataset)\n",
        "    for i in range (len(ACCN)):\n",
        "        ACCN[i] = [0] * 46 ## 45 variables for ACC and 1 for whether it's BPAs\n",
        "\n",
        "    for i in range (len(dataset)):\n",
        "        description = [0] * len(dataset[i])\n",
        "        for k in range(len(dataset[i])):\n",
        "            description[k] = Z(dataset[i][k])\n",
        "\n",
        "\n",
        "        ##l=1\n",
        "        ##Calculate AJJ:\n",
        "        l   = 1\n",
        "        n   = len(dataset[i])\n",
        "        cal = 0\n",
        "        for j in range (n-l):\n",
        "            cal = cal + (description[j][0] * description[j+1][0] / (n-l))\n",
        "        ACCN[i][0] = cal\n",
        "        cal = 0\n",
        "        for j in range (n-l):\n",
        "            cal = cal + (description[j][1] * description[j+1][1] / (n-l))\n",
        "        ACCN[i][1] = cal\n",
        "        cal = 0\n",
        "        for j in range (n-l):\n",
        "            cal = cal + (description[j][2] * description[j+1][2] / (n-l))\n",
        "        ACCN[i][2] = cal\n",
        "\n",
        "        ##Calculate CJK:\n",
        "        cal = 0\n",
        "        for j in range (n-l):\n",
        "            cal = cal + (description[j][0] * description[j+1][1] / (n-l))\n",
        "        ACCN[i][3] = cal\n",
        "        cal = 0\n",
        "        for j in range (n-l):\n",
        "            cal = cal + (description[j][0] * description[j+1][2] / (n-l))\n",
        "        ACCN[i][4] = cal\n",
        "        for j in range (n-l):\n",
        "            cal = cal + (description[j][1] * description[j+1][0] / (n-l))\n",
        "        ACCN[i][5] = cal\n",
        "        for j in range (n-l):\n",
        "            cal = cal + (description[j][1] * description[j+1][2] / (n-l))\n",
        "        ACCN[i][6] = cal\n",
        "        for j in range (n-l):\n",
        "            cal = cal + (description[j][2] * description[j+1][0] / (n-l))\n",
        "        ACCN[i][7] = cal\n",
        "        for j in range (n-l):\n",
        "            cal = cal + (description[j][2] * description[j+1][1] / (n-l))\n",
        "        ACCN[i][8] = cal\n",
        "\n",
        "        ##l=2\n",
        "        ##Calculate AJJ:\n",
        "        l   = 2\n",
        "        n   = len(dataset[i])\n",
        "        cal = 0\n",
        "        for j in range (n-l):\n",
        "            cal = cal + (description[j][0] * description[j+1][0] / (n-l))\n",
        "        ACCN[i][9] = cal\n",
        "        cal = 0\n",
        "        for j in range (n-l):\n",
        "            cal = cal + (description[j][1] * description[j+1][1] / (n-l))\n",
        "        ACCN[i][10] = cal\n",
        "        cal = 0\n",
        "        for j in range (n-l):\n",
        "            cal = cal + (description[j][2] * description[j+1][2] / (n-l))\n",
        "        ACCN[i][11] = cal\n",
        "\n",
        "        ##Calculate CJK:\n",
        "        cal = 0\n",
        "        for j in range (n-l):\n",
        "            cal = cal + (description[j][0] * description[j+1][1] / (n-l))\n",
        "        ACCN[i][12] = cal\n",
        "        cal = 0\n",
        "        for j in range (n-l):\n",
        "            cal = cal + (description[j][0] * description[j+1][2] / (n-l))\n",
        "        ACCN[i][13] = cal\n",
        "        for j in range (n-l):\n",
        "            cal = cal + (description[j][1] * description[j+1][0] / (n-l))\n",
        "        ACCN[i][14] = cal\n",
        "        for j in range (n-l):\n",
        "            cal = cal + (description[j][1] * description[j+1][2] / (n-l))\n",
        "        ACCN[i][15] = cal\n",
        "        for j in range (n-l):\n",
        "            cal = cal + (description[j][2] * description[j+1][0] / (n-l))\n",
        "        ACCN[i][16] = cal\n",
        "        for j in range (n-l):\n",
        "            cal = cal + (description[j][2] * description[j+1][1] / (n-l))\n",
        "        ACCN[i][17] = cal\n",
        "\n",
        "        ##l=3\n",
        "        ##Calculate AJJ:\n",
        "        l   = 3\n",
        "        n   = len(dataset[i])\n",
        "        cal = 0\n",
        "        for j in range (n-l):\n",
        "            cal = cal + (description[j][0] * description[j+1][0] / (n-l))\n",
        "        ACCN[i][18] = cal\n",
        "        cal = 0\n",
        "        for j in range (n-l):\n",
        "            cal = cal + (description[j][1] * description[j+1][1] / (n-l))\n",
        "        ACCN[i][19] = cal\n",
        "        cal = 0\n",
        "        for j in range (n-l):\n",
        "            cal = cal + (description[j][2] * description[j+1][2] / (n-l))\n",
        "        ACCN[i][20] = cal\n",
        "\n",
        "        ##Calculate CJK:\n",
        "        cal = 0\n",
        "        for j in range (n-l):\n",
        "            cal = cal + (description[j][0] * description[j+1][1] / (n-l))\n",
        "        ACCN[i][21] = cal\n",
        "        cal = 0\n",
        "        for j in range (n-l):\n",
        "            cal = cal + (description[j][0] * description[j+1][2] / (n-l))\n",
        "        ACCN[i][22] = cal\n",
        "        for j in range (n-l):\n",
        "            cal = cal + (description[j][1] * description[j+1][0] / (n-l))\n",
        "        ACCN[i][23] = cal\n",
        "        for j in range (n-l):\n",
        "            cal = cal + (description[j][1] * description[j+1][2] / (n-l))\n",
        "        ACCN[i][24] = cal\n",
        "        for j in range (n-l):\n",
        "            cal = cal + (description[j][2] * description[j+1][0] / (n-l))\n",
        "        ACCN[i][25] = cal\n",
        "        for j in range (n-l):\n",
        "            cal = cal + (description[j][2] * description[j+1][1] / (n-l))\n",
        "        ACCN[i][26] = cal\n",
        "\n",
        "        ##l=4\n",
        "        ##Calculate AJJ:\n",
        "        l   = 4\n",
        "        n   = len(dataset[i])\n",
        "        cal = 0\n",
        "        for j in range (n-l):\n",
        "            cal = cal + (description[j][0] * description[j+1][0] / (n-l))\n",
        "        ACCN[i][27] = cal\n",
        "        cal = 0\n",
        "        for j in range (n-l):\n",
        "            cal = cal + (description[j][1] * description[j+1][1] / (n-l))\n",
        "        ACCN[i][28] = cal\n",
        "        cal = 0\n",
        "        for j in range (n-l):\n",
        "            cal = cal + (description[j][2] * description[j+1][2] / (n-l))\n",
        "        ACCN[i][29] = cal\n",
        "\n",
        "        ##Calculate CJK:\n",
        "        cal = 0\n",
        "        for j in range (n-l):\n",
        "            cal = cal + (description[j][0] * description[j+1][1] / (n-l))\n",
        "        ACCN[i][30] = cal\n",
        "        cal = 0\n",
        "        for j in range (n-l):\n",
        "            cal = cal + (description[j][0] * description[j+1][2] / (n-l))\n",
        "        ACCN[i][31] = cal\n",
        "        for j in range (n-l):\n",
        "            cal = cal + (description[j][1] * description[j+1][0] / (n-l))\n",
        "        ACCN[i][32] = cal\n",
        "        for j in range (n-l):\n",
        "            cal = cal + (description[j][1] * description[j+1][2] / (n-l))\n",
        "        ACCN[i][33] = cal\n",
        "        for j in range (n-l):\n",
        "            cal = cal + (description[j][2] * description[j+1][0] / (n-l))\n",
        "        ACCN[i][34] = cal\n",
        "        for j in range (n-l):\n",
        "            cal = cal + (description[j][2] * description[j+1][1] / (n-l))\n",
        "        ACCN[i][35] = cal\n",
        "\n",
        "        ##l=5\n",
        "        ##Calculate AJJ:\n",
        "        l   = 5\n",
        "        n   = len(dataset[i])\n",
        "        cal = 0\n",
        "        for j in range (n-l):\n",
        "            cal = cal + (description[j][0] * description[j+1][0] / (n-l))\n",
        "        ACCN[i][36] = cal\n",
        "        cal = 0\n",
        "        for j in range (n-l):\n",
        "            cal = cal + (description[j][1] * description[j+1][1] / (n-l))\n",
        "        ACCN[i][37] = cal\n",
        "        cal = 0\n",
        "        for j in range (n-l):\n",
        "            cal = cal + (description[j][2] * description[j+1][2] / (n-l))\n",
        "        ACCN[i][38] = cal\n",
        "\n",
        "        ##Calculate CJK:\n",
        "        cal = 0\n",
        "        for j in range (n-l):\n",
        "            cal = cal + (description[j][0] * description[j+1][1] / (n-l))\n",
        "        ACCN[i][39] = cal\n",
        "        cal = 0\n",
        "        for j in range (n-l):\n",
        "            cal = cal + (description[j][0] * description[j+1][2] / (n-l))\n",
        "        ACCN[i][40] = cal\n",
        "        for j in range (n-l):\n",
        "            cal = cal + (description[j][1] * description[j+1][0] / (n-l))\n",
        "        ACCN[i][41] = cal\n",
        "        for j in range (n-l):\n",
        "            cal = cal + (description[j][1] * description[j+1][2] / (n-l))\n",
        "        ACCN[i][42] = cal\n",
        "        for j in range (n-l):\n",
        "            cal = cal + (description[j][2] * description[j+1][0] / (n-l))\n",
        "        ACCN[i][43] = cal\n",
        "        for j in range (n-l):\n",
        "            cal = cal + (description[j][2] * description[j+1][1] / (n-l))\n",
        "        ACCN[i][44] = cal\n",
        "\n",
        "    return ACCN"
      ],
      "execution_count": null,
      "outputs": []
    },
    {
      "cell_type": "code",
      "metadata": {
        "id": "nBTD0xeE_oLa"
      },
      "source": [
        "for key, description in Z_descriptor.items():\n",
        "    assert len(description) == 3"
      ],
      "execution_count": null,
      "outputs": []
    },
    {
      "cell_type": "code",
      "metadata": {
        "colab": {
          "base_uri": "https://localhost:8080/"
        },
        "id": "C388ZtvWxbyc",
        "outputId": "f170f35b-1223-418c-d7d5-19f98dc6ef63"
      },
      "source": [
        "## Read the dataset\n",
        "dataset_test  = ReadTxtName(r'./PositiveY.txt')\n",
        "\n",
        "## Protein annotation:\n",
        "dataset_test = encode(dataset_test)\n",
        "\n",
        "dataset_test[0]"
      ],
      "execution_count": null,
      "outputs": [
        {
          "output_type": "execute_result",
          "data": {
            "text/plain": [
              "[[-4.92, 1.3, 0.45],\n",
              " [2.23, -5.36, 0.3],\n",
              " [2.18, 0.53, -1.14],\n",
              " [2.18, 0.53, -1.14],\n",
              " [2.88, 2.52, -3.44],\n",
              " [0.0, 0.0, 0.0],\n",
              " [-4.92, 1.3, 0.45],\n",
              " [2.84, 1.41, -3.14],\n",
              " [3.08, 0.39, -0.07],\n",
              " [2.84, 1.41, -3.14]]"
            ]
          },
          "metadata": {},
          "execution_count": 65
        }
      ]
    },
    {
      "cell_type": "code",
      "source": [
        "dataset_test  = ReadTxtName('PositiveY.txt')\n",
        "\n",
        "## Protein annotation:dataset_test = encode(dataset_test)\n",
        "\n",
        "dataset_test[0]\n"
      ],
      "metadata": {
        "colab": {
          "base_uri": "https://localhost:8080/",
          "height": 36
        },
        "id": "ddNml3EYNHAX",
        "outputId": "1cdfd84a-4dbd-4e0f-d84a-2ddc7f783942"
      },
      "execution_count": null,
      "outputs": [
        {
          "output_type": "execute_result",
          "data": {
            "text/plain": [
              "'FGQQRXFKEK'"
            ],
            "application/vnd.google.colaboratory.intrinsic+json": {
              "type": "string"
            }
          },
          "metadata": {},
          "execution_count": 13
        }
      ]
    },
    {
      "cell_type": "code",
      "metadata": {
        "colab": {
          "base_uri": "https://localhost:8080/"
        },
        "outputId": "73a1e9d0-ffad-40ee-afa7-8208feb488ba",
        "id": "aOUMc_ivXFUh"
      },
      "source": [
        "## Read the dataset\n",
        "#dataset_test  = ReadTxtName(r'./PositiveB.txt')\n",
        "dataset_test  = ReadTxtName('FilteredB.txt')\n",
        "## Protein annotation:\n",
        "dataset_test = encode(dataset_test)\n",
        "\n",
        "dataset_test[0]"
      ],
      "execution_count": null,
      "outputs": [
        {
          "output_type": "execute_result",
          "data": {
            "text/plain": [
              "[[2.88, 2.52, -3.44],\n",
              " [-2.49, -0.27, -0.41],\n",
              " [0.07, -1.73, 0.09],\n",
              " [-4.44, -1.68, -1.03],\n",
              " [-4.19, -1.03, -0.98],\n",
              " [2.23, -5.36, 0.3],\n",
              " [3.64, 1.13, 2.36],\n",
              " [0.92, -2.09, -1.4],\n",
              " [0.07, -1.73, 0.09],\n",
              " [-4.75, 3.65, 0.85]]"
            ]
          },
          "metadata": {},
          "execution_count": 203
        }
      ]
    },
    {
      "cell_type": "markdown",
      "source": [
        "added text for positive L .text"
      ],
      "metadata": {
        "id": "fb28BifWNH2S"
      }
    },
    {
      "cell_type": "markdown",
      "metadata": {
        "id": "fhOZDM8gv3uu"
      },
      "source": [
        "#### Model PRO-I-GEN\n"
      ]
    },
    {
      "cell_type": "code",
      "source": [
        "import torch\n",
        "import torch.nn as nn\n",
        "import torch.optim as optim\n",
        "from torch.utils.data import Dataset, TensorDataset\n",
        "from torch.utils.data import DataLoader\n",
        "#import models as models\n",
        "# pip install tqdm"
      ],
      "metadata": {
        "id": "49spoC44J_oR"
      },
      "execution_count": null,
      "outputs": []
    },
    {
      "cell_type": "code",
      "metadata": {
        "id": "87lRHfsehHjQ"
      },
      "source": [
        "class Lambda(nn.Module):\n",
        "    def __init__(self, func):\n",
        "        super().__init__()\n",
        "        self.func = func\n",
        "\n",
        "    def forward(self, x):\n",
        "        return self.func(x)\n",
        "\n",
        "\n",
        "def preprocess(x):\n",
        "    return x.view(-1, 1, 45, 1)\n",
        "\n",
        "\n",
        "\n",
        "def Antigens(antigens, num_epochs=9000, batch_size=128, model=None, lrate=0.001):\n",
        "\n",
        "    counter   = antigens.shape[1] - 1\n",
        "    X         = antigens[:,:counter]        # Protein ACC\n",
        "    Y         = antigens[:,45:]             # Whether it's BPA\n",
        "\n",
        "\n",
        "    if not model:\n",
        "        model = nn.Sequential(                         # Deep Neural Network\n",
        "                    Lambda(preprocess),\n",
        "                    nn.Conv2d(1, 16, kernel_size=3, stride=2, padding=1),\n",
        "                    nn.ReLU(),\n",
        "                    nn.Conv2d(16, 16, kernel_size=3, stride=2, padding=1),\n",
        "                    nn.ReLU(),\n",
        "                    nn.Conv2d(16, 1, kernel_size=3, stride=2, padding=1),\n",
        "                    nn.ReLU(),\n",
        "                    nn.AvgPool2d((6, 1)),\n",
        "                    Lambda(lambda x: x.view(x.size(0), -1)),\n",
        "                )\n",
        "\n",
        "    opt   = optim.Adam(model.parameters(), lr=lrate)\n",
        "    td    = TensorDataset(X, Y)\n",
        "    epoch = 0\n",
        "    best_loss = 1.0\n",
        "    best_state = None\n",
        "    loss = None\n",
        "    history = []\n",
        "\n",
        "\n",
        "\n",
        "    model.train()\n",
        "    while epoch < num_epochs:\n",
        "        data = [ [x, y] for (x, y) in DataLoader(td, batch_size, shuffle=True, drop_last=True) ]\n",
        "        for x, y in tqdm(data, desc=f\"Epoch {epoch}\"):\n",
        "            opt.zero_grad()\n",
        "            result = model(x)\n",
        "            # print(x.shape, y.shape, result.shape)\n",
        "            loss   = ((result - y)**2).mean() # MSE Loss\n",
        "            #loss   = nn.CrossEntropyLoss(result, y).mean()\n",
        "            #loss   = torch.mean(torch.clamp(1 - result.t() * y, min=0))  # hinge loss\n",
        "            #loss  += 0.01 * torch.mean(model.weight ** 2)  # l2 penalty\n",
        "            loss.backward()\n",
        "            opt.step()\n",
        "\n",
        "            if loss < best_loss:\n",
        "                best_loss = loss\n",
        "                best_state = model.state_dict()\n",
        "\n",
        "        epoch += 1\n",
        "\n",
        "        # print(loss.item() if loss else \"\")\n",
        "        if loss:\n",
        "            history += [loss]\n",
        "    model.load_state_dict(best_state)\n",
        "    return model, history\n",
        "\n",
        "\n"
      ],
      "execution_count": null,
      "outputs": []
    },
    {
      "cell_type": "markdown",
      "metadata": {
        "id": "FeXN9PXKyI21"
      },
      "source": [
        "#### Train for Antigen"
      ]
    },
    {
      "cell_type": "code",
      "metadata": {
        "id": "G-nqsLZc8bYP"
      },
      "source": [
        "## Read the dataset\n",
        "datasetA_p  = ReadTxtName(r'./PositiveB.txt')\n",
        "datasetA_n  = ReadTxtName(r'./NegativeB.txt')\n",
        "\n",
        "## Protein annotation:\n",
        "datasetA_n = ACC(datasetA_n)\n",
        "datasetA_p = ACC(datasetA_p)\n",
        "for i in range (len(datasetA_p)):\n",
        "    datasetA_p[i][45] = 1\n",
        "\n",
        "target = [*datasetA_n, *datasetA_p]"
      ],
      "execution_count": null,
      "outputs": []
    },
    {
      "cell_type": "code",
      "source": [
        "## Read the dataset\n",
        "datasetA_p  = ReadTxtName('FilteredB.txt')\n",
        "datasetA_n  = ReadTxtName(r'./NegativeB.txt')\n",
        "\n",
        "## Protein annotation:\n",
        "datasetA_n = ACC(datasetA_n)\n",
        "datasetA_p = ACC(datasetA_p)\n",
        "for i in range (len(datasetA_p)):\n",
        "    datasetA_p[i][45] = 1\n",
        "\n",
        "target = [*datasetA_n, *datasetA_p]"
      ],
      "metadata": {
        "id": "6Pdwnnm9XOhY"
      },
      "execution_count": null,
      "outputs": []
    },
    {
      "cell_type": "markdown",
      "source": [
        "duplicated the code for PositiveL"
      ],
      "metadata": {
        "id": "7lhKoQF6fsok"
      }
    },
    {
      "cell_type": "code",
      "metadata": {
        "colab": {
          "base_uri": "https://localhost:8080/"
        },
        "id": "rz_umd_M6E2g",
        "outputId": "ca8265a7-d3dc-4d5d-f503-18bf677790b1"
      },
      "source": [
        "antigens = torch.tensor(target)\n",
        "counter   = antigens.shape[1] - 1\n",
        "X         = antigens[:,:counter]        # Protein ACC\n",
        "Y         = antigens[:,45:]             # Whether it's BPA\n",
        "\n",
        "X.shape, Y.shape\n",
        "\n"
      ],
      "execution_count": null,
      "outputs": [
        {
          "output_type": "execute_result",
          "data": {
            "text/plain": [
              "(torch.Size([5610, 45]), torch.Size([5610, 1]))"
            ]
          },
          "metadata": {},
          "execution_count": 207
        }
      ]
    },
    {
      "cell_type": "code",
      "metadata": {
        "id": "3G9PKEW6yLtS",
        "colab": {
          "base_uri": "https://localhost:8080/"
        },
        "outputId": "e0d0155a-6c14-4f20-e01e-5719915bcc4b"
      },
      "source": [
        "Amodel, training_history = Antigens(torch.tensor(antigens), num_epochs = 100)"
      ],
      "execution_count": null,
      "outputs": [
        {
          "output_type": "stream",
          "name": "stderr",
          "text": [
            "<ipython-input-208-690fef1b0073>:1: UserWarning: To copy construct from a tensor, it is recommended to use sourceTensor.clone().detach() or sourceTensor.clone().detach().requires_grad_(True), rather than torch.tensor(sourceTensor).\n",
            "  Amodel, training_history = Antigens(torch.tensor(antigens), num_epochs = 100)\n",
            "Epoch 0: 100%|██████████| 43/43 [00:00<00:00, 151.35it/s]\n",
            "Epoch 1: 100%|██████████| 43/43 [00:00<00:00, 174.22it/s]\n",
            "Epoch 2: 100%|██████████| 43/43 [00:00<00:00, 164.63it/s]\n",
            "Epoch 3: 100%|██████████| 43/43 [00:00<00:00, 178.17it/s]\n",
            "Epoch 4: 100%|██████████| 43/43 [00:00<00:00, 171.89it/s]\n",
            "Epoch 5: 100%|██████████| 43/43 [00:00<00:00, 166.20it/s]\n",
            "Epoch 6: 100%|██████████| 43/43 [00:00<00:00, 154.58it/s]\n",
            "Epoch 7: 100%|██████████| 43/43 [00:00<00:00, 165.03it/s]\n",
            "Epoch 8: 100%|██████████| 43/43 [00:00<00:00, 151.00it/s]\n",
            "Epoch 9: 100%|██████████| 43/43 [00:00<00:00, 162.58it/s]\n",
            "Epoch 10: 100%|██████████| 43/43 [00:00<00:00, 172.19it/s]\n",
            "Epoch 11: 100%|██████████| 43/43 [00:00<00:00, 177.99it/s]\n",
            "Epoch 12: 100%|██████████| 43/43 [00:00<00:00, 147.31it/s]\n",
            "Epoch 13: 100%|██████████| 43/43 [00:00<00:00, 165.17it/s]\n",
            "Epoch 14: 100%|██████████| 43/43 [00:00<00:00, 160.60it/s]\n",
            "Epoch 15: 100%|██████████| 43/43 [00:00<00:00, 157.55it/s]\n",
            "Epoch 16: 100%|██████████| 43/43 [00:00<00:00, 177.03it/s]\n",
            "Epoch 17: 100%|██████████| 43/43 [00:00<00:00, 185.77it/s]\n",
            "Epoch 18: 100%|██████████| 43/43 [00:00<00:00, 177.60it/s]\n",
            "Epoch 19: 100%|██████████| 43/43 [00:00<00:00, 175.81it/s]\n",
            "Epoch 20: 100%|██████████| 43/43 [00:00<00:00, 171.82it/s]\n",
            "Epoch 21: 100%|██████████| 43/43 [00:00<00:00, 117.47it/s]\n",
            "Epoch 22: 100%|██████████| 43/43 [00:00<00:00, 123.68it/s]\n",
            "Epoch 23: 100%|██████████| 43/43 [00:00<00:00, 125.59it/s]\n",
            "Epoch 24: 100%|██████████| 43/43 [00:00<00:00, 119.32it/s]\n",
            "Epoch 25: 100%|██████████| 43/43 [00:00<00:00, 121.23it/s]\n",
            "Epoch 26: 100%|██████████| 43/43 [00:00<00:00, 155.25it/s]\n",
            "Epoch 27: 100%|██████████| 43/43 [00:00<00:00, 174.74it/s]\n",
            "Epoch 28: 100%|██████████| 43/43 [00:00<00:00, 174.64it/s]\n",
            "Epoch 29: 100%|██████████| 43/43 [00:00<00:00, 166.17it/s]\n",
            "Epoch 30: 100%|██████████| 43/43 [00:00<00:00, 169.56it/s]\n",
            "Epoch 31: 100%|██████████| 43/43 [00:00<00:00, 176.19it/s]\n",
            "Epoch 32: 100%|██████████| 43/43 [00:00<00:00, 180.51it/s]\n",
            "Epoch 33: 100%|██████████| 43/43 [00:00<00:00, 178.99it/s]\n",
            "Epoch 34: 100%|██████████| 43/43 [00:00<00:00, 168.83it/s]\n",
            "Epoch 35: 100%|██████████| 43/43 [00:00<00:00, 180.48it/s]\n",
            "Epoch 36: 100%|██████████| 43/43 [00:00<00:00, 183.27it/s]\n",
            "Epoch 37: 100%|██████████| 43/43 [00:00<00:00, 177.60it/s]\n",
            "Epoch 38: 100%|██████████| 43/43 [00:00<00:00, 172.69it/s]\n",
            "Epoch 39: 100%|██████████| 43/43 [00:00<00:00, 180.13it/s]\n",
            "Epoch 40: 100%|██████████| 43/43 [00:00<00:00, 176.22it/s]\n",
            "Epoch 41: 100%|██████████| 43/43 [00:00<00:00, 168.22it/s]\n",
            "Epoch 42: 100%|██████████| 43/43 [00:00<00:00, 176.94it/s]\n",
            "Epoch 43: 100%|██████████| 43/43 [00:00<00:00, 170.54it/s]\n",
            "Epoch 44: 100%|██████████| 43/43 [00:00<00:00, 159.07it/s]\n",
            "Epoch 45: 100%|██████████| 43/43 [00:00<00:00, 154.63it/s]\n",
            "Epoch 46: 100%|██████████| 43/43 [00:00<00:00, 169.20it/s]\n",
            "Epoch 47: 100%|██████████| 43/43 [00:00<00:00, 175.88it/s]\n",
            "Epoch 48: 100%|██████████| 43/43 [00:00<00:00, 171.89it/s]\n",
            "Epoch 49: 100%|██████████| 43/43 [00:00<00:00, 180.87it/s]\n",
            "Epoch 50: 100%|██████████| 43/43 [00:00<00:00, 179.49it/s]\n",
            "Epoch 51: 100%|██████████| 43/43 [00:00<00:00, 164.52it/s]\n",
            "Epoch 52: 100%|██████████| 43/43 [00:00<00:00, 175.52it/s]\n",
            "Epoch 53: 100%|██████████| 43/43 [00:00<00:00, 174.60it/s]\n",
            "Epoch 54: 100%|██████████| 43/43 [00:00<00:00, 177.06it/s]\n",
            "Epoch 55: 100%|██████████| 43/43 [00:00<00:00, 177.84it/s]\n",
            "Epoch 56: 100%|██████████| 43/43 [00:00<00:00, 174.36it/s]\n",
            "Epoch 57: 100%|██████████| 43/43 [00:00<00:00, 178.05it/s]\n",
            "Epoch 58: 100%|██████████| 43/43 [00:00<00:00, 164.88it/s]\n",
            "Epoch 59: 100%|██████████| 43/43 [00:00<00:00, 151.71it/s]\n",
            "Epoch 60: 100%|██████████| 43/43 [00:00<00:00, 119.69it/s]\n",
            "Epoch 61: 100%|██████████| 43/43 [00:00<00:00, 115.47it/s]\n",
            "Epoch 62: 100%|██████████| 43/43 [00:00<00:00, 114.41it/s]\n",
            "Epoch 63: 100%|██████████| 43/43 [00:00<00:00, 109.63it/s]\n",
            "Epoch 64: 100%|██████████| 43/43 [00:00<00:00, 124.70it/s]\n",
            "Epoch 65: 100%|██████████| 43/43 [00:00<00:00, 172.00it/s]\n",
            "Epoch 66: 100%|██████████| 43/43 [00:00<00:00, 164.24it/s]\n",
            "Epoch 67: 100%|██████████| 43/43 [00:00<00:00, 176.44it/s]\n",
            "Epoch 68: 100%|██████████| 43/43 [00:00<00:00, 166.37it/s]\n",
            "Epoch 69: 100%|██████████| 43/43 [00:00<00:00, 166.74it/s]\n",
            "Epoch 70: 100%|██████████| 43/43 [00:00<00:00, 176.55it/s]\n",
            "Epoch 71: 100%|██████████| 43/43 [00:00<00:00, 183.26it/s]\n",
            "Epoch 72: 100%|██████████| 43/43 [00:00<00:00, 177.05it/s]\n",
            "Epoch 73: 100%|██████████| 43/43 [00:00<00:00, 182.65it/s]\n",
            "Epoch 74: 100%|██████████| 43/43 [00:00<00:00, 172.02it/s]\n",
            "Epoch 75: 100%|██████████| 43/43 [00:00<00:00, 180.61it/s]\n",
            "Epoch 76: 100%|██████████| 43/43 [00:00<00:00, 171.15it/s]\n",
            "Epoch 77: 100%|██████████| 43/43 [00:00<00:00, 180.56it/s]\n",
            "Epoch 78: 100%|██████████| 43/43 [00:00<00:00, 174.41it/s]\n",
            "Epoch 79: 100%|██████████| 43/43 [00:00<00:00, 184.13it/s]\n",
            "Epoch 80: 100%|██████████| 43/43 [00:00<00:00, 181.23it/s]\n",
            "Epoch 81: 100%|██████████| 43/43 [00:00<00:00, 174.25it/s]\n",
            "Epoch 82: 100%|██████████| 43/43 [00:00<00:00, 182.94it/s]\n",
            "Epoch 83: 100%|██████████| 43/43 [00:00<00:00, 170.22it/s]\n",
            "Epoch 84: 100%|██████████| 43/43 [00:00<00:00, 185.09it/s]\n",
            "Epoch 85: 100%|██████████| 43/43 [00:00<00:00, 179.59it/s]\n",
            "Epoch 86: 100%|██████████| 43/43 [00:00<00:00, 167.67it/s]\n",
            "Epoch 87: 100%|██████████| 43/43 [00:00<00:00, 185.24it/s]\n",
            "Epoch 88: 100%|██████████| 43/43 [00:00<00:00, 185.93it/s]\n",
            "Epoch 89: 100%|██████████| 43/43 [00:00<00:00, 190.80it/s]\n",
            "Epoch 90: 100%|██████████| 43/43 [00:00<00:00, 178.48it/s]\n",
            "Epoch 91: 100%|██████████| 43/43 [00:00<00:00, 179.33it/s]\n",
            "Epoch 92: 100%|██████████| 43/43 [00:00<00:00, 180.07it/s]\n",
            "Epoch 93: 100%|██████████| 43/43 [00:00<00:00, 188.74it/s]\n",
            "Epoch 94: 100%|██████████| 43/43 [00:00<00:00, 176.29it/s]\n",
            "Epoch 95: 100%|██████████| 43/43 [00:00<00:00, 176.12it/s]\n",
            "Epoch 96: 100%|██████████| 43/43 [00:00<00:00, 165.54it/s]\n",
            "Epoch 97: 100%|██████████| 43/43 [00:00<00:00, 169.38it/s]\n",
            "Epoch 98: 100%|██████████| 43/43 [00:00<00:00, 142.85it/s]\n",
            "Epoch 99: 100%|██████████| 43/43 [00:00<00:00, 124.98it/s]\n"
          ]
        }
      ]
    },
    {
      "cell_type": "code",
      "metadata": {
        "colab": {
          "base_uri": "https://localhost:8080/",
          "height": 452
        },
        "id": "30uYCn1rCd2d",
        "outputId": "5fd9c93f-718c-4e45-b30e-85695fabdf14"
      },
      "source": [
        "import matplotlib.pyplot as plt\n",
        "plt.plot(Y.numpy())\n",
        "plt.title(\"Antigen Training Labels\")\n",
        "plt.show()"
      ],
      "execution_count": null,
      "outputs": [
        {
          "output_type": "display_data",
          "data": {
            "text/plain": [
              "<Figure size 640x480 with 1 Axes>"
            ],
            "image/png": "[encoded data removed]"
          },
          "metadata": {}
        }
      ]
    },
    {
      "cell_type": "code",
      "metadata": {
        "colab": {
          "base_uri": "https://localhost:8080/",
          "height": 773
        },
        "id": "LpLPgFd4-_fX",
        "outputId": "1a8163d0-2b58-4610-ec30-6cdd99d2863e"
      },
      "source": [
        "plt.plot(training_history)\n",
        "plt.title(\"Antigen Training Loss\")\n",
        "plt.show()"
      ],
      "execution_count": null,
      "outputs": [
        {
          "output_type": "error",
          "ename": "RuntimeError",
          "evalue": "Can't call numpy() on Tensor that requires grad. Use tensor.detach().numpy() instead.",
          "traceback": [
            "\u001b[0;31m---------------------------------------------------------------------------\u001b[0m",
            "\u001b[0;31mRuntimeError\u001b[0m                              Traceback (most recent call last)",
            "\u001b[0;32m<ipython-input-153-bf15cfb1c8af>\u001b[0m in \u001b[0;36m<cell line: 1>\u001b[0;34m()\u001b[0m\n\u001b[0;32m----> 1\u001b[0;31m \u001b[0mplt\u001b[0m\u001b[0;34m.\u001b[0m\u001b[0mplot\u001b[0m\u001b[0;34m(\u001b[0m\u001b[0mtraining_history\u001b[0m\u001b[0;34m)\u001b[0m\u001b[0;34m\u001b[0m\u001b[0;34m\u001b[0m\u001b[0m\n\u001b[0m\u001b[1;32m      2\u001b[0m \u001b[0mplt\u001b[0m\u001b[0;34m.\u001b[0m\u001b[0mtitle\u001b[0m\u001b[0;34m(\u001b[0m\u001b[0;34m\"Antigen Training Loss\"\u001b[0m\u001b[0;34m)\u001b[0m\u001b[0;34m\u001b[0m\u001b[0;34m\u001b[0m\u001b[0m\n\u001b[1;32m      3\u001b[0m \u001b[0mplt\u001b[0m\u001b[0;34m.\u001b[0m\u001b[0mshow\u001b[0m\u001b[0;34m(\u001b[0m\u001b[0;34m)\u001b[0m\u001b[0;34m\u001b[0m\u001b[0;34m\u001b[0m\u001b[0m\n",
            "\u001b[0;32m/usr/local/lib/python3.10/dist-packages/matplotlib/pyplot.py\u001b[0m in \u001b[0;36mplot\u001b[0;34m(scalex, scaley, data, *args, **kwargs)\u001b[0m\n\u001b[1;32m   2810\u001b[0m \u001b[0;34m@\u001b[0m\u001b[0m_copy_docstring_and_deprecators\u001b[0m\u001b[0;34m(\u001b[0m\u001b[0mAxes\u001b[0m\u001b[0;34m.\u001b[0m\u001b[0mplot\u001b[0m\u001b[0;34m)\u001b[0m\u001b[0;34m\u001b[0m\u001b[0;34m\u001b[0m\u001b[0m\n\u001b[1;32m   2811\u001b[0m \u001b[0;32mdef\u001b[0m \u001b[0mplot\u001b[0m\u001b[0;34m(\u001b[0m\u001b[0;34m*\u001b[0m\u001b[0margs\u001b[0m\u001b[0;34m,\u001b[0m \u001b[0mscalex\u001b[0m\u001b[0;34m=\u001b[0m\u001b[0;32mTrue\u001b[0m\u001b[0;34m,\u001b[0m \u001b[0mscaley\u001b[0m\u001b[0;34m=\u001b[0m\u001b[0;32mTrue\u001b[0m\u001b[0;34m,\u001b[0m \u001b[0mdata\u001b[0m\u001b[0;34m=\u001b[0m\u001b[0;32mNone\u001b[0m\u001b[0;34m,\u001b[0m \u001b[0;34m**\u001b[0m\u001b[0mkwargs\u001b[0m\u001b[0;34m)\u001b[0m\u001b[0;34m:\u001b[0m\u001b[0;34m\u001b[0m\u001b[0;34m\u001b[0m\u001b[0m\n\u001b[0;32m-> 2812\u001b[0;31m     return gca().plot(\n\u001b[0m\u001b[1;32m   2813\u001b[0m         \u001b[0;34m*\u001b[0m\u001b[0margs\u001b[0m\u001b[0;34m,\u001b[0m \u001b[0mscalex\u001b[0m\u001b[0;34m=\u001b[0m\u001b[0mscalex\u001b[0m\u001b[0;34m,\u001b[0m \u001b[0mscaley\u001b[0m\u001b[0;34m=\u001b[0m\u001b[0mscaley\u001b[0m\u001b[0;34m,\u001b[0m\u001b[0;34m\u001b[0m\u001b[0;34m\u001b[0m\u001b[0m\n\u001b[1;32m   2814\u001b[0m         **({\"data\": data} if data is not None else {}), **kwargs)\n",
            "\u001b[0;32m/usr/local/lib/python3.10/dist-packages/matplotlib/axes/_axes.py\u001b[0m in \u001b[0;36mplot\u001b[0;34m(self, scalex, scaley, data, *args, **kwargs)\u001b[0m\n\u001b[1;32m   1686\u001b[0m         \"\"\"\n\u001b[1;32m   1687\u001b[0m         \u001b[0mkwargs\u001b[0m \u001b[0;34m=\u001b[0m \u001b[0mcbook\u001b[0m\u001b[0;34m.\u001b[0m\u001b[0mnormalize_kwargs\u001b[0m\u001b[0;34m(\u001b[0m\u001b[0mkwargs\u001b[0m\u001b[0;34m,\u001b[0m \u001b[0mmlines\u001b[0m\u001b[0;34m.\u001b[0m\u001b[0mLine2D\u001b[0m\u001b[0;34m)\u001b[0m\u001b[0;34m\u001b[0m\u001b[0;34m\u001b[0m\u001b[0m\n\u001b[0;32m-> 1688\u001b[0;31m         \u001b[0mlines\u001b[0m \u001b[0;34m=\u001b[0m \u001b[0;34m[\u001b[0m\u001b[0;34m*\u001b[0m\u001b[0mself\u001b[0m\u001b[0;34m.\u001b[0m\u001b[0m_get_lines\u001b[0m\u001b[0;34m(\u001b[0m\u001b[0;34m*\u001b[0m\u001b[0margs\u001b[0m\u001b[0;34m,\u001b[0m \u001b[0mdata\u001b[0m\u001b[0;34m=\u001b[0m\u001b[0mdata\u001b[0m\u001b[0;34m,\u001b[0m \u001b[0;34m**\u001b[0m\u001b[0mkwargs\u001b[0m\u001b[0;34m)\u001b[0m\u001b[0;34m]\u001b[0m\u001b[0;34m\u001b[0m\u001b[0;34m\u001b[0m\u001b[0m\n\u001b[0m\u001b[1;32m   1689\u001b[0m         \u001b[0;32mfor\u001b[0m \u001b[0mline\u001b[0m \u001b[0;32min\u001b[0m \u001b[0mlines\u001b[0m\u001b[0;34m:\u001b[0m\u001b[0;34m\u001b[0m\u001b[0;34m\u001b[0m\u001b[0m\n\u001b[1;32m   1690\u001b[0m             \u001b[0mself\u001b[0m\u001b[0;34m.\u001b[0m\u001b[0madd_line\u001b[0m\u001b[0;34m(\u001b[0m\u001b[0mline\u001b[0m\u001b[0;34m)\u001b[0m\u001b[0;34m\u001b[0m\u001b[0;34m\u001b[0m\u001b[0m\n",
            "\u001b[0;32m/usr/local/lib/python3.10/dist-packages/matplotlib/axes/_base.py\u001b[0m in \u001b[0;36m__call__\u001b[0;34m(self, data, *args, **kwargs)\u001b[0m\n\u001b[1;32m    309\u001b[0m                 \u001b[0mthis\u001b[0m \u001b[0;34m+=\u001b[0m \u001b[0margs\u001b[0m\u001b[0;34m[\u001b[0m\u001b[0;36m0\u001b[0m\u001b[0;34m]\u001b[0m\u001b[0;34m,\u001b[0m\u001b[0;34m\u001b[0m\u001b[0;34m\u001b[0m\u001b[0m\n\u001b[1;32m    310\u001b[0m                 \u001b[0margs\u001b[0m \u001b[0;34m=\u001b[0m \u001b[0margs\u001b[0m\u001b[0;34m[\u001b[0m\u001b[0;36m1\u001b[0m\u001b[0;34m:\u001b[0m\u001b[0;34m]\u001b[0m\u001b[0;34m\u001b[0m\u001b[0;34m\u001b[0m\u001b[0m\n\u001b[0;32m--> 311\u001b[0;31m             yield from self._plot_args(\n\u001b[0m\u001b[1;32m    312\u001b[0m                 this, kwargs, ambiguous_fmt_datakey=ambiguous_fmt_datakey)\n\u001b[1;32m    313\u001b[0m \u001b[0;34m\u001b[0m\u001b[0m\n",
            "\u001b[0;32m/usr/local/lib/python3.10/dist-packages/matplotlib/axes/_base.py\u001b[0m in \u001b[0;36m_plot_args\u001b[0;34m(self, tup, kwargs, return_kwargs, ambiguous_fmt_datakey)\u001b[0m\n\u001b[1;32m    494\u001b[0m             \u001b[0my\u001b[0m \u001b[0;34m=\u001b[0m \u001b[0m_check_1d\u001b[0m\u001b[0;34m(\u001b[0m\u001b[0mxy\u001b[0m\u001b[0;34m[\u001b[0m\u001b[0;36m1\u001b[0m\u001b[0;34m]\u001b[0m\u001b[0;34m)\u001b[0m\u001b[0;34m\u001b[0m\u001b[0;34m\u001b[0m\u001b[0m\n\u001b[1;32m    495\u001b[0m         \u001b[0;32melse\u001b[0m\u001b[0;34m:\u001b[0m\u001b[0;34m\u001b[0m\u001b[0;34m\u001b[0m\u001b[0m\n\u001b[0;32m--> 496\u001b[0;31m             \u001b[0mx\u001b[0m\u001b[0;34m,\u001b[0m \u001b[0my\u001b[0m \u001b[0;34m=\u001b[0m \u001b[0mindex_of\u001b[0m\u001b[0;34m(\u001b[0m\u001b[0mxy\u001b[0m\u001b[0;34m[\u001b[0m\u001b[0;34m-\u001b[0m\u001b[0;36m1\u001b[0m\u001b[0;34m]\u001b[0m\u001b[0;34m)\u001b[0m\u001b[0;34m\u001b[0m\u001b[0;34m\u001b[0m\u001b[0m\n\u001b[0m\u001b[1;32m    497\u001b[0m \u001b[0;34m\u001b[0m\u001b[0m\n\u001b[1;32m    498\u001b[0m         \u001b[0;32mif\u001b[0m \u001b[0mself\u001b[0m\u001b[0;34m.\u001b[0m\u001b[0maxes\u001b[0m\u001b[0;34m.\u001b[0m\u001b[0mxaxis\u001b[0m \u001b[0;32mis\u001b[0m \u001b[0;32mnot\u001b[0m \u001b[0;32mNone\u001b[0m\u001b[0;34m:\u001b[0m\u001b[0;34m\u001b[0m\u001b[0;34m\u001b[0m\u001b[0m\n",
            "\u001b[0;32m/usr/local/lib/python3.10/dist-packages/matplotlib/cbook/__init__.py\u001b[0m in \u001b[0;36mindex_of\u001b[0;34m(y)\u001b[0m\n\u001b[1;32m   1654\u001b[0m         \u001b[0;32mpass\u001b[0m\u001b[0;34m\u001b[0m\u001b[0;34m\u001b[0m\u001b[0m\n\u001b[1;32m   1655\u001b[0m     \u001b[0;32mtry\u001b[0m\u001b[0;34m:\u001b[0m\u001b[0;34m\u001b[0m\u001b[0;34m\u001b[0m\u001b[0m\n\u001b[0;32m-> 1656\u001b[0;31m         \u001b[0my\u001b[0m \u001b[0;34m=\u001b[0m \u001b[0m_check_1d\u001b[0m\u001b[0;34m(\u001b[0m\u001b[0my\u001b[0m\u001b[0;34m)\u001b[0m\u001b[0;34m\u001b[0m\u001b[0;34m\u001b[0m\u001b[0m\n\u001b[0m\u001b[1;32m   1657\u001b[0m     \u001b[0;32mexcept\u001b[0m \u001b[0;34m(\u001b[0m\u001b[0mnp\u001b[0m\u001b[0;34m.\u001b[0m\u001b[0mVisibleDeprecationWarning\u001b[0m\u001b[0;34m,\u001b[0m \u001b[0mValueError\u001b[0m\u001b[0;34m)\u001b[0m\u001b[0;34m:\u001b[0m\u001b[0;34m\u001b[0m\u001b[0;34m\u001b[0m\u001b[0m\n\u001b[1;32m   1658\u001b[0m         \u001b[0;31m# NumPy 1.19 will warn on ragged input, and we can't actually use it.\u001b[0m\u001b[0;34m\u001b[0m\u001b[0;34m\u001b[0m\u001b[0m\n",
            "\u001b[0;32m/usr/local/lib/python3.10/dist-packages/matplotlib/cbook/__init__.py\u001b[0m in \u001b[0;36m_check_1d\u001b[0;34m(x)\u001b[0m\n\u001b[1;32m   1346\u001b[0m             \u001b[0;32mnot\u001b[0m \u001b[0mhasattr\u001b[0m\u001b[0;34m(\u001b[0m\u001b[0mx\u001b[0m\u001b[0;34m,\u001b[0m \u001b[0;34m'ndim'\u001b[0m\u001b[0;34m)\u001b[0m \u001b[0;32mor\u001b[0m\u001b[0;34m\u001b[0m\u001b[0;34m\u001b[0m\u001b[0m\n\u001b[1;32m   1347\u001b[0m             len(x.shape) < 1):\n\u001b[0;32m-> 1348\u001b[0;31m         \u001b[0;32mreturn\u001b[0m \u001b[0mnp\u001b[0m\u001b[0;34m.\u001b[0m\u001b[0matleast_1d\u001b[0m\u001b[0;34m(\u001b[0m\u001b[0mx\u001b[0m\u001b[0;34m)\u001b[0m\u001b[0;34m\u001b[0m\u001b[0;34m\u001b[0m\u001b[0m\n\u001b[0m\u001b[1;32m   1349\u001b[0m     \u001b[0;32melse\u001b[0m\u001b[0;34m:\u001b[0m\u001b[0;34m\u001b[0m\u001b[0;34m\u001b[0m\u001b[0m\n\u001b[1;32m   1350\u001b[0m         \u001b[0;32mreturn\u001b[0m \u001b[0mx\u001b[0m\u001b[0;34m\u001b[0m\u001b[0;34m\u001b[0m\u001b[0m\n",
            "\u001b[0;32m/usr/local/lib/python3.10/dist-packages/numpy/core/overrides.py\u001b[0m in \u001b[0;36matleast_1d\u001b[0;34m(*args, **kwargs)\u001b[0m\n",
            "\u001b[0;32m/usr/local/lib/python3.10/dist-packages/numpy/core/shape_base.py\u001b[0m in \u001b[0;36matleast_1d\u001b[0;34m(*arys)\u001b[0m\n\u001b[1;32m     63\u001b[0m     \u001b[0mres\u001b[0m \u001b[0;34m=\u001b[0m \u001b[0;34m[\u001b[0m\u001b[0;34m]\u001b[0m\u001b[0;34m\u001b[0m\u001b[0;34m\u001b[0m\u001b[0m\n\u001b[1;32m     64\u001b[0m     \u001b[0;32mfor\u001b[0m \u001b[0mary\u001b[0m \u001b[0;32min\u001b[0m \u001b[0marys\u001b[0m\u001b[0;34m:\u001b[0m\u001b[0;34m\u001b[0m\u001b[0;34m\u001b[0m\u001b[0m\n\u001b[0;32m---> 65\u001b[0;31m         \u001b[0mary\u001b[0m \u001b[0;34m=\u001b[0m \u001b[0masanyarray\u001b[0m\u001b[0;34m(\u001b[0m\u001b[0mary\u001b[0m\u001b[0;34m)\u001b[0m\u001b[0;34m\u001b[0m\u001b[0;34m\u001b[0m\u001b[0m\n\u001b[0m\u001b[1;32m     66\u001b[0m         \u001b[0;32mif\u001b[0m \u001b[0mary\u001b[0m\u001b[0;34m.\u001b[0m\u001b[0mndim\u001b[0m \u001b[0;34m==\u001b[0m \u001b[0;36m0\u001b[0m\u001b[0;34m:\u001b[0m\u001b[0;34m\u001b[0m\u001b[0;34m\u001b[0m\u001b[0m\n\u001b[1;32m     67\u001b[0m             \u001b[0mresult\u001b[0m \u001b[0;34m=\u001b[0m \u001b[0mary\u001b[0m\u001b[0;34m.\u001b[0m\u001b[0mreshape\u001b[0m\u001b[0;34m(\u001b[0m\u001b[0;36m1\u001b[0m\u001b[0;34m)\u001b[0m\u001b[0;34m\u001b[0m\u001b[0;34m\u001b[0m\u001b[0m\n",
            "\u001b[0;32m/usr/local/lib/python3.10/dist-packages/torch/_tensor.py\u001b[0m in \u001b[0;36m__array__\u001b[0;34m(self, dtype)\u001b[0m\n\u001b[1;32m   1028\u001b[0m             \u001b[0;32mreturn\u001b[0m \u001b[0mhandle_torch_function\u001b[0m\u001b[0;34m(\u001b[0m\u001b[0mTensor\u001b[0m\u001b[0;34m.\u001b[0m\u001b[0m__array__\u001b[0m\u001b[0;34m,\u001b[0m \u001b[0;34m(\u001b[0m\u001b[0mself\u001b[0m\u001b[0;34m,\u001b[0m\u001b[0;34m)\u001b[0m\u001b[0;34m,\u001b[0m \u001b[0mself\u001b[0m\u001b[0;34m,\u001b[0m \u001b[0mdtype\u001b[0m\u001b[0;34m=\u001b[0m\u001b[0mdtype\u001b[0m\u001b[0;34m)\u001b[0m\u001b[0;34m\u001b[0m\u001b[0;34m\u001b[0m\u001b[0m\n\u001b[1;32m   1029\u001b[0m         \u001b[0;32mif\u001b[0m \u001b[0mdtype\u001b[0m \u001b[0;32mis\u001b[0m \u001b[0;32mNone\u001b[0m\u001b[0;34m:\u001b[0m\u001b[0;34m\u001b[0m\u001b[0;34m\u001b[0m\u001b[0m\n\u001b[0;32m-> 1030\u001b[0;31m             \u001b[0;32mreturn\u001b[0m \u001b[0mself\u001b[0m\u001b[0;34m.\u001b[0m\u001b[0mnumpy\u001b[0m\u001b[0;34m(\u001b[0m\u001b[0;34m)\u001b[0m\u001b[0;34m\u001b[0m\u001b[0;34m\u001b[0m\u001b[0m\n\u001b[0m\u001b[1;32m   1031\u001b[0m         \u001b[0;32melse\u001b[0m\u001b[0;34m:\u001b[0m\u001b[0;34m\u001b[0m\u001b[0;34m\u001b[0m\u001b[0m\n\u001b[1;32m   1032\u001b[0m             \u001b[0;32mreturn\u001b[0m \u001b[0mself\u001b[0m\u001b[0;34m.\u001b[0m\u001b[0mnumpy\u001b[0m\u001b[0;34m(\u001b[0m\u001b[0;34m)\u001b[0m\u001b[0;34m.\u001b[0m\u001b[0mastype\u001b[0m\u001b[0;34m(\u001b[0m\u001b[0mdtype\u001b[0m\u001b[0;34m,\u001b[0m \u001b[0mcopy\u001b[0m\u001b[0;34m=\u001b[0m\u001b[0;32mFalse\u001b[0m\u001b[0;34m)\u001b[0m\u001b[0;34m\u001b[0m\u001b[0;34m\u001b[0m\u001b[0m\n",
            "\u001b[0;31mRuntimeError\u001b[0m: Can't call numpy() on Tensor that requires grad. Use tensor.detach().numpy() instead."
          ]
        },
        {
          "output_type": "display_data",
          "data": {
            "text/plain": [
              "<Figure size 640x480 with 1 Axes>"
            ],
            "image/png": "[encoded data removed]"
          },
          "metadata": {}
        }
      ]
    },
    {
      "cell_type": "code",
      "source": [],
      "metadata": {
        "colab": {
          "base_uri": "https://localhost:8080/",
          "height": 192
        },
        "id": "PhCjgb5rqgLz",
        "outputId": "6ada0203-61aa-45f8-ce2f-0fcf497e59d6"
      },
      "execution_count": null,
      "outputs": [
        {
          "output_type": "error",
          "ename": "NameError",
          "evalue": "name 'history' is not defined",
          "traceback": [
            "\u001b[0;31m---------------------------------------------------------------------------\u001b[0m",
            "\u001b[0;31mNameError\u001b[0m                                 Traceback (most recent call last)",
            "\u001b[0;32m<ipython-input-78-811684b962ed>\u001b[0m in \u001b[0;36m<cell line: 2>\u001b[0;34m()\u001b[0m\n\u001b[1;32m      1\u001b[0m \u001b[0;31m# list all data in history\u001b[0m\u001b[0;34m\u001b[0m\u001b[0;34m\u001b[0m\u001b[0m\n\u001b[0;32m----> 2\u001b[0;31m \u001b[0mprint\u001b[0m\u001b[0;34m(\u001b[0m\u001b[0mhistory\u001b[0m\u001b[0;34m.\u001b[0m\u001b[0mhistory\u001b[0m\u001b[0;34m.\u001b[0m\u001b[0mkeys\u001b[0m\u001b[0;34m(\u001b[0m\u001b[0;34m)\u001b[0m\u001b[0;34m)\u001b[0m\u001b[0;34m\u001b[0m\u001b[0;34m\u001b[0m\u001b[0m\n\u001b[0m",
            "\u001b[0;31mNameError\u001b[0m: name 'history' is not defined"
          ]
        }
      ]
    },
    {
      "cell_type": "code",
      "source": [
        "filtered_df = pd.read_csv(\"[filtered]100% seq chunk-10.csv\",  )"
      ],
      "metadata": {
        "id": "Zss5xZixo_RA"
      },
      "execution_count": null,
      "outputs": []
    },
    {
      "cell_type": "code",
      "metadata": {
        "id": "zAjNEe5Uyb50",
        "colab": {
          "base_uri": "https://localhost:8080/"
        },
        "outputId": "4dd22c41-4d37-4f0f-ef41-fe61de8e83d6"
      },
      "source": [
        "filtered_dataset_X = ACC(filtered_df['Sequence'].values)\n",
        "antigens = torch.tensor(filtered_dataset_X)\n",
        "\n",
        "counter   = antigens.shape[1] - 1\n",
        "X         = antigens[:,:counter]        # Protein ACC\n",
        "Y         = antigens[:,45:]             # Whether it's BPA\n",
        "\n",
        "#antigens.shape\n",
        "Amodel.eval()\n",
        "Y_pred = Amodel(X)\n",
        "Y_pred_bin = (Y_pred > 0.6).int()\n",
        "\n",
        "X.shape, Y_pred.shape\n",
        "\n"
      ],
      "execution_count": null,
      "outputs": [
        {
          "output_type": "execute_result",
          "data": {
            "text/plain": [
              "(torch.Size([698, 45]), torch.Size([698, 1]))"
            ]
          },
          "metadata": {},
          "execution_count": 211
        }
      ]
    },
    {
      "cell_type": "code",
      "metadata": {
        "id": "Ycr1JtLW1OHY",
        "colab": {
          "base_uri": "https://localhost:8080/",
          "height": 489
        },
        "outputId": "169cbab3-5046-413c-9d1d-363c43942593"
      },
      "source": [
        "print(\"Ignore the 0s, 1 is Antigen Candidate\")\n",
        "\n",
        "Y_pred = Y_pred.detach().numpy()\n",
        "Y_pred_bin = Y_pred_bin.detach().numpy()\n",
        "\n",
        "plt.plot(Y_pred, '--', color=\"plum\")\n",
        "plt.plot(Y_pred_bin, color=\"blue\")\n",
        "plt.title(\"Antigenicity (0 or 1)\")\n",
        "plt.xlabel('Filtered Sequences')\n",
        "plt.ylabel('Antigen candidacy')\n",
        "plt.show()"
      ],
      "execution_count": null,
      "outputs": [
        {
          "output_type": "stream",
          "name": "stdout",
          "text": [
            "Ignore the 0s, 1 is Antigen Candidate\n"
          ]
        },
        {
          "output_type": "display_data",
          "data": {
            "text/plain": [
              "<Figure size 640x480 with 1 Axes>"
            ],
            "image/png": "[encoded data removed]"
          },
          "metadata": {}
        }
      ]
    },
    {
      "cell_type": "code",
      "metadata": {
        "id": "AmYBavRlAVGp",
        "colab": {
          "base_uri": "https://localhost:8080/"
        },
        "outputId": "ea247e19-9245-4178-b9db-e302d3542d11"
      },
      "source": [
        "sequence_r = X[19]\n",
        "sequence_r"
      ],
      "execution_count": null,
      "outputs": [
        {
          "output_type": "execute_result",
          "data": {
            "text/plain": [
              "tensor([-1.9066, -1.3528, -0.2916, -0.1630, -0.6482, -2.2513, -2.5737, -3.7339,\n",
              "        -3.2947, -2.9703, -2.5804, -0.3291,  0.4509, -0.5815, -1.0075, -1.6167,\n",
              "        -2.9160, -2.4264, -2.9518, -1.1726, -0.3766, -0.2238, -0.6678, -2.2190,\n",
              "        -2.9076, -4.3329, -3.8728, -2.5183, -1.6092, -0.4188, -2.4855, -0.6546,\n",
              "        -2.3639, -3.1538, -4.6643, -4.4938, -1.2092, -1.8700, -0.3091, -2.7861,\n",
              "        -0.4870, -1.9755, -2.8307, -3.4680, -3.1359])"
            ]
          },
          "metadata": {},
          "execution_count": 213
        }
      ]
    },
    {
      "cell_type": "code",
      "metadata": {
        "id": "Yx22SEyZPh-O"
      },
      "source": [
        "# Amodel"
      ],
      "execution_count": null,
      "outputs": []
    },
    {
      "cell_type": "code",
      "metadata": {
        "id": "j4JR4sF-MniB"
      },
      "source": [
        "# attention_layer = 6\n",
        "# input = torch.tensor( sequence_r )\n",
        "# fig, ax = plt.subplots(figsize = (16, 2))\n",
        "\n",
        "# for layer_num in range(attention_layer):\n",
        "#     layer = Amodel[layer_num]\n",
        "#     input = layer(input)\n",
        "\n",
        "# data = input.detach().numpy().reshape(input.shape[-2:])\n",
        "# data = input @ torch.tensor( [ np.array(sequence_r) ] )\n",
        "# data = data.reshape( data.shape[-2:] )\n",
        "# data = data.detach().numpy()\n",
        "\n",
        "# # Smoothing\n",
        "# from scipy.ndimage.filters import gaussian_filter\n",
        "# data_smooth = gaussian_filter(data, sigma=1)\n",
        "\n",
        "\n",
        "# # Plot\n",
        "# ax = sns.heatmap(data_smooth)\n",
        "# ax.set_xlabel('Reduced Input Sequence')\n",
        "# ax.set_ylabel('Model (6 Nodes)')\n",
        "\n",
        "# plt.title(\"Correlation matrix between Reduced-Input and Model\")\n",
        "# plt.show()"
      ],
      "execution_count": null,
      "outputs": []
    },
    {
      "cell_type": "code",
      "metadata": {
        "id": "njqQ49KLNJOD"
      },
      "source": [],
      "execution_count": null,
      "outputs": []
    },
    {
      "cell_type": "markdown",
      "metadata": {
        "id": "XQWhckXH5ski"
      },
      "source": [
        "### Custom Model"
      ]
    },
    {
      "cell_type": "code",
      "metadata": {
        "id": "c2yVG28kH5Mq"
      },
      "source": [
        "import tensorflow as tf"
      ],
      "execution_count": null,
      "outputs": []
    },
    {
      "cell_type": "code",
      "metadata": {
        "id": "wWs8sJe7pbBM"
      },
      "source": [
        "# class BahdanauAttention(tf.keras.layers.Layer):\n",
        "#   def __init__(self, units):\n",
        "#     super().__init__()\n",
        "#     # For Eqn. (4), the  Bahdanau attention\n",
        "#     self.W1 = tf.keras.layers.Dense(units, use_bias=False)\n",
        "#     self.W2 = tf.keras.layers.Dense(units, use_bias=False)\n",
        "\n",
        "#     self.attention = tf.keras.layers.AdditiveAttention()\n",
        "\n",
        "#   def call(self, query, value, mask):\n",
        "#     shape_checker = ShapeChecker()\n",
        "#     shape_checker(query, ('batch', 't', 'query_units'))\n",
        "#     shape_checker(value, ('batch', 's', 'value_units'))\n",
        "#     shape_checker(mask, ('batch', 's'))\n",
        "\n",
        "#     # From Eqn. (4), `W1@ht`.\n",
        "#     w1_query = self.W1(query)\n",
        "#     shape_checker(w1_query, ('batch', 't', 'attn_units'))\n",
        "\n",
        "#     # From Eqn. (4), `W2@hs`.\n",
        "#     w2_key = self.W2(value)\n",
        "#     shape_checker(w2_key, ('batch', 's', 'attn_units'))\n",
        "\n",
        "#     query_mask = tf.ones(tf.shape(query)[:-1], dtype=bool)\n",
        "#     value_mask = mask\n",
        "\n",
        "#     context_vector, attention_weights = self.attention(\n",
        "#         inputs = [w1_query, value, w2_key],\n",
        "#         mask=[query_mask, value_mask],\n",
        "#         return_attention_scores = True,\n",
        "#     )\n",
        "#     shape_checker(context_vector, ('batch', 't', 'value_units'))\n",
        "#     shape_checker(attention_weights, ('batch', 't', 's'))\n",
        "\n",
        "#     return context_vector, attention_weights"
      ],
      "execution_count": null,
      "outputs": []
    },
    {
      "cell_type": "code",
      "metadata": {
        "id": "Apb4bWDyfygi"
      },
      "source": [
        "bi_lstm = tf.keras.layers.Bidirectional(tf.keras.layers.LSTM(64))\n",
        "d_1 = tf.keras.layers.Dense(32, )\n",
        "d_2 = tf.keras.layers.Dense(16, activation='relu')\n",
        "d_3 = tf.keras.layers.Dense(3, )\n",
        "d_4 = tf.keras.layers.Dense(1, activation='sigmoid')\n",
        "\n",
        "model = tf.keras.Sequential([\n",
        "    bi_lstm,\n",
        "    d_1,\n",
        "    d_2,\n",
        "    d_3,\n",
        "    d_4\n",
        "])"
      ],
      "execution_count": null,
      "outputs": []
    },
    {
      "cell_type": "code",
      "source": [
        "datasetB_P  = ReadTxtName(r'./PositiveB.txt')\n",
        "#datasetB_P  = ReadTxtName('FilteredB.txt')\n",
        "datasetB_N  = ReadTxtName(r'./NegativeB.txt')\n",
        "\n",
        "\n",
        "temp_list = train_labels.tolist()\n",
        "\n",
        "# dictionary that maps integer to its string value\n",
        "label_dict = {}\n",
        "\n",
        "# list to store integer labels\n",
        "int_labels = []\n",
        "\n",
        "for i in range(len(temp_list)):\n",
        "    label_dict[i] = temp_list[i]\n",
        "    int_labels.append(i)\n",
        "    train_X = torch.tensor( [ *datasetB_P, *datasetB_N ] )"
      ],
      "metadata": {
        "colab": {
          "base_uri": "https://localhost:8080/",
          "height": 245
        },
        "id": "syWWNIKExmsj",
        "outputId": "7e5112c3-a57d-41a8-b839-b7713f04ef28"
      },
      "execution_count": null,
      "outputs": [
        {
          "output_type": "error",
          "ename": "NameError",
          "evalue": "name 'train_labels' is not defined",
          "traceback": [
            "\u001b[0;31m---------------------------------------------------------------------------\u001b[0m",
            "\u001b[0;31mNameError\u001b[0m                                 Traceback (most recent call last)",
            "\u001b[0;32m<ipython-input-142-1a84753778f0>\u001b[0m in \u001b[0;36m<cell line: 6>\u001b[0;34m()\u001b[0m\n\u001b[1;32m      4\u001b[0m \u001b[0;34m\u001b[0m\u001b[0m\n\u001b[1;32m      5\u001b[0m \u001b[0;34m\u001b[0m\u001b[0m\n\u001b[0;32m----> 6\u001b[0;31m \u001b[0mtemp_list\u001b[0m \u001b[0;34m=\u001b[0m \u001b[0mtrain_labels\u001b[0m\u001b[0;34m.\u001b[0m\u001b[0mtolist\u001b[0m\u001b[0;34m(\u001b[0m\u001b[0;34m)\u001b[0m\u001b[0;34m\u001b[0m\u001b[0;34m\u001b[0m\u001b[0m\n\u001b[0m\u001b[1;32m      7\u001b[0m \u001b[0;34m\u001b[0m\u001b[0m\n\u001b[1;32m      8\u001b[0m \u001b[0;31m# dictionary that maps integer to its string value\u001b[0m\u001b[0;34m\u001b[0m\u001b[0;34m\u001b[0m\u001b[0m\n",
            "\u001b[0;31mNameError\u001b[0m: name 'train_labels' is not defined"
          ]
        }
      ]
    },
    {
      "cell_type": "code",
      "metadata": {
        "id": "qXgpIqX1n-Qb",
        "colab": {
          "base_uri": "https://localhost:8080/",
          "height": 245
        },
        "outputId": "8f1a0456-f7bf-4e2e-b616-b526c3e66b0a"
      },
      "source": [
        "# ## Read the dataset\n",
        "datasetB_P  = ReadTxtName(r'./PositiveB.txt')\n",
        "#datasetB_P  = ReadTxtName('FilteredB.txt')\n",
        "datasetB_N  = ReadTxtName(r'./NegativeB.txt')\n",
        "train_X = torch.tensor( [ *datasetB_P, *datasetB_N ] )\n",
        "# ## Protein annotation:\n",
        "# datasetB_P = encode(datasetB_P)\n",
        "# datasetB_N = encode(datasetB_N)\n",
        "\n",
        "# labelB_N = np.zeros(len(datasetB_N))\n",
        "# labelB_P = np.ones(len(datasetB_P))\n",
        "\n",
        "#train_X = torch.tensor( [ *datasetB_P, *datasetB_N ] )\n",
        "\n",
        "# train_y = torch.tensor( [ *labelB_P, *labelB_N ] )\n",
        "\n",
        "# train_y = train_y.reshape( [ *train_y.shape, 1 ] )\n",
        "\n",
        "# dataset = TensorDataset(train_X, train_y)"
      ],
      "execution_count": null,
      "outputs": [
        {
          "output_type": "error",
          "ename": "ValueError",
          "evalue": "too many dimensions 'str'",
          "traceback": [
            "\u001b[0;31m---------------------------------------------------------------------------\u001b[0m",
            "\u001b[0;31mValueError\u001b[0m                                Traceback (most recent call last)",
            "\u001b[0;32m<ipython-input-176-571e792208e2>\u001b[0m in \u001b[0;36m<cell line: 5>\u001b[0;34m()\u001b[0m\n\u001b[1;32m      3\u001b[0m \u001b[0;31m#datasetB_P  = ReadTxtName('FilteredB.txt')\u001b[0m\u001b[0;34m\u001b[0m\u001b[0;34m\u001b[0m\u001b[0m\n\u001b[1;32m      4\u001b[0m \u001b[0mdatasetB_N\u001b[0m  \u001b[0;34m=\u001b[0m \u001b[0mReadTxtName\u001b[0m\u001b[0;34m(\u001b[0m\u001b[0;34mr'./NegativeB.txt'\u001b[0m\u001b[0;34m)\u001b[0m\u001b[0;34m\u001b[0m\u001b[0;34m\u001b[0m\u001b[0m\n\u001b[0;32m----> 5\u001b[0;31m \u001b[0mtrain_X\u001b[0m \u001b[0;34m=\u001b[0m \u001b[0mtorch\u001b[0m\u001b[0;34m.\u001b[0m\u001b[0mtensor\u001b[0m\u001b[0;34m(\u001b[0m \u001b[0;34m[\u001b[0m \u001b[0;34m*\u001b[0m\u001b[0mdatasetB_P\u001b[0m\u001b[0;34m,\u001b[0m \u001b[0;34m*\u001b[0m\u001b[0mdatasetB_N\u001b[0m \u001b[0;34m]\u001b[0m \u001b[0;34m)\u001b[0m\u001b[0;34m\u001b[0m\u001b[0;34m\u001b[0m\u001b[0m\n\u001b[0m\u001b[1;32m      6\u001b[0m \u001b[0;31m# ## Protein annotation:\u001b[0m\u001b[0;34m\u001b[0m\u001b[0;34m\u001b[0m\u001b[0m\n\u001b[1;32m      7\u001b[0m \u001b[0;31m# datasetB_P = encode(datasetB_P)\u001b[0m\u001b[0;34m\u001b[0m\u001b[0;34m\u001b[0m\u001b[0m\n",
            "\u001b[0;31mValueError\u001b[0m: too many dimensions 'str'"
          ]
        }
      ]
    },
    {
      "cell_type": "code",
      "metadata": {
        "id": "rdMS4amT4FW5"
      },
      "source": [
        "def avg(iter_loss):\n",
        "    return sum(iter_loss) / len(iter_loss) if len(iter_loss) != 0 else 1"
      ],
      "execution_count": null,
      "outputs": []
    },
    {
      "cell_type": "code",
      "metadata": {
        "id": "JEV65zl2DIm8"
      },
      "source": [
        "# optimizer = optim.Adam(model.parameters())\n",
        "# # criterion = nn.CrossEntropyLoss()\n",
        "# criterion = nn.MSELoss()"
      ],
      "execution_count": null,
      "outputs": []
    },
    {
      "cell_type": "code",
      "metadata": {
        "id": "Tflcbl0S8c6j"
      },
      "source": [
        "## Read the dataset\n",
        "import numpy as np\n",
        "#datasetB_P  = ReadTxtName(r'./PositiveB.txt')\n",
        "datasetB_P  = ReadTxtName('FilteredB.txt')\n",
        "datasetB_N  = ReadTxtName(r'./NegativeB.txt')\n",
        "\n",
        "## Protein annotation:\n",
        "datasetB_P = encode(datasetB_P)\n",
        "datasetB_N = encode(datasetB_N)\n",
        "\n",
        "X = np.array( [ *datasetB_P, *datasetB_N ] )\n",
        "Y = np.array( [ *np.ones(len(datasetB_P)), *np.zeros(len(datasetB_N)) ] )\n",
        "\n",
        "Y = Y.reshape( [ *Y.shape, 1 ] )\n",
        "\n",
        "# import sklearn.model_selection as sk\n",
        "\n",
        "# train_X, test_X, train_y, test_y = sk.train_test_split(X, Y, test_size=0.2, random_state = 42)\n",
        "\n",
        "train_X, train_y = X, Y\n",
        "\n",
        "test_X = train_X[510: 510 + 1970]\n",
        "test_y = train_y[510: 510 + 1970]\n",
        "# X.shap, Y.shape\n",
        "# test_X.shape"
      ],
      "execution_count": null,
      "outputs": []
    },
    {
      "cell_type": "code",
      "source": [],
      "metadata": {
        "id": "G4UJ3h4oBlsw"
      },
      "execution_count": null,
      "outputs": []
    },
    {
      "cell_type": "code",
      "metadata": {
        "colab": {
          "base_uri": "https://localhost:8080/"
        },
        "id": "DU0eUYINEA3W",
        "outputId": "73da3fad-775c-4918-a7cd-d0569f109ca0"
      },
      "source": [
        "predictions = model.predict( train_X )\n",
        "print(predictions[0], predictions.shape)"
      ],
      "execution_count": null,
      "outputs": [
        {
          "output_type": "stream",
          "name": "stdout",
          "text": [
            "176/176 [==============================] - 1s 5ms/step\n",
            "[0.997414] (5610, 1)\n"
          ]
        }
      ]
    },
    {
      "cell_type": "code",
      "metadata": {
        "id": "YNmiEVeXml11"
      },
      "source": [
        "model.compile(\n",
        "    loss=tf.keras.losses.BinaryCrossentropy(from_logits=True),\n",
        "    optimizer=tf.keras.optimizers.Adam(1e-2),\n",
        "    metrics=['accuracy']\n",
        ")"
      ],
      "execution_count": null,
      "outputs": []
    },
    {
      "cell_type": "code",
      "metadata": {
        "colab": {
          "base_uri": "https://localhost:8080/"
        },
        "id": "JWN1Z0TGo_0d",
        "outputId": "d5516e8a-08e6-4580-b62a-2f723d2835b4"
      },
      "source": [
        "train_X.shape, train_y.shape"
      ],
      "execution_count": null,
      "outputs": [
        {
          "output_type": "execute_result",
          "data": {
            "text/plain": [
              "((5610, 10, 3), (5610, 1))"
            ]
          },
          "metadata": {},
          "execution_count": 217
        }
      ]
    },
    {
      "cell_type": "code",
      "metadata": {
        "colab": {
          "base_uri": "https://localhost:8080/"
        },
        "id": "GedLthCLmxAO",
        "outputId": "7db8a445-1ef4-452d-97f0-f140f3835495"
      },
      "source": [
        "history = model.fit(train_X, train_y, batch_size=128, epochs=25, validation_data=(test_X, test_y))"
      ],
      "execution_count": null,
      "outputs": [
        {
          "output_type": "stream",
          "name": "stdout",
          "text": [
            "Epoch 1/25\n"
          ]
        },
        {
          "output_type": "stream",
          "name": "stderr",
          "text": [
            "/usr/local/lib/python3.10/dist-packages/keras/src/backend.py:5818: UserWarning: \"`binary_crossentropy` received `from_logits=True`, but the `output` argument was produced by a Sigmoid activation and thus does not represent logits. Was this intended?\n",
            "  output, from_logits = _get_logits(\n"
          ]
        },
        {
          "output_type": "stream",
          "name": "stdout",
          "text": [
            "44/44 [==============================] - 9s 77ms/step - loss: 0.0228 - accuracy: 0.9929 - val_loss: 0.0180 - val_accuracy: 0.9944\n",
            "Epoch 2/25\n",
            "44/44 [==============================] - 1s 28ms/step - loss: 0.0124 - accuracy: 0.9952 - val_loss: 0.0065 - val_accuracy: 0.9985\n",
            "Epoch 3/25\n",
            "44/44 [==============================] - 1s 29ms/step - loss: 0.0160 - accuracy: 0.9945 - val_loss: 0.0089 - val_accuracy: 0.9975\n",
            "Epoch 4/25\n",
            "44/44 [==============================] - 1s 28ms/step - loss: 0.0094 - accuracy: 0.9966 - val_loss: 0.0027 - val_accuracy: 0.9990\n",
            "Epoch 5/25\n",
            "44/44 [==============================] - 1s 28ms/step - loss: 0.0120 - accuracy: 0.9948 - val_loss: 0.0058 - val_accuracy: 0.9980\n",
            "Epoch 6/25\n",
            "44/44 [==============================] - 1s 28ms/step - loss: 0.0227 - accuracy: 0.9911 - val_loss: 0.0077 - val_accuracy: 0.9964\n",
            "Epoch 7/25\n",
            "44/44 [==============================] - 1s 33ms/step - loss: 0.0181 - accuracy: 0.9943 - val_loss: 0.0085 - val_accuracy: 0.9975\n",
            "Epoch 8/25\n",
            "44/44 [==============================] - 1s 30ms/step - loss: 0.0096 - accuracy: 0.9963 - val_loss: 0.0072 - val_accuracy: 0.9959\n",
            "Epoch 9/25\n",
            "44/44 [==============================] - 2s 48ms/step - loss: 0.0169 - accuracy: 0.9930 - val_loss: 0.0056 - val_accuracy: 0.9975\n",
            "Epoch 10/25\n",
            "44/44 [==============================] - 2s 36ms/step - loss: 0.0146 - accuracy: 0.9950 - val_loss: 0.0037 - val_accuracy: 0.9990\n",
            "Epoch 11/25\n",
            "44/44 [==============================] - 1s 29ms/step - loss: 0.0124 - accuracy: 0.9963 - val_loss: 0.0039 - val_accuracy: 0.9985\n",
            "Epoch 12/25\n",
            "44/44 [==============================] - 1s 29ms/step - loss: 0.0091 - accuracy: 0.9971 - val_loss: 0.0028 - val_accuracy: 0.9990\n",
            "Epoch 13/25\n",
            "44/44 [==============================] - 1s 28ms/step - loss: 0.0086 - accuracy: 0.9968 - val_loss: 0.0079 - val_accuracy: 0.9975\n",
            "Epoch 14/25\n",
            "44/44 [==============================] - 1s 28ms/step - loss: 0.0115 - accuracy: 0.9959 - val_loss: 0.0047 - val_accuracy: 0.9975\n",
            "Epoch 15/25\n",
            "44/44 [==============================] - 1s 28ms/step - loss: 0.0153 - accuracy: 0.9943 - val_loss: 0.0059 - val_accuracy: 0.9980\n",
            "Epoch 16/25\n",
            "44/44 [==============================] - 1s 29ms/step - loss: 0.0184 - accuracy: 0.9929 - val_loss: 0.0061 - val_accuracy: 0.9990\n",
            "Epoch 17/25\n",
            "44/44 [==============================] - 1s 28ms/step - loss: 0.0118 - accuracy: 0.9959 - val_loss: 0.0057 - val_accuracy: 0.9985\n",
            "Epoch 18/25\n",
            "44/44 [==============================] - 2s 48ms/step - loss: 0.0207 - accuracy: 0.9938 - val_loss: 0.0126 - val_accuracy: 0.9970\n",
            "Epoch 19/25\n",
            "44/44 [==============================] - 2s 37ms/step - loss: 0.0186 - accuracy: 0.9936 - val_loss: 0.0227 - val_accuracy: 0.9939\n",
            "Epoch 20/25\n",
            "44/44 [==============================] - 1s 28ms/step - loss: 0.0187 - accuracy: 0.9934 - val_loss: 0.0027 - val_accuracy: 0.9995\n",
            "Epoch 21/25\n",
            "44/44 [==============================] - 1s 27ms/step - loss: 0.0090 - accuracy: 0.9979 - val_loss: 0.0034 - val_accuracy: 0.9995\n",
            "Epoch 22/25\n",
            "44/44 [==============================] - 1s 32ms/step - loss: 0.0098 - accuracy: 0.9964 - val_loss: 0.0080 - val_accuracy: 0.9980\n",
            "Epoch 23/25\n",
            "44/44 [==============================] - 1s 32ms/step - loss: 0.0118 - accuracy: 0.9977 - val_loss: 0.0048 - val_accuracy: 0.9985\n",
            "Epoch 24/25\n",
            "44/44 [==============================] - 1s 28ms/step - loss: 0.0040 - accuracy: 0.9988 - val_loss: 0.0012 - val_accuracy: 0.9995\n",
            "Epoch 25/25\n",
            "44/44 [==============================] - 1s 29ms/step - loss: 0.0015 - accuracy: 0.9988 - val_loss: 0.0010 - val_accuracy: 0.9990\n"
          ]
        }
      ]
    },
    {
      "cell_type": "code",
      "source": [
        "pip install scikit-plot"
      ],
      "metadata": {
        "colab": {
          "base_uri": "https://localhost:8080/"
        },
        "id": "MJJ_i7woDmB5",
        "outputId": "2a1728f1-74c6-46be-a13b-f1ec4ca3ede0"
      },
      "execution_count": null,
      "outputs": [
        {
          "output_type": "stream",
          "name": "stdout",
          "text": [
            "Collecting scikit-plot\n",
            "  Downloading scikit_plot-0.3.7-py3-none-any.whl (33 kB)\n",
            "Requirement already satisfied: matplotlib>=1.4.0 in /usr/local/lib/python3.10/dist-packages (from scikit-plot) (3.7.1)\n",
            "Requirement already satisfied: scikit-learn>=0.18 in /usr/local/lib/python3.10/dist-packages (from scikit-plot) (1.2.2)\n",
            "Requirement already satisfied: scipy>=0.9 in /usr/local/lib/python3.10/dist-packages (from scikit-plot) (1.11.4)\n",
            "Requirement already satisfied: joblib>=0.10 in /usr/local/lib/python3.10/dist-packages (from scikit-plot) (1.3.2)\n",
            "Requirement already satisfied: contourpy>=1.0.1 in /usr/local/lib/python3.10/dist-packages (from matplotlib>=1.4.0->scikit-plot) (1.2.0)\n",
            "Requirement already satisfied: cycler>=0.10 in /usr/local/lib/python3.10/dist-packages (from matplotlib>=1.4.0->scikit-plot) (0.12.1)\n",
            "Requirement already satisfied: fonttools>=4.22.0 in /usr/local/lib/python3.10/dist-packages (from matplotlib>=1.4.0->scikit-plot) (4.47.2)\n",
            "Requirement already satisfied: kiwisolver>=1.0.1 in /usr/local/lib/python3.10/dist-packages (from matplotlib>=1.4.0->scikit-plot) (1.4.5)\n",
            "Requirement already satisfied: numpy>=1.20 in /usr/local/lib/python3.10/dist-packages (from matplotlib>=1.4.0->scikit-plot) (1.23.5)\n",
            "Requirement already satisfied: packaging>=20.0 in /usr/local/lib/python3.10/dist-packages (from matplotlib>=1.4.0->scikit-plot) (23.2)\n",
            "Requirement already satisfied: pillow>=6.2.0 in /usr/local/lib/python3.10/dist-packages (from matplotlib>=1.4.0->scikit-plot) (9.4.0)\n",
            "Requirement already satisfied: pyparsing>=2.3.1 in /usr/local/lib/python3.10/dist-packages (from matplotlib>=1.4.0->scikit-plot) (3.1.1)\n",
            "Requirement already satisfied: python-dateutil>=2.7 in /usr/local/lib/python3.10/dist-packages (from matplotlib>=1.4.0->scikit-plot) (2.8.2)\n",
            "Requirement already satisfied: threadpoolctl>=2.0.0 in /usr/local/lib/python3.10/dist-packages (from scikit-learn>=0.18->scikit-plot) (3.2.0)\n",
            "Requirement already satisfied: six>=1.5 in /usr/local/lib/python3.10/dist-packages (from python-dateutil>=2.7->matplotlib>=1.4.0->scikit-plot) (1.16.0)\n",
            "Installing collected packages: scikit-plot\n",
            "Successfully installed scikit-plot-0.3.7\n"
          ]
        }
      ]
    },
    {
      "cell_type": "code",
      "source": [
        "# np.average(test_y - model.predict(test_X))\n",
        "import matplotlib.pyplot as plt\n",
        "import scikitplot as skplt\n",
        "from sklearn import metrics\n",
        "from sklearn.metrics import roc_curve\n",
        "from sklearn.metrics import roc_auc_score\n",
        "from sklearn.metrics import accuracy_score, precision_score, recall_score, f1_score, roc_auc_score\n",
        "\n",
        "pred = model.predict(test_X) > 0.5\n",
        "truth = test_y\n",
        "\n",
        "# diff = np.abs(truth - (pred > 0.3))\n",
        "\n",
        "# np.unique(diff, return_counts=True)\n",
        "\n",
        "threshold = 0.1\n",
        "\n",
        "accuracy_score(pred > threshold, truth), precision_score(pred, truth), recall_score(pred > threshold, truth), \\\n",
        "f1_score(pred > threshold, truth), roc_auc_score(pred > threshold, truth)\n",
        "\n",
        "\n",
        "\n"
      ],
      "metadata": {
        "id": "wrEQFgROKlYR",
        "colab": {
          "base_uri": "https://localhost:8080/"
        },
        "outputId": "c4aaf15f-97b1-48eb-fcc9-9fa4d91f4068"
      },
      "execution_count": null,
      "outputs": [
        {
          "output_type": "stream",
          "name": "stdout",
          "text": [
            "62/62 [==============================] - 0s 5ms/step\n"
          ]
        },
        {
          "output_type": "execute_result",
          "data": {
            "text/plain": [
              "(0.9979695431472081,\n",
              " 0.9885714285714285,\n",
              " 0.9885714285714285,\n",
              " 0.9885714285714285,\n",
              " 0.9937286112216472)"
            ]
          },
          "metadata": {},
          "execution_count": 202
        }
      ]
    },
    {
      "cell_type": "code",
      "metadata": {
        "id": "h7QRJzG4s0Ol",
        "colab": {
          "base_uri": "https://localhost:8080/",
          "height": 192
        },
        "outputId": "a72d999c-ee64-4e64-b785-74cc5c9d08f8"
      },
      "source": [
        "history_dict = history.history\n",
        "history_dict.keys()"
      ],
      "execution_count": null,
      "outputs": [
        {
          "output_type": "error",
          "ename": "NameError",
          "evalue": "name 'history' is not defined",
          "traceback": [
            "\u001b[0;31m---------------------------------------------------------------------------\u001b[0m",
            "\u001b[0;31mNameError\u001b[0m                                 Traceback (most recent call last)",
            "\u001b[0;32m<ipython-input-150-fc51a3f187a7>\u001b[0m in \u001b[0;36m<cell line: 1>\u001b[0;34m()\u001b[0m\n\u001b[0;32m----> 1\u001b[0;31m \u001b[0mhistory_dict\u001b[0m \u001b[0;34m=\u001b[0m \u001b[0mhistory\u001b[0m\u001b[0;34m.\u001b[0m\u001b[0mhistory\u001b[0m\u001b[0;34m\u001b[0m\u001b[0;34m\u001b[0m\u001b[0m\n\u001b[0m\u001b[1;32m      2\u001b[0m \u001b[0mhistory_dict\u001b[0m\u001b[0;34m.\u001b[0m\u001b[0mkeys\u001b[0m\u001b[0;34m(\u001b[0m\u001b[0;34m)\u001b[0m\u001b[0;34m\u001b[0m\u001b[0;34m\u001b[0m\u001b[0m\n",
            "\u001b[0;31mNameError\u001b[0m: name 'history' is not defined"
          ]
        }
      ]
    },
    {
      "cell_type": "code",
      "metadata": {
        "id": "XCL_RVle-oOn",
        "colab": {
          "base_uri": "https://localhost:8080/",
          "height": 294
        },
        "outputId": "f9a68c10-c587-4856-a381-930ca1a806b7"
      },
      "source": [
        "%matplotlib inline\n",
        "\n",
        "\n",
        "loss = history_dict['loss']\n",
        "\n",
        "epochs = range(1, len(loss) + 1)\n",
        "\n",
        "plt.plot(epochs, loss, 'r-', label='Training loss')\n",
        "\n",
        "plt.title('Validation Loss')\n",
        "plt.xlabel('Epochs')\n",
        "plt.ylabel('Loss')\n",
        "plt.legend()\n",
        "\n",
        "plt.show()"
      ],
      "execution_count": null,
      "outputs": [
        {
          "output_type": "display_data",
          "data": {
            "text/plain": [
              "<Figure size 432x288 with 1 Axes>"
            ],
            "image/png": "[encoded data removed]"
          },
          "metadata": {
            "needs_background": "light"
          }
        }
      ]
    },
    {
      "cell_type": "code",
      "metadata": {
        "colab": {
          "base_uri": "https://localhost:8080/",
          "height": 294
        },
        "id": "fBRnDikZ7RFs",
        "outputId": "04c82f93-9517-413b-fc88-ffbdbb337437"
      },
      "source": [
        "%matplotlib inline\n",
        "\n",
        "\n",
        "acc = history_dict['accuracy']\n",
        "\n",
        "epochs = range(1, len(acc) + 1)\n",
        "\n",
        "plt.plot(epochs, acc, 'b', label='Training Accuracy')\n",
        "\n",
        "plt.title('Validation Accuracy')\n",
        "plt.xlabel('Epochs')\n",
        "plt.ylabel('Accuracy')\n",
        "plt.legend()\n",
        "\n",
        "plt.show()"
      ],
      "execution_count": null,
      "outputs": [
        {
          "output_type": "display_data",
          "data": {
            "text/plain": [
              "<Figure size 432x288 with 1 Axes>"
            ],
            "image/png": "[encoded data removed]"
          },
          "metadata": {
            "needs_background": "light"
          }
        }
      ]
    },
    {
      "cell_type": "code",
      "source": [
        "# plt.style.available"
      ],
      "metadata": {
        "id": "u41MbHRB-Ta1"
      },
      "execution_count": null,
      "outputs": []
    },
    {
      "cell_type": "code",
      "source": [
        "# %matplotlib inline\n",
        "\n",
        "# plt.style.use('classic')\n",
        "\n",
        "# loss = history_dict['loss']\n",
        "# acc = history_dict['accuracy']\n",
        "\n",
        "# epochs = range(1, len(loss) + 1)\n",
        "\n",
        "# plt.plot(epochs, acc, 'b', label='Training Accuracy')\n",
        "# plt.plot(epochs, loss, 'r', label='Training Loss')\n",
        "\n",
        "# plt.title('Training Loss')\n",
        "# plt.xlabel('Epochs')\n",
        "# plt.ylabel('Loss')\n",
        "# plt.legend()\n",
        "\n",
        "# plt.show()"
      ],
      "metadata": {
        "id": "8mjZpiQL99lr"
      },
      "execution_count": null,
      "outputs": []
    },
    {
      "cell_type": "code",
      "source": [
        "from sklearn.metrics import RocCurveDisplay"
      ],
      "metadata": {
        "id": "QfaHpPvA46TN"
      },
      "execution_count": null,
      "outputs": []
    },
    {
      "cell_type": "code",
      "metadata": {
        "id": "gAhe57B7t10y",
        "colab": {
          "base_uri": "https://localhost:8080/",
          "height": 227
        },
        "outputId": "3ed7f139-a591-4058-d7c4-3f079242ddf9"
      },
      "source": [
        "filtered_dataset_X = encode(filtered_df['Sequence'].values)\n",
        "antigens = np.array(filtered_dataset_X)\n",
        "\n",
        "\n",
        "Y_pred = model.predict(antigens)\n",
        "Y_pred_P = (Y_pred > 0.6)\n",
        "\n",
        "RocCurveDisplay(Y_pred,Y_pred_P)"
      ],
      "execution_count": null,
      "outputs": [
        {
          "output_type": "stream",
          "name": "stdout",
          "text": [
            "22/22 [==============================] - 0s 5ms/step\n"
          ]
        },
        {
          "output_type": "error",
          "ename": "TypeError",
          "evalue": "RocCurveDisplay.__init__() takes 1 positional argument but 3 were given",
          "traceback": [
            "\u001b[0;31m---------------------------------------------------------------------------\u001b[0m",
            "\u001b[0;31mTypeError\u001b[0m                                 Traceback (most recent call last)",
            "\u001b[0;32m<ipython-input-188-a41d1d22eaa3>\u001b[0m in \u001b[0;36m<cell line: 8>\u001b[0;34m()\u001b[0m\n\u001b[1;32m      6\u001b[0m \u001b[0mY_pred_P\u001b[0m \u001b[0;34m=\u001b[0m \u001b[0;34m(\u001b[0m\u001b[0mY_pred\u001b[0m \u001b[0;34m>\u001b[0m \u001b[0;36m0.6\u001b[0m\u001b[0;34m)\u001b[0m\u001b[0;34m\u001b[0m\u001b[0;34m\u001b[0m\u001b[0m\n\u001b[1;32m      7\u001b[0m \u001b[0;34m\u001b[0m\u001b[0m\n\u001b[0;32m----> 8\u001b[0;31m \u001b[0mRocCurveDisplay\u001b[0m\u001b[0;34m(\u001b[0m\u001b[0mY_pred\u001b[0m\u001b[0;34m,\u001b[0m\u001b[0mY_pred_P\u001b[0m\u001b[0;34m)\u001b[0m\u001b[0;34m\u001b[0m\u001b[0;34m\u001b[0m\u001b[0m\n\u001b[0m",
            "\u001b[0;31mTypeError\u001b[0m: RocCurveDisplay.__init__() takes 1 positional argument but 3 were given"
          ]
        }
      ]
    },
    {
      "cell_type": "code",
      "metadata": {
        "colab": {
          "base_uri": "https://localhost:8080/",
          "height": 489
        },
        "id": "EBh0h5YVudCU",
        "outputId": "29d17ae9-e0f4-416e-e744-88304204a290"
      },
      "source": [
        "print(\"Ignore the 0s, 1 is Antigen Candidate\")\n",
        "\n",
        "plt.plot(Y_pred, '--', color=\"plum\")\n",
        "plt.plot(Y_pred_P, color=\"blue\")\n",
        "plt.title(\"Antigenacity (0 or 1)\")\n",
        "plt.xlabel('Filtered Sequences')\n",
        "plt.ylabel('Antigen candidacy')\n",
        "plt.show()"
      ],
      "execution_count": null,
      "outputs": [
        {
          "output_type": "stream",
          "name": "stdout",
          "text": [
            "Ignore the 0s, 1 is Antigen Candidate\n"
          ]
        },
        {
          "output_type": "display_data",
          "data": {
            "text/plain": [
              "<Figure size 640x480 with 1 Axes>"
            ],
            "image/png": "[encoded data removed]"
          },
          "metadata": {}
        }
      ]
    },
    {
      "cell_type": "code",
      "metadata": {
        "colab": {
          "base_uri": "https://localhost:8080/"
        },
        "id": "IshA1BN26k9D",
        "outputId": "04518a5c-22d5-409f-b8d8-e8da29cc4d85"
      },
      "source": [
        "Y_pred.shape"
      ],
      "execution_count": null,
      "outputs": [
        {
          "output_type": "execute_result",
          "data": {
            "text/plain": [
              "(698, 1)"
            ]
          },
          "metadata": {},
          "execution_count": 137
        }
      ]
    },
    {
      "cell_type": "code",
      "metadata": {
        "id": "9zcQ8VE2v654",
        "colab": {
          "base_uri": "https://localhost:8080/"
        },
        "outputId": "c5032054-3ac0-4d68-db36-0e47648b2a73"
      },
      "source": [
        "filtered_df['antigenicity'] = Y_pred"
      ],
      "execution_count": null,
      "outputs": [
        {
          "output_type": "stream",
          "name": "stderr",
          "text": [
            "<ipython-input-138-37c694635a9c>:1: SettingWithCopyWarning: \n",
            "A value is trying to be set on a copy of a slice from a DataFrame.\n",
            "Try using .loc[row_indexer,col_indexer] = value instead\n",
            "\n",
            "See the caveats in the documentation: https://pandas.pydata.org/pandas-docs/stable/user_guide/indexing.html#returning-a-view-versus-a-copy\n",
            "  filtered_df['antigenicity'] = Y_pred\n"
          ]
        }
      ]
    },
    {
      "cell_type": "code",
      "metadata": {
        "colab": {
          "base_uri": "https://localhost:8080/",
          "height": 206
        },
        "id": "37jve6mO6W8o",
        "outputId": "64acfe3c-7b73-4c9e-f140-f7957edc730c"
      },
      "source": [
        "filtered_df.head()"
      ],
      "execution_count": null,
      "outputs": [
        {
          "output_type": "execute_result",
          "data": {
            "text/plain": [
              "       Sequence  Repeation                                            Seen In  \\\n",
              "124  RMAILGDTAW       6008  DENGUE VIRUS 2, DENGUE VIRUS 4, DENGUE VIRUS 1...   \n",
              "125  MAILGDTAWD       6025  DENGUE VIRUS 2, DENGUE VIRUS 4, DENGUE VIRUS 1...   \n",
              "126  AILGDTAWDF       6031  DENGUE VIRUS 2, DENGUE VIRUS 4, DENGUE VIRUS 1...   \n",
              "127  ILGDTAWDFG       6063  DENGUE VIRUS 2, DENGUE VIRUS 4, DENGUE VIRUS 1...   \n",
              "128  LGDTAWDFGS       6077  DENGUE VIRUS 2, DENGUE VIRUS 4, DENGUE VIRUS 1...   \n",
              "\n",
              "     antigenicity  \n",
              "124      0.000516  \n",
              "125      0.010988  \n",
              "126      0.000123  \n",
              "127      0.000240  \n",
              "128      0.086677  "
            ],
            "text/html": [
              "\n",
              "  <div id=\"df-4f3ec560-cab5-44bd-aefe-721d00525e3e\">\n",
              "    <div class=\"colab-df-container\">\n",
              "      <div>\n",
              "<style scoped>\n",
              "    .dataframe tbody tr th:only-of-type {\n",
              "        vertical-align: middle;\n",
              "    }\n",
              "\n",
              "    .dataframe tbody tr th {\n",
              "        vertical-align: top;\n",
              "    }\n",
              "\n",
              "    .dataframe thead th {\n",
              "        text-align: right;\n",
              "    }\n",
              "</style>\n",
              "<table border=\"1\" class=\"dataframe\">\n",
              "  <thead>\n",
              "    <tr style=\"text-align: right;\">\n",
              "      <th></th>\n",
              "      <th>Sequence</th>\n",
              "      <th>Repeation</th>\n",
              "      <th>Seen In</th>\n",
              "      <th>antigenicity</th>\n",
              "    </tr>\n",
              "  </thead>\n",
              "  <tbody>\n",
              "    <tr>\n",
              "      <th>124</th>\n",
              "      <td>RMAILGDTAW</td>\n",
              "      <td>6008</td>\n",
              "      <td>DENGUE VIRUS 2, DENGUE VIRUS 4, DENGUE VIRUS 1...</td>\n",
              "      <td>0.000516</td>\n",
              "    </tr>\n",
              "    <tr>\n",
              "      <th>125</th>\n",
              "      <td>MAILGDTAWD</td>\n",
              "      <td>6025</td>\n",
              "      <td>DENGUE VIRUS 2, DENGUE VIRUS 4, DENGUE VIRUS 1...</td>\n",
              "      <td>0.010988</td>\n",
              "    </tr>\n",
              "    <tr>\n",
              "      <th>126</th>\n",
              "      <td>AILGDTAWDF</td>\n",
              "      <td>6031</td>\n",
              "      <td>DENGUE VIRUS 2, DENGUE VIRUS 4, DENGUE VIRUS 1...</td>\n",
              "      <td>0.000123</td>\n",
              "    </tr>\n",
              "    <tr>\n",
              "      <th>127</th>\n",
              "      <td>ILGDTAWDFG</td>\n",
              "      <td>6063</td>\n",
              "      <td>DENGUE VIRUS 2, DENGUE VIRUS 4, DENGUE VIRUS 1...</td>\n",
              "      <td>0.000240</td>\n",
              "    </tr>\n",
              "    <tr>\n",
              "      <th>128</th>\n",
              "      <td>LGDTAWDFGS</td>\n",
              "      <td>6077</td>\n",
              "      <td>DENGUE VIRUS 2, DENGUE VIRUS 4, DENGUE VIRUS 1...</td>\n",
              "      <td>0.086677</td>\n",
              "    </tr>\n",
              "  </tbody>\n",
              "</table>\n",
              "</div>\n",
              "      <button class=\"colab-df-convert\" onclick=\"convertToInteractive('df-4f3ec560-cab5-44bd-aefe-721d00525e3e')\"\n",
              "              title=\"Convert this dataframe to an interactive table.\"\n",
              "              style=\"display:none;\">\n",
              "        \n",
              "  <svg xmlns=\"http://www.w3.org/2000/svg\" height=\"24px\"viewBox=\"0 0 24 24\"\n",
              "       width=\"24px\">\n",
              "    <path d=\"M0 0h24v24H0V0z\" fill=\"none\"/>\n",
              "    <path d=\"M18.56 5.44l.94 2.06.94-2.06 2.06-.94-2.06-.94-.94-2.06-.94 2.06-2.06.94zm-11 1L8.5 8.5l.94-2.06 2.06-.94-2.06-.94L8.5 2.5l-.94 2.06-2.06.94zm10 10l.94 2.06.94-2.06 2.06-.94-2.06-.94-.94-2.06-.94 2.06-2.06.94z\"/><path d=\"M17.41 7.96l-1.37-1.37c-.4-.4-.92-.59-1.43-.59-.52 0-1.04.2-1.43.59L10.3 9.45l-7.72 7.72c-.78.78-.78 2.05 0 2.83L4 21.41c.39.39.9.59 1.41.59.51 0 1.02-.2 1.41-.59l7.78-7.78 2.81-2.81c.8-.78.8-2.07 0-2.86zM5.41 20L4 18.59l7.72-7.72 1.47 1.35L5.41 20z\"/>\n",
              "  </svg>\n",
              "      </button>\n",
              "      \n",
              "  <style>\n",
              "    .colab-df-container {\n",
              "      display:flex;\n",
              "      flex-wrap:wrap;\n",
              "      gap: 12px;\n",
              "    }\n",
              "\n",
              "    .colab-df-convert {\n",
              "      background-color: #E8F0FE;\n",
              "      border: none;\n",
              "      border-radius: 50%;\n",
              "      cursor: pointer;\n",
              "      display: none;\n",
              "      fill: #1967D2;\n",
              "      height: 32px;\n",
              "      padding: 0 0 0 0;\n",
              "      width: 32px;\n",
              "    }\n",
              "\n",
              "    .colab-df-convert:hover {\n",
              "      background-color: #E2EBFA;\n",
              "      box-shadow: 0px 1px 2px rgba(60, 64, 67, 0.3), 0px 1px 3px 1px rgba(60, 64, 67, 0.15);\n",
              "      fill: #174EA6;\n",
              "    }\n",
              "\n",
              "    [theme=dark] .colab-df-convert {\n",
              "      background-color: #3B4455;\n",
              "      fill: #D2E3FC;\n",
              "    }\n",
              "\n",
              "    [theme=dark] .colab-df-convert:hover {\n",
              "      background-color: #434B5C;\n",
              "      box-shadow: 0px 1px 3px 1px rgba(0, 0, 0, 0.15);\n",
              "      filter: drop-shadow(0px 1px 2px rgba(0, 0, 0, 0.3));\n",
              "      fill: #FFFFFF;\n",
              "    }\n",
              "  </style>\n",
              "\n",
              "      <script>\n",
              "        const buttonEl =\n",
              "          document.querySelector('#df-4f3ec560-cab5-44bd-aefe-721d00525e3e button.colab-df-convert');\n",
              "        buttonEl.style.display =\n",
              "          google.colab.kernel.accessAllowed ? 'block' : 'none';\n",
              "\n",
              "        async function convertToInteractive(key) {\n",
              "          const element = document.querySelector('#df-4f3ec560-cab5-44bd-aefe-721d00525e3e');\n",
              "          const dataTable =\n",
              "            await google.colab.kernel.invokeFunction('convertToInteractive',\n",
              "                                                     [key], {});\n",
              "          if (!dataTable) return;\n",
              "\n",
              "          const docLinkHtml = 'Like what you see? Visit the ' +\n",
              "            '<a target=\"_blank\" href=https://colab.research.google.com/notebooks/data_table.ipynb>data table notebook</a>'\n",
              "            + ' to learn more about interactive tables.';\n",
              "          element.innerHTML = '';\n",
              "          dataTable['output_type'] = 'display_data';\n",
              "          await google.colab.output.renderOutput(dataTable, element);\n",
              "          const docLink = document.createElement('div');\n",
              "          docLink.innerHTML = docLinkHtml;\n",
              "          element.appendChild(docLink);\n",
              "        }\n",
              "      </script>\n",
              "    </div>\n",
              "  </div>\n",
              "  "
            ]
          },
          "metadata": {},
          "execution_count": 139
        }
      ]
    },
    {
      "cell_type": "code",
      "source": [
        "from google.colab import drive\n",
        "drive.mount('/content/drive')"
      ],
      "metadata": {
        "id": "fC8NQALPJsGI"
      },
      "execution_count": null,
      "outputs": []
    },
    {
      "cell_type": "code",
      "metadata": {
        "id": "uwFCStBCgMt2"
      },
      "source": [
        "filtered_df.to_csv(\"[filtered][prediction]100% seq chunk-10.csv\", index=False, )"
      ],
      "execution_count": null,
      "outputs": []
    },
    {
      "cell_type": "code",
      "metadata": {
        "id": "Wp_5vdZg6qDP",
        "colab": {
          "base_uri": "https://localhost:8080/"
        },
        "outputId": "7580128f-e767-4b8a-d856-c6dfab453a58"
      },
      "source": [
        "model_plotting = tf.keras.Sequential([\n",
        "    bi_lstm,\n",
        "    d_1,\n",
        "    d_2,\n",
        "    d_3\n",
        "])\n",
        "\n",
        "plot_pred = model_plotting.predict(antigens)\n",
        "\n",
        "plot_pred[0:2]"
      ],
      "execution_count": null,
      "outputs": [
        {
          "output_type": "stream",
          "name": "stdout",
          "text": [
            "22/22 [==============================] - 3s 56ms/step\n"
          ]
        },
        {
          "output_type": "execute_result",
          "data": {
            "text/plain": [
              "array([[-13.895097 ,  -9.185564 , -22.840826 ],\n",
              "       [ -6.2969003,  -3.7035482, -13.73841  ]], dtype=float32)"
            ]
          },
          "metadata": {},
          "execution_count": 141
        }
      ]
    },
    {
      "cell_type": "code",
      "metadata": {
        "colab": {
          "base_uri": "https://localhost:8080/"
        },
        "id": "8xos-O5C9tmA",
        "outputId": "e4f3e177-4b5e-4057-92f9-6af8498aabab"
      },
      "source": [
        "from matplotlib import cm\n",
        "cmap_d = cm._gen_cmap_d()\n",
        "\n",
        "print(cmap_d.keys())"
      ],
      "execution_count": null,
      "outputs": [
        {
          "output_type": "stream",
          "name": "stdout",
          "text": [
            "dict_keys(['magma', 'inferno', 'plasma', 'viridis', 'cividis', 'twilight', 'twilight_shifted', 'Blues', 'BrBG', 'BuGn', 'BuPu', 'CMRmap', 'GnBu', 'Greens', 'Greys', 'OrRd', 'Oranges', 'PRGn', 'PiYG', 'PuBu', 'PuBuGn', 'PuOr', 'PuRd', 'Purples', 'RdBu', 'RdGy', 'RdPu', 'RdYlBu', 'RdYlGn', 'Reds', 'Spectral', 'Wistia', 'YlGn', 'YlGnBu', 'YlOrBr', 'YlOrRd', 'afmhot', 'autumn', 'binary', 'bone', 'brg', 'bwr', 'cool', 'coolwarm', 'copper', 'cubehelix', 'flag', 'gist_earth', 'gist_gray', 'gist_heat', 'gist_ncar', 'gist_rainbow', 'gist_stern', 'gist_yarg', 'gnuplot', 'gnuplot2', 'gray', 'hot', 'hsv', 'jet', 'nipy_spectral', 'ocean', 'pink', 'prism', 'rainbow', 'seismic', 'spring', 'summer', 'terrain', 'winter', 'Accent', 'Dark2', 'Paired', 'Pastel1', 'Pastel2', 'Set1', 'Set2', 'Set3', 'tab10', 'tab20', 'tab20b', 'tab20c', 'magma_r', 'inferno_r', 'plasma_r', 'viridis_r', 'cividis_r', 'twilight_r', 'twilight_shifted_r', 'Blues_r', 'BrBG_r', 'BuGn_r', 'BuPu_r', 'CMRmap_r', 'GnBu_r', 'Greens_r', 'Greys_r', 'OrRd_r', 'Oranges_r', 'PRGn_r', 'PiYG_r', 'PuBu_r', 'PuBuGn_r', 'PuOr_r', 'PuRd_r', 'Purples_r', 'RdBu_r', 'RdGy_r', 'RdPu_r', 'RdYlBu_r', 'RdYlGn_r', 'Reds_r', 'Spectral_r', 'Wistia_r', 'YlGn_r', 'YlGnBu_r', 'YlOrBr_r', 'YlOrRd_r', 'afmhot_r', 'autumn_r', 'binary_r', 'bone_r', 'brg_r', 'bwr_r', 'cool_r', 'coolwarm_r', 'copper_r', 'cubehelix_r', 'flag_r', 'gist_earth_r', 'gist_gray_r', 'gist_heat_r', 'gist_ncar_r', 'gist_rainbow_r', 'gist_stern_r', 'gist_yarg_r', 'gnuplot_r', 'gnuplot2_r', 'gray_r', 'hot_r', 'hsv_r', 'jet_r', 'nipy_spectral_r', 'ocean_r', 'pink_r', 'prism_r', 'rainbow_r', 'seismic_r', 'spring_r', 'summer_r', 'terrain_r', 'winter_r', 'Accent_r', 'Dark2_r', 'Paired_r', 'Pastel1_r', 'Pastel2_r', 'Set1_r', 'Set2_r', 'Set3_r', 'tab10_r', 'tab20_r', 'tab20b_r', 'tab20c_r'])\n"
          ]
        }
      ]
    },
    {
      "cell_type": "code",
      "metadata": {
        "colab": {
          "base_uri": "https://localhost:8080/",
          "height": 683
        },
        "id": "WsMBmC1B0Q-W",
        "outputId": "d1ce83d0-af8a-4a3d-81f0-19f68d744721"
      },
      "source": [
        "import matplotlib as mpl\n",
        "x, y, z = plot_pred[:, 0], plot_pred[:, 1], plot_pred[:, 2]\n",
        "\n",
        "# Black Style\n",
        "# plt.style.use('dark_background')\n",
        "plt.style.use('seaborn')\n",
        "\n",
        "# Creating figure\n",
        "fig = plt.figure(figsize = (15, 12))\n",
        "ax = plt.axes(projection =\"3d\")\n",
        "\n",
        "\n",
        "fig.patch.set_facecolor('white')\n",
        "fig.patch.set_alpha(0.0)\n",
        "\n",
        "ax.patch.set_facecolor('white')\n",
        "ax.patch.set_alpha(0.0)\n",
        "\n",
        "color = (0.5, 0.5, 0.5, 0.5)\n",
        "\n",
        "ax.w_xaxis.set_pane_color(color)\n",
        "ax.w_yaxis.set_pane_color(color)\n",
        "ax.w_zaxis.set_pane_color(color)\n",
        "\n",
        "# Creating color map\n",
        "my_cmap = cmap_d['hot']\n",
        "# my_cmap = cmap_d['afmhot']\n",
        "# my_cmap = cmap_d['Spectral']\n",
        "# my_cmap = cmap_d['coolwarm']\n",
        "\n",
        "\n",
        "# Creating plot\n",
        "scat = ax.scatter3D(x, y, z, c=Y_pred, alpha = 0.5, s=50, cmap=my_cmap)\n",
        "\n",
        "ax.set_xlabel('X-axis', fontweight ='bold')\n",
        "ax.set_ylabel('Y-axis', fontweight ='bold')\n",
        "ax.set_zlabel('Z-axis', fontweight ='bold')\n",
        "ax.view_init(15, 35)\n",
        "fig.colorbar(scat, ax = ax, shrink = 0.5, aspect = 5)\n",
        "\n",
        "# show plot\n",
        "plt.show()"
      ],
      "execution_count": null,
      "outputs": [
        {
          "output_type": "display_data",
          "data": {
            "text/plain": [
              "<Figure size 1080x864 with 2 Axes>"
            ],
            "image/png": "[encoded data removed]"
          },
          "metadata": {
            "needs_background": "light"
          }
        }
      ]
    },
    {
      "cell_type": "code",
      "source": [
        "# plt.style.available\n",
        "cmap_d"
      ],
      "metadata": {
        "id": "AMxCQQcoGSZi"
      },
      "execution_count": null,
      "outputs": []
    },
    {
      "cell_type": "code",
      "source": [
        "x, y, z = plot_pred[:, 0], plot_pred[:, 1], plot_pred[:, 2]\n",
        "\n",
        "# Black Style\n",
        "plt.style.use('dark_background')\n",
        "\n",
        "# Creating figure\n",
        "fig = plt.figure(figsize = (10, 7))\n",
        "ax = plt.axes(projection =\"3d\")\n",
        "\n",
        "# Creating color map\n",
        "my_cmap = cmap_d['hot']\n",
        "# my_cmap = cmap_d['afmhot']\n",
        "# my_cmap = cmap_d['Spectral']\n",
        "\n",
        "# Creating plot\n",
        "scat = ax.scatter3D(x, y, z, c=Y_pred, alpha = 0.5, s=50, cmap=my_cmap)\n",
        "\n",
        "ax.set_xlabel('X-axis', fontweight ='bold')\n",
        "ax.set_ylabel('Y-axis', fontweight ='bold')\n",
        "ax.set_zlabel('Z-axis', fontweight ='bold')\n",
        "ax.view_init(15, 45)\n",
        "fig.colorbar(scat, ax = ax, shrink = 0.5, aspect = 5)\n",
        "\n",
        "# show plot\n",
        "plt.show()"
      ],
      "metadata": {
        "colab": {
          "base_uri": "https://localhost:8080/",
          "height": 411
        },
        "id": "vwhQuaju0cUI",
        "outputId": "c1b53363-0eb9-445b-e769-239c32b29745"
      },
      "execution_count": null,
      "outputs": [
        {
          "output_type": "display_data",
          "data": {
            "text/plain": [
              "<Figure size 720x504 with 2 Axes>"
            ],
            "image/png": "[encoded data removed]"
          },
          "metadata": {}
        }
      ]
    },
    {
      "cell_type": "code",
      "metadata": {
        "id": "dNzaONht08Ba",
        "colab": {
          "base_uri": "https://localhost:8080/",
          "height": 471
        },
        "outputId": "d0e3e101-0609-429b-ffe0-3fa122c668e8"
      },
      "source": [
        "from matplotlib import animation\n",
        "\n",
        "def init():\n",
        "    scat = ax.scatter3D(x, y, z, c=Y_pred, alpha = 0.5, s=50, cmap=my_cmap)\n",
        "    return fig,\n",
        "\n",
        "def animate(i):\n",
        "    ax.view_init(elev=15., azim=i)\n",
        "    return fig,\n",
        "\n",
        "\n",
        "# Animate\n",
        "anim = animation.FuncAnimation(fig, animate, init_func=init,\n",
        "                               frames=360, interval=20, blit=True)\n",
        "\n",
        "\n",
        "anim.save('basic_animation.mp4', fps=30, extra_args=['-vcodec', 'libx264'])"
      ],
      "execution_count": null,
      "outputs": [
        {
          "output_type": "error",
          "ename": "CalledProcessError",
          "evalue": "ignored",
          "traceback": [
            "\u001b[0;31m---------------------------------------------------------------------------\u001b[0m",
            "\u001b[0;31mKeyboardInterrupt\u001b[0m                         Traceback (most recent call last)",
            "\u001b[0;32m/usr/local/lib/python3.8/dist-packages/matplotlib/animation.py\u001b[0m in \u001b[0;36msaving\u001b[0;34m(self, fig, outfile, dpi, *args, **kwargs)\u001b[0m\n\u001b[1;32m    229\u001b[0m         \u001b[0;32mtry\u001b[0m\u001b[0;34m:\u001b[0m\u001b[0;34m\u001b[0m\u001b[0;34m\u001b[0m\u001b[0m\n\u001b[0;32m--> 230\u001b[0;31m             \u001b[0;32myield\u001b[0m \u001b[0mself\u001b[0m\u001b[0;34m\u001b[0m\u001b[0;34m\u001b[0m\u001b[0m\n\u001b[0m\u001b[1;32m    231\u001b[0m         \u001b[0;32mfinally\u001b[0m\u001b[0;34m:\u001b[0m\u001b[0;34m\u001b[0m\u001b[0;34m\u001b[0m\u001b[0m\n",
            "\u001b[0;32m/usr/local/lib/python3.8/dist-packages/matplotlib/animation.py\u001b[0m in \u001b[0;36msave\u001b[0;34m(self, filename, writer, fps, dpi, codec, bitrate, extra_args, metadata, extra_anim, savefig_kwargs, progress_callback)\u001b[0m\n\u001b[1;32m   1147\u001b[0m                         \u001b[0;31m# TODO: See if turning off blit is really necessary\u001b[0m\u001b[0;34m\u001b[0m\u001b[0;34m\u001b[0m\u001b[0;34m\u001b[0m\u001b[0m\n\u001b[0;32m-> 1148\u001b[0;31m                         \u001b[0manim\u001b[0m\u001b[0;34m.\u001b[0m\u001b[0m_draw_next_frame\u001b[0m\u001b[0;34m(\u001b[0m\u001b[0md\u001b[0m\u001b[0;34m,\u001b[0m \u001b[0mblit\u001b[0m\u001b[0;34m=\u001b[0m\u001b[0;32mFalse\u001b[0m\u001b[0;34m)\u001b[0m\u001b[0;34m\u001b[0m\u001b[0;34m\u001b[0m\u001b[0m\n\u001b[0m\u001b[1;32m   1149\u001b[0m                         \u001b[0;32mif\u001b[0m \u001b[0mprogress_callback\u001b[0m \u001b[0;32mis\u001b[0m \u001b[0;32mnot\u001b[0m \u001b[0;32mNone\u001b[0m\u001b[0;34m:\u001b[0m\u001b[0;34m\u001b[0m\u001b[0;34m\u001b[0m\u001b[0m\n",
            "\u001b[0;32m/usr/local/lib/python3.8/dist-packages/matplotlib/animation.py\u001b[0m in \u001b[0;36mgrab_frame\u001b[0;34m(self, **savefig_kwargs)\u001b[0m\n\u001b[1;32m    383\u001b[0m         \u001b[0;31m# frame format and dpi.\u001b[0m\u001b[0;34m\u001b[0m\u001b[0;34m\u001b[0m\u001b[0;34m\u001b[0m\u001b[0m\n\u001b[0;32m--> 384\u001b[0;31m         self.fig.savefig(self._frame_sink(), format=self.frame_format,\n\u001b[0m\u001b[1;32m    385\u001b[0m                          dpi=self.dpi, **savefig_kwargs)\n",
            "\u001b[0;32m/usr/local/lib/python3.8/dist-packages/matplotlib/figure.py\u001b[0m in \u001b[0;36msavefig\u001b[0;34m(self, fname, transparent, **kwargs)\u001b[0m\n\u001b[1;32m   2202\u001b[0m \u001b[0;34m\u001b[0m\u001b[0m\n\u001b[0;32m-> 2203\u001b[0;31m         \u001b[0mself\u001b[0m\u001b[0;34m.\u001b[0m\u001b[0mcanvas\u001b[0m\u001b[0;34m.\u001b[0m\u001b[0mprint_figure\u001b[0m\u001b[0;34m(\u001b[0m\u001b[0mfname\u001b[0m\u001b[0;34m,\u001b[0m \u001b[0;34m**\u001b[0m\u001b[0mkwargs\u001b[0m\u001b[0;34m)\u001b[0m\u001b[0;34m\u001b[0m\u001b[0;34m\u001b[0m\u001b[0m\n\u001b[0m\u001b[1;32m   2204\u001b[0m \u001b[0;34m\u001b[0m\u001b[0m\n",
            "\u001b[0;32m/usr/local/lib/python3.8/dist-packages/matplotlib/backend_bases.py\u001b[0m in \u001b[0;36mprint_figure\u001b[0;34m(self, filename, dpi, facecolor, edgecolor, orientation, format, bbox_inches, **kwargs)\u001b[0m\n\u001b[1;32m   2118\u001b[0m             \u001b[0;32mtry\u001b[0m\u001b[0;34m:\u001b[0m\u001b[0;34m\u001b[0m\u001b[0;34m\u001b[0m\u001b[0m\n\u001b[0;32m-> 2119\u001b[0;31m                 result = print_method(\n\u001b[0m\u001b[1;32m   2120\u001b[0m                     \u001b[0mfilename\u001b[0m\u001b[0;34m,\u001b[0m\u001b[0;34m\u001b[0m\u001b[0;34m\u001b[0m\u001b[0m\n",
            "\u001b[0;32m/usr/local/lib/python3.8/dist-packages/matplotlib/backends/backend_agg.py\u001b[0m in \u001b[0;36mprint_raw\u001b[0;34m(self, filename_or_obj, *args, **kwargs)\u001b[0m\n\u001b[1;32m    446\u001b[0m     \u001b[0;32mdef\u001b[0m \u001b[0mprint_raw\u001b[0m\u001b[0;34m(\u001b[0m\u001b[0mself\u001b[0m\u001b[0;34m,\u001b[0m \u001b[0mfilename_or_obj\u001b[0m\u001b[0;34m,\u001b[0m \u001b[0;34m*\u001b[0m\u001b[0margs\u001b[0m\u001b[0;34m,\u001b[0m \u001b[0;34m**\u001b[0m\u001b[0mkwargs\u001b[0m\u001b[0;34m)\u001b[0m\u001b[0;34m:\u001b[0m\u001b[0;34m\u001b[0m\u001b[0;34m\u001b[0m\u001b[0m\n\u001b[0;32m--> 447\u001b[0;31m         \u001b[0mFigureCanvasAgg\u001b[0m\u001b[0;34m.\u001b[0m\u001b[0mdraw\u001b[0m\u001b[0;34m(\u001b[0m\u001b[0mself\u001b[0m\u001b[0;34m)\u001b[0m\u001b[0;34m\u001b[0m\u001b[0;34m\u001b[0m\u001b[0m\n\u001b[0m\u001b[1;32m    448\u001b[0m         \u001b[0mrenderer\u001b[0m \u001b[0;34m=\u001b[0m \u001b[0mself\u001b[0m\u001b[0;34m.\u001b[0m\u001b[0mget_renderer\u001b[0m\u001b[0;34m(\u001b[0m\u001b[0;34m)\u001b[0m\u001b[0;34m\u001b[0m\u001b[0;34m\u001b[0m\u001b[0m\n",
            "\u001b[0;32m/usr/local/lib/python3.8/dist-packages/matplotlib/backends/backend_agg.py\u001b[0m in \u001b[0;36mdraw\u001b[0;34m(self)\u001b[0m\n\u001b[1;32m    392\u001b[0m               else nullcontext()):\n\u001b[0;32m--> 393\u001b[0;31m             \u001b[0mself\u001b[0m\u001b[0;34m.\u001b[0m\u001b[0mfigure\u001b[0m\u001b[0;34m.\u001b[0m\u001b[0mdraw\u001b[0m\u001b[0;34m(\u001b[0m\u001b[0mself\u001b[0m\u001b[0;34m.\u001b[0m\u001b[0mrenderer\u001b[0m\u001b[0;34m)\u001b[0m\u001b[0;34m\u001b[0m\u001b[0;34m\u001b[0m\u001b[0m\n\u001b[0m\u001b[1;32m    394\u001b[0m             \u001b[0;31m# A GUI class may be need to update a window using this draw, so\u001b[0m\u001b[0;34m\u001b[0m\u001b[0;34m\u001b[0m\u001b[0;34m\u001b[0m\u001b[0m\n",
            "\u001b[0;32m/usr/local/lib/python3.8/dist-packages/matplotlib/artist.py\u001b[0m in \u001b[0;36mdraw_wrapper\u001b[0;34m(artist, renderer, *args, **kwargs)\u001b[0m\n\u001b[1;32m     37\u001b[0m \u001b[0;34m\u001b[0m\u001b[0m\n\u001b[0;32m---> 38\u001b[0;31m             \u001b[0;32mreturn\u001b[0m \u001b[0mdraw\u001b[0m\u001b[0;34m(\u001b[0m\u001b[0martist\u001b[0m\u001b[0;34m,\u001b[0m \u001b[0mrenderer\u001b[0m\u001b[0;34m,\u001b[0m \u001b[0;34m*\u001b[0m\u001b[0margs\u001b[0m\u001b[0;34m,\u001b[0m \u001b[0;34m**\u001b[0m\u001b[0mkwargs\u001b[0m\u001b[0;34m)\u001b[0m\u001b[0;34m\u001b[0m\u001b[0;34m\u001b[0m\u001b[0m\n\u001b[0m\u001b[1;32m     39\u001b[0m         \u001b[0;32mfinally\u001b[0m\u001b[0;34m:\u001b[0m\u001b[0;34m\u001b[0m\u001b[0;34m\u001b[0m\u001b[0m\n",
            "\u001b[0;32m/usr/local/lib/python3.8/dist-packages/matplotlib/figure.py\u001b[0m in \u001b[0;36mdraw\u001b[0;34m(self, renderer)\u001b[0m\n\u001b[1;32m   1734\u001b[0m             \u001b[0mself\u001b[0m\u001b[0;34m.\u001b[0m\u001b[0mpatch\u001b[0m\u001b[0;34m.\u001b[0m\u001b[0mdraw\u001b[0m\u001b[0;34m(\u001b[0m\u001b[0mrenderer\u001b[0m\u001b[0;34m)\u001b[0m\u001b[0;34m\u001b[0m\u001b[0;34m\u001b[0m\u001b[0m\n\u001b[0;32m-> 1735\u001b[0;31m             mimage._draw_list_compositing_images(\n\u001b[0m\u001b[1;32m   1736\u001b[0m                 renderer, self, artists, self.suppressComposite)\n",
            "\u001b[0;32m/usr/local/lib/python3.8/dist-packages/matplotlib/image.py\u001b[0m in \u001b[0;36m_draw_list_compositing_images\u001b[0;34m(renderer, parent, artists, suppress_composite)\u001b[0m\n\u001b[1;32m    136\u001b[0m         \u001b[0;32mfor\u001b[0m \u001b[0ma\u001b[0m \u001b[0;32min\u001b[0m \u001b[0martists\u001b[0m\u001b[0;34m:\u001b[0m\u001b[0;34m\u001b[0m\u001b[0;34m\u001b[0m\u001b[0m\n\u001b[0;32m--> 137\u001b[0;31m             \u001b[0ma\u001b[0m\u001b[0;34m.\u001b[0m\u001b[0mdraw\u001b[0m\u001b[0;34m(\u001b[0m\u001b[0mrenderer\u001b[0m\u001b[0;34m)\u001b[0m\u001b[0;34m\u001b[0m\u001b[0;34m\u001b[0m\u001b[0m\n\u001b[0m\u001b[1;32m    138\u001b[0m     \u001b[0;32melse\u001b[0m\u001b[0;34m:\u001b[0m\u001b[0;34m\u001b[0m\u001b[0;34m\u001b[0m\u001b[0m\n",
            "\u001b[0;32m/usr/local/lib/python3.8/dist-packages/matplotlib/artist.py\u001b[0m in \u001b[0;36mdraw_wrapper\u001b[0;34m(artist, renderer, *args, **kwargs)\u001b[0m\n\u001b[1;32m     37\u001b[0m \u001b[0;34m\u001b[0m\u001b[0m\n\u001b[0;32m---> 38\u001b[0;31m             \u001b[0;32mreturn\u001b[0m \u001b[0mdraw\u001b[0m\u001b[0;34m(\u001b[0m\u001b[0martist\u001b[0m\u001b[0;34m,\u001b[0m \u001b[0mrenderer\u001b[0m\u001b[0;34m,\u001b[0m \u001b[0;34m*\u001b[0m\u001b[0margs\u001b[0m\u001b[0;34m,\u001b[0m \u001b[0;34m**\u001b[0m\u001b[0mkwargs\u001b[0m\u001b[0;34m)\u001b[0m\u001b[0;34m\u001b[0m\u001b[0;34m\u001b[0m\u001b[0m\n\u001b[0m\u001b[1;32m     39\u001b[0m         \u001b[0;32mfinally\u001b[0m\u001b[0;34m:\u001b[0m\u001b[0;34m\u001b[0m\u001b[0;34m\u001b[0m\u001b[0m\n",
            "\u001b[0;32m/usr/local/lib/python3.8/dist-packages/mpl_toolkits/mplot3d/axes3d.py\u001b[0m in \u001b[0;36mdraw\u001b[0;34m(self, renderer)\u001b[0m\n\u001b[1;32m    309\u001b[0m         \u001b[0;31m# Then rest\u001b[0m\u001b[0;34m\u001b[0m\u001b[0;34m\u001b[0m\u001b[0;34m\u001b[0m\u001b[0m\n\u001b[0;32m--> 310\u001b[0;31m         \u001b[0msuper\u001b[0m\u001b[0;34m(\u001b[0m\u001b[0;34m)\u001b[0m\u001b[0;34m.\u001b[0m\u001b[0mdraw\u001b[0m\u001b[0;34m(\u001b[0m\u001b[0mrenderer\u001b[0m\u001b[0;34m)\u001b[0m\u001b[0;34m\u001b[0m\u001b[0;34m\u001b[0m\u001b[0m\n\u001b[0m\u001b[1;32m    311\u001b[0m \u001b[0;34m\u001b[0m\u001b[0m\n",
            "\u001b[0;32m/usr/local/lib/python3.8/dist-packages/matplotlib/artist.py\u001b[0m in \u001b[0;36mdraw_wrapper\u001b[0;34m(artist, renderer, *args, **kwargs)\u001b[0m\n\u001b[1;32m     37\u001b[0m \u001b[0;34m\u001b[0m\u001b[0m\n\u001b[0;32m---> 38\u001b[0;31m             \u001b[0;32mreturn\u001b[0m \u001b[0mdraw\u001b[0m\u001b[0;34m(\u001b[0m\u001b[0martist\u001b[0m\u001b[0;34m,\u001b[0m \u001b[0mrenderer\u001b[0m\u001b[0;34m,\u001b[0m \u001b[0;34m*\u001b[0m\u001b[0margs\u001b[0m\u001b[0;34m,\u001b[0m \u001b[0;34m**\u001b[0m\u001b[0mkwargs\u001b[0m\u001b[0;34m)\u001b[0m\u001b[0;34m\u001b[0m\u001b[0;34m\u001b[0m\u001b[0m\n\u001b[0m\u001b[1;32m     39\u001b[0m         \u001b[0;32mfinally\u001b[0m\u001b[0;34m:\u001b[0m\u001b[0;34m\u001b[0m\u001b[0;34m\u001b[0m\u001b[0m\n",
            "\u001b[0;32m/usr/local/lib/python3.8/dist-packages/matplotlib/axes/_base.py\u001b[0m in \u001b[0;36mdraw\u001b[0;34m(self, renderer, inframe)\u001b[0m\n\u001b[1;32m   2629\u001b[0m \u001b[0;34m\u001b[0m\u001b[0m\n\u001b[0;32m-> 2630\u001b[0;31m         \u001b[0mmimage\u001b[0m\u001b[0;34m.\u001b[0m\u001b[0m_draw_list_compositing_images\u001b[0m\u001b[0;34m(\u001b[0m\u001b[0mrenderer\u001b[0m\u001b[0;34m,\u001b[0m \u001b[0mself\u001b[0m\u001b[0;34m,\u001b[0m \u001b[0martists\u001b[0m\u001b[0;34m)\u001b[0m\u001b[0;34m\u001b[0m\u001b[0;34m\u001b[0m\u001b[0m\n\u001b[0m\u001b[1;32m   2631\u001b[0m \u001b[0;34m\u001b[0m\u001b[0m\n",
            "\u001b[0;32m/usr/local/lib/python3.8/dist-packages/matplotlib/image.py\u001b[0m in \u001b[0;36m_draw_list_compositing_images\u001b[0;34m(renderer, parent, artists, suppress_composite)\u001b[0m\n\u001b[1;32m    136\u001b[0m         \u001b[0;32mfor\u001b[0m \u001b[0ma\u001b[0m \u001b[0;32min\u001b[0m \u001b[0martists\u001b[0m\u001b[0;34m:\u001b[0m\u001b[0;34m\u001b[0m\u001b[0;34m\u001b[0m\u001b[0m\n\u001b[0;32m--> 137\u001b[0;31m             \u001b[0ma\u001b[0m\u001b[0;34m.\u001b[0m\u001b[0mdraw\u001b[0m\u001b[0;34m(\u001b[0m\u001b[0mrenderer\u001b[0m\u001b[0;34m)\u001b[0m\u001b[0;34m\u001b[0m\u001b[0;34m\u001b[0m\u001b[0m\n\u001b[0m\u001b[1;32m    138\u001b[0m     \u001b[0;32melse\u001b[0m\u001b[0;34m:\u001b[0m\u001b[0;34m\u001b[0m\u001b[0;34m\u001b[0m\u001b[0m\n",
            "\u001b[0;32m/usr/local/lib/python3.8/dist-packages/matplotlib/artist.py\u001b[0m in \u001b[0;36mdraw_wrapper\u001b[0;34m(artist, renderer, *args, **kwargs)\u001b[0m\n\u001b[1;32m     37\u001b[0m \u001b[0;34m\u001b[0m\u001b[0m\n\u001b[0;32m---> 38\u001b[0;31m             \u001b[0;32mreturn\u001b[0m \u001b[0mdraw\u001b[0m\u001b[0;34m(\u001b[0m\u001b[0martist\u001b[0m\u001b[0;34m,\u001b[0m \u001b[0mrenderer\u001b[0m\u001b[0;34m,\u001b[0m \u001b[0;34m*\u001b[0m\u001b[0margs\u001b[0m\u001b[0;34m,\u001b[0m \u001b[0;34m**\u001b[0m\u001b[0mkwargs\u001b[0m\u001b[0;34m)\u001b[0m\u001b[0;34m\u001b[0m\u001b[0;34m\u001b[0m\u001b[0m\n\u001b[0m\u001b[1;32m     39\u001b[0m         \u001b[0;32mfinally\u001b[0m\u001b[0;34m:\u001b[0m\u001b[0;34m\u001b[0m\u001b[0;34m\u001b[0m\u001b[0m\n",
            "\u001b[0;32m/usr/local/lib/python3.8/dist-packages/matplotlib/collections.py\u001b[0m in \u001b[0;36mdraw\u001b[0;34m(self, renderer)\u001b[0m\n\u001b[1;32m    893\u001b[0m         \u001b[0mself\u001b[0m\u001b[0;34m.\u001b[0m\u001b[0mset_sizes\u001b[0m\u001b[0;34m(\u001b[0m\u001b[0mself\u001b[0m\u001b[0;34m.\u001b[0m\u001b[0m_sizes\u001b[0m\u001b[0;34m,\u001b[0m \u001b[0mself\u001b[0m\u001b[0;34m.\u001b[0m\u001b[0mfigure\u001b[0m\u001b[0;34m.\u001b[0m\u001b[0mdpi\u001b[0m\u001b[0;34m)\u001b[0m\u001b[0;34m\u001b[0m\u001b[0;34m\u001b[0m\u001b[0m\n\u001b[0;32m--> 894\u001b[0;31m         \u001b[0mCollection\u001b[0m\u001b[0;34m.\u001b[0m\u001b[0mdraw\u001b[0m\u001b[0;34m(\u001b[0m\u001b[0mself\u001b[0m\u001b[0;34m,\u001b[0m \u001b[0mrenderer\u001b[0m\u001b[0;34m)\u001b[0m\u001b[0;34m\u001b[0m\u001b[0;34m\u001b[0m\u001b[0m\n\u001b[0m\u001b[1;32m    895\u001b[0m \u001b[0;34m\u001b[0m\u001b[0m\n",
            "\u001b[0;32m/usr/local/lib/python3.8/dist-packages/matplotlib/artist.py\u001b[0m in \u001b[0;36mdraw_wrapper\u001b[0;34m(artist, renderer, *args, **kwargs)\u001b[0m\n\u001b[1;32m     37\u001b[0m \u001b[0;34m\u001b[0m\u001b[0m\n\u001b[0;32m---> 38\u001b[0;31m             \u001b[0;32mreturn\u001b[0m \u001b[0mdraw\u001b[0m\u001b[0;34m(\u001b[0m\u001b[0martist\u001b[0m\u001b[0;34m,\u001b[0m \u001b[0mrenderer\u001b[0m\u001b[0;34m,\u001b[0m \u001b[0;34m*\u001b[0m\u001b[0margs\u001b[0m\u001b[0;34m,\u001b[0m \u001b[0;34m**\u001b[0m\u001b[0mkwargs\u001b[0m\u001b[0;34m)\u001b[0m\u001b[0;34m\u001b[0m\u001b[0;34m\u001b[0m\u001b[0m\n\u001b[0m\u001b[1;32m     39\u001b[0m         \u001b[0;32mfinally\u001b[0m\u001b[0;34m:\u001b[0m\u001b[0;34m\u001b[0m\u001b[0;34m\u001b[0m\u001b[0m\n",
            "\u001b[0;32m/usr/local/lib/python3.8/dist-packages/matplotlib/collections.py\u001b[0m in \u001b[0;36mdraw\u001b[0;34m(self, renderer)\u001b[0m\n\u001b[1;32m    362\u001b[0m         \u001b[0;32melse\u001b[0m\u001b[0;34m:\u001b[0m\u001b[0;34m\u001b[0m\u001b[0;34m\u001b[0m\u001b[0m\n\u001b[0;32m--> 363\u001b[0;31m             renderer.draw_path_collection(\n\u001b[0m\u001b[1;32m    364\u001b[0m                 \u001b[0mgc\u001b[0m\u001b[0;34m,\u001b[0m \u001b[0mtransform\u001b[0m\u001b[0;34m.\u001b[0m\u001b[0mfrozen\u001b[0m\u001b[0;34m(\u001b[0m\u001b[0;34m)\u001b[0m\u001b[0;34m,\u001b[0m \u001b[0mpaths\u001b[0m\u001b[0;34m,\u001b[0m\u001b[0;34m\u001b[0m\u001b[0;34m\u001b[0m\u001b[0m\n",
            "\u001b[0;32m/usr/local/lib/python3.8/dist-packages/matplotlib/path.py\u001b[0m in \u001b[0;36mvertices\u001b[0;34m(self)\u001b[0m\n\u001b[1;32m    196\u001b[0m \u001b[0;34m\u001b[0m\u001b[0m\n\u001b[0;32m--> 197\u001b[0;31m     \u001b[0;34m@\u001b[0m\u001b[0mproperty\u001b[0m\u001b[0;34m\u001b[0m\u001b[0;34m\u001b[0m\u001b[0m\n\u001b[0m\u001b[1;32m    198\u001b[0m     \u001b[0;32mdef\u001b[0m \u001b[0mvertices\u001b[0m\u001b[0;34m(\u001b[0m\u001b[0mself\u001b[0m\u001b[0;34m)\u001b[0m\u001b[0;34m:\u001b[0m\u001b[0;34m\u001b[0m\u001b[0;34m\u001b[0m\u001b[0m\n",
            "\u001b[0;31mKeyboardInterrupt\u001b[0m: ",
            "\nDuring handling of the above exception, another exception occurred:\n",
            "\u001b[0;31mCalledProcessError\u001b[0m                        Traceback (most recent call last)",
            "\u001b[0;32m<ipython-input-146-84f9a190f5f6>\u001b[0m in \u001b[0;36m<module>\u001b[0;34m\u001b[0m\n\u001b[1;32m     15\u001b[0m \u001b[0;34m\u001b[0m\u001b[0m\n\u001b[1;32m     16\u001b[0m \u001b[0;34m\u001b[0m\u001b[0m\n\u001b[0;32m---> 17\u001b[0;31m \u001b[0manim\u001b[0m\u001b[0;34m.\u001b[0m\u001b[0msave\u001b[0m\u001b[0;34m(\u001b[0m\u001b[0;34m'basic_animation.mp4'\u001b[0m\u001b[0;34m,\u001b[0m \u001b[0mfps\u001b[0m\u001b[0;34m=\u001b[0m\u001b[0;36m30\u001b[0m\u001b[0;34m,\u001b[0m \u001b[0mextra_args\u001b[0m\u001b[0;34m=\u001b[0m\u001b[0;34m[\u001b[0m\u001b[0;34m'-vcodec'\u001b[0m\u001b[0;34m,\u001b[0m \u001b[0;34m'libx264'\u001b[0m\u001b[0;34m]\u001b[0m\u001b[0;34m)\u001b[0m\u001b[0;34m\u001b[0m\u001b[0;34m\u001b[0m\u001b[0m\n\u001b[0m",
            "\u001b[0;32m/usr/local/lib/python3.8/dist-packages/matplotlib/animation.py\u001b[0m in \u001b[0;36msave\u001b[0;34m(self, filename, writer, fps, dpi, codec, bitrate, extra_args, metadata, extra_anim, savefig_kwargs, progress_callback)\u001b[0m\n\u001b[1;32m   1146\u001b[0m                     \u001b[0;32mfor\u001b[0m \u001b[0manim\u001b[0m\u001b[0;34m,\u001b[0m \u001b[0md\u001b[0m \u001b[0;32min\u001b[0m \u001b[0mzip\u001b[0m\u001b[0;34m(\u001b[0m\u001b[0mall_anim\u001b[0m\u001b[0;34m,\u001b[0m \u001b[0mdata\u001b[0m\u001b[0;34m)\u001b[0m\u001b[0;34m:\u001b[0m\u001b[0;34m\u001b[0m\u001b[0;34m\u001b[0m\u001b[0m\n\u001b[1;32m   1147\u001b[0m                         \u001b[0;31m# TODO: See if turning off blit is really necessary\u001b[0m\u001b[0;34m\u001b[0m\u001b[0;34m\u001b[0m\u001b[0;34m\u001b[0m\u001b[0m\n\u001b[0;32m-> 1148\u001b[0;31m                         \u001b[0manim\u001b[0m\u001b[0;34m.\u001b[0m\u001b[0m_draw_next_frame\u001b[0m\u001b[0;34m(\u001b[0m\u001b[0md\u001b[0m\u001b[0;34m,\u001b[0m \u001b[0mblit\u001b[0m\u001b[0;34m=\u001b[0m\u001b[0;32mFalse\u001b[0m\u001b[0;34m)\u001b[0m\u001b[0;34m\u001b[0m\u001b[0;34m\u001b[0m\u001b[0m\n\u001b[0m\u001b[1;32m   1149\u001b[0m                         \u001b[0;32mif\u001b[0m \u001b[0mprogress_callback\u001b[0m \u001b[0;32mis\u001b[0m \u001b[0;32mnot\u001b[0m \u001b[0;32mNone\u001b[0m\u001b[0;34m:\u001b[0m\u001b[0;34m\u001b[0m\u001b[0;34m\u001b[0m\u001b[0m\n\u001b[1;32m   1150\u001b[0m                             \u001b[0mprogress_callback\u001b[0m\u001b[0;34m(\u001b[0m\u001b[0mframe_number\u001b[0m\u001b[0;34m,\u001b[0m \u001b[0mtotal_frames\u001b[0m\u001b[0;34m)\u001b[0m\u001b[0;34m\u001b[0m\u001b[0;34m\u001b[0m\u001b[0m\n",
            "\u001b[0;32m/usr/lib/python3.8/contextlib.py\u001b[0m in \u001b[0;36m__exit__\u001b[0;34m(self, type, value, traceback)\u001b[0m\n\u001b[1;32m    129\u001b[0m                 \u001b[0mvalue\u001b[0m \u001b[0;34m=\u001b[0m \u001b[0mtype\u001b[0m\u001b[0;34m(\u001b[0m\u001b[0;34m)\u001b[0m\u001b[0;34m\u001b[0m\u001b[0;34m\u001b[0m\u001b[0m\n\u001b[1;32m    130\u001b[0m             \u001b[0;32mtry\u001b[0m\u001b[0;34m:\u001b[0m\u001b[0;34m\u001b[0m\u001b[0;34m\u001b[0m\u001b[0m\n\u001b[0;32m--> 131\u001b[0;31m                 \u001b[0mself\u001b[0m\u001b[0;34m.\u001b[0m\u001b[0mgen\u001b[0m\u001b[0;34m.\u001b[0m\u001b[0mthrow\u001b[0m\u001b[0;34m(\u001b[0m\u001b[0mtype\u001b[0m\u001b[0;34m,\u001b[0m \u001b[0mvalue\u001b[0m\u001b[0;34m,\u001b[0m \u001b[0mtraceback\u001b[0m\u001b[0;34m)\u001b[0m\u001b[0;34m\u001b[0m\u001b[0;34m\u001b[0m\u001b[0m\n\u001b[0m\u001b[1;32m    132\u001b[0m             \u001b[0;32mexcept\u001b[0m \u001b[0mStopIteration\u001b[0m \u001b[0;32mas\u001b[0m \u001b[0mexc\u001b[0m\u001b[0;34m:\u001b[0m\u001b[0;34m\u001b[0m\u001b[0;34m\u001b[0m\u001b[0m\n\u001b[1;32m    133\u001b[0m                 \u001b[0;31m# Suppress StopIteration *unless* it's the same exception that\u001b[0m\u001b[0;34m\u001b[0m\u001b[0;34m\u001b[0m\u001b[0;34m\u001b[0m\u001b[0m\n",
            "\u001b[0;32m/usr/local/lib/python3.8/dist-packages/matplotlib/animation.py\u001b[0m in \u001b[0;36msaving\u001b[0;34m(self, fig, outfile, dpi, *args, **kwargs)\u001b[0m\n\u001b[1;32m    230\u001b[0m             \u001b[0;32myield\u001b[0m \u001b[0mself\u001b[0m\u001b[0;34m\u001b[0m\u001b[0;34m\u001b[0m\u001b[0m\n\u001b[1;32m    231\u001b[0m         \u001b[0;32mfinally\u001b[0m\u001b[0;34m:\u001b[0m\u001b[0;34m\u001b[0m\u001b[0;34m\u001b[0m\u001b[0m\n\u001b[0;32m--> 232\u001b[0;31m             \u001b[0mself\u001b[0m\u001b[0;34m.\u001b[0m\u001b[0mfinish\u001b[0m\u001b[0;34m(\u001b[0m\u001b[0;34m)\u001b[0m\u001b[0;34m\u001b[0m\u001b[0;34m\u001b[0m\u001b[0m\n\u001b[0m\u001b[1;32m    233\u001b[0m \u001b[0;34m\u001b[0m\u001b[0m\n\u001b[1;32m    234\u001b[0m \u001b[0;34m\u001b[0m\u001b[0m\n",
            "\u001b[0;32m/usr/local/lib/python3.8/dist-packages/matplotlib/animation.py\u001b[0m in \u001b[0;36mfinish\u001b[0;34m(self)\u001b[0m\n\u001b[1;32m    366\u001b[0m     \u001b[0;32mdef\u001b[0m \u001b[0mfinish\u001b[0m\u001b[0;34m(\u001b[0m\u001b[0mself\u001b[0m\u001b[0;34m)\u001b[0m\u001b[0;34m:\u001b[0m\u001b[0;34m\u001b[0m\u001b[0;34m\u001b[0m\u001b[0m\n\u001b[1;32m    367\u001b[0m         \u001b[0;34m'''Finish any processing for writing the movie.'''\u001b[0m\u001b[0;34m\u001b[0m\u001b[0;34m\u001b[0m\u001b[0m\n\u001b[0;32m--> 368\u001b[0;31m         \u001b[0mself\u001b[0m\u001b[0;34m.\u001b[0m\u001b[0mcleanup\u001b[0m\u001b[0;34m(\u001b[0m\u001b[0;34m)\u001b[0m\u001b[0;34m\u001b[0m\u001b[0;34m\u001b[0m\u001b[0m\n\u001b[0m\u001b[1;32m    369\u001b[0m \u001b[0;34m\u001b[0m\u001b[0m\n\u001b[1;32m    370\u001b[0m     \u001b[0;32mdef\u001b[0m \u001b[0mgrab_frame\u001b[0m\u001b[0;34m(\u001b[0m\u001b[0mself\u001b[0m\u001b[0;34m,\u001b[0m \u001b[0;34m**\u001b[0m\u001b[0msavefig_kwargs\u001b[0m\u001b[0;34m)\u001b[0m\u001b[0;34m:\u001b[0m\u001b[0;34m\u001b[0m\u001b[0;34m\u001b[0m\u001b[0m\n",
            "\u001b[0;32m/usr/local/lib/python3.8/dist-packages/matplotlib/animation.py\u001b[0m in \u001b[0;36mcleanup\u001b[0;34m(self)\u001b[0m\n\u001b[1;32m    409\u001b[0m                 \"MovieWriter stderr:\\n%s\", err)\n\u001b[1;32m    410\u001b[0m         \u001b[0;32mif\u001b[0m \u001b[0mself\u001b[0m\u001b[0;34m.\u001b[0m\u001b[0m_proc\u001b[0m\u001b[0;34m.\u001b[0m\u001b[0mreturncode\u001b[0m\u001b[0;34m:\u001b[0m\u001b[0;34m\u001b[0m\u001b[0;34m\u001b[0m\u001b[0m\n\u001b[0;32m--> 411\u001b[0;31m             raise subprocess.CalledProcessError(\n\u001b[0m\u001b[1;32m    412\u001b[0m                 self._proc.returncode, self._proc.args, out, err)\n\u001b[1;32m    413\u001b[0m \u001b[0;34m\u001b[0m\u001b[0m\n",
            "\u001b[0;31mCalledProcessError\u001b[0m: Command '['ffmpeg', '-f', 'rawvideo', '-vcodec', 'rawvideo', '-s', '720x504', '-pix_fmt', 'rgba', '-r', '30', '-loglevel', 'error', '-i', 'pipe:', '-vcodec', 'h264', '-pix_fmt', 'yuv420p', '-vcodec', 'libx264', '-y', 'basic_animation.mp4']' returned non-zero exit status 255."
          ]
        }
      ]
    },
    {
      "cell_type": "code",
      "metadata": {
        "id": "2aHG00YVFbpM"
      },
      "source": [
        "from IPython.display import HTML\n",
        "from base64 import b64encode\n",
        "\n",
        "def show_video(video_path, video_width = 600):\n",
        "\n",
        "  video_file = open(video_path, \"r+b\").read()\n",
        "\n",
        "  video_url = f\"data:video/mp4;base64,{b64encode(video_file).decode()}\"\n",
        "  return HTML(f\"\"\"<video width={video_width} controls><source src=\"{video_url}\"></video>\"\"\")\n",
        "\n",
        "show_video('basic_animation.mp4')"
      ],
      "execution_count": null,
      "outputs": []
    },
    {
      "cell_type": "code",
      "metadata": {
        "id": "hi7SWCH6Fi_Y",
        "colab": {
          "base_uri": "https://localhost:8080/"
        },
        "outputId": "8e85c7ad-b7d7-420a-c337-73c355c262ec"
      },
      "source": [
        "model_attn = tf.keras.Sequential([\n",
        "    bi_lstm,\n",
        "    d_1,\n",
        "    d_2,\n",
        "    d_3\n",
        "])\n",
        "\n",
        "plot_pred = model_attn.predict(antigens)\n"
      ],
      "execution_count": null,
      "outputs": [
        {
          "output_type": "stream",
          "name": "stdout",
          "text": [
            "22/22 [==============================] - 43s 21ms/step\n"
          ]
        }
      ]
    },
    {
      "cell_type": "code",
      "source": [
        "attn = antigens[0] @ plot_pred[0]"
      ],
      "metadata": {
        "id": "eht91XvfALOi"
      },
      "execution_count": null,
      "outputs": []
    },
    {
      "cell_type": "code",
      "source": [
        "attn.shape"
      ],
      "metadata": {
        "id": "X_Unz6OcArfA",
        "colab": {
          "base_uri": "https://localhost:8080/"
        },
        "outputId": "c47f9c48-292c-4ff1-8675-0288d189cf97"
      },
      "execution_count": null,
      "outputs": [
        {
          "output_type": "execute_result",
          "data": {
            "text/plain": [
              "(10,)"
            ]
          },
          "metadata": {},
          "execution_count": 150
        }
      ]
    },
    {
      "cell_type": "code",
      "source": [
        "attn"
      ],
      "metadata": {
        "id": "RkprDgXBB1LL",
        "colab": {
          "base_uri": "https://localhost:8080/"
        },
        "outputId": "a653a5b4-be4b-4887-f3c6-fe2603848994"
      },
      "execution_count": null,
      "outputs": [
        {
          "output_type": "execute_result",
          "data": {
            "text/plain": [
              "array([  15.40694145,   46.44363194,   12.86269467,  100.6520281 ,\n",
              "         90.06559598,   11.39630963, -114.86218908,   38.39149626,\n",
              "         12.86269467,   13.05969882])"
            ]
          },
          "metadata": {},
          "execution_count": 151
        }
      ]
    },
    {
      "cell_type": "code",
      "source": [
        "def add_margin(ax,x=0.05,y=0.05):\n",
        "    # This will, by default, add 5% to the x and y margins. You\n",
        "    # can customise this using the x and y arguments when you call it.\n",
        "\n",
        "    xlim = ax.get_xlim()\n",
        "    ylim = ax.get_ylim()\n",
        "\n",
        "    xmargin = (xlim[1]-xlim[0])*x\n",
        "    ymargin = (ylim[1]-ylim[0])*y\n",
        "\n",
        "    ax.set_xlim(xlim[0]-xmargin,xlim[1]+xmargin)\n",
        "    ax.set_ylim(ylim[0]-ymargin,ylim[1]+ymargin)"
      ],
      "metadata": {
        "id": "aLOQZz1xGU88"
      },
      "execution_count": null,
      "outputs": []
    },
    {
      "cell_type": "code",
      "source": [
        "# Smoothing\n",
        "from scipy.ndimage.filters import gaussian_filter\n",
        "\n",
        "def fill_par(x):\n",
        "    ma = max(x)\n",
        "    mi = min(x)\n",
        "    return x / ma\n",
        "\n",
        "for i in range(0, 6):\n",
        "    fig, ax = plt.subplots(figsize = (10, 3))\n",
        "\n",
        "    # Data\n",
        "    attn = fill_par(antigens[i] @ plot_pred[i])\n",
        "    data = np.asarray([attn])\n",
        "    data_smooth = gaussian_filter(data, sigma=1)\n",
        "\n",
        "    # Plot\n",
        "    # ax_ = sns.heatmap(data_smooth, linewidths=.5, ax=ax)\n",
        "    ax_ = sns.heatmap(data, linewidths=.5, ax=ax)\n",
        "    ax_.set_xlabel('Input Sequence')\n",
        "    # ax_.set_ylabel('Attention')\n",
        "    ax_.set_xticklabels(list(unZ(antigens[i])))\n",
        "\n",
        "    add_margin(ax_, 0.1, 2)\n",
        "\n",
        "    plt.title(\"Correlation matrix between Input and Model\")\n",
        "\n",
        "    plt.show()"
      ],
      "metadata": {
        "id": "_JPHfLIYBSTV",
        "colab": {
          "base_uri": "https://localhost:8080/",
          "height": 1000
        },
        "outputId": "d8bba032-86c5-4fde-83dd-8b506d4e1492"
      },
      "execution_count": null,
      "outputs": [
        {
          "output_type": "display_data",
          "data": {
            "text/plain": [
              "<Figure size 720x216 with 2 Axes>"
            ],
            "image/png": "[encoded data removed]"
          },
          "metadata": {}
        },
        {
          "output_type": "display_data",
          "data": {
            "text/plain": [
              "<Figure size 720x216 with 2 Axes>"
            ],
            "image/png": "[encoded data removed]"
          },
          "metadata": {}
        },
        {
          "output_type": "display_data",
          "data": {
            "text/plain": [
              "<Figure size 720x216 with 2 Axes>"
            ],
            "image/png": "[encoded data removed]"
          },
          "metadata": {}
        },
        {
          "output_type": "display_data",
          "data": {
            "text/plain": [
              "<Figure size 720x216 with 2 Axes>"
            ],
            "image/png": "[encoded data removed]"
          },
          "metadata": {}
        },
        {
          "output_type": "display_data",
          "data": {
            "text/plain": [
              "<Figure size 720x216 with 2 Axes>"
            ],
            "image/png": "[encoded data removed]"
          },
          "metadata": {}
        },
        {
          "output_type": "display_data",
          "data": {
            "text/plain": [
              "<Figure size 720x216 with 2 Axes>"
            ],
            "image/png": "[encoded data removed]"
          },
          "metadata": {}
        }
      ]
    },
    {
      "cell_type": "code",
      "source": [],
      "metadata": {
        "id": "J5TTIiUPBcb_"
      },
      "execution_count": null,
      "outputs": []
    }
  ]
}